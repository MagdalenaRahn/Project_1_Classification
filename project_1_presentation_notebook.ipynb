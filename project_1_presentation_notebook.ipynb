{
 "cells": [
  {
   "cell_type": "markdown",
   "id": "0eae5b9c",
   "metadata": {},
   "source": [
    "<h1 style=\"background-color:rgba(97, 109, 300, 0.4);\">ANALYSING CUSTOMER CHURN AT TELCO\n",
    "    \n",
    "    \n",
    "    \n",
    "    ...\n",
    "</h1>"
   ]
  },
  {
   "cell_type": "markdown",
   "id": "1e037ddd",
   "metadata": {},
   "source": [
    "### Goals :  \n",
    "- To analyse factors leading to customer churn at Telco\n",
    "- To create working models to allow for the prediction of future customer churn."
   ]
  },
  {
   "cell_type": "code",
   "execution_count": null,
   "id": "c862c4f5",
   "metadata": {},
   "outputs": [],
   "source": []
  },
  {
   "cell_type": "code",
   "execution_count": 1,
   "id": "2a8cfc61",
   "metadata": {},
   "outputs": [],
   "source": [
    "# IMPORTS\n",
    "\n",
    "import os\n",
    "import env\n",
    "\n",
    "import pandas as pd\n",
    "\n",
    "import numpy as np\n",
    "import matplotlib.pyplot as plt\n",
    "import seaborn as sns\n",
    "import scipy\n",
    "\n",
    "from math import sqrt\n",
    "from scipy import stats\n",
    "\n",
    "# import our my acquire module\n",
    "import acquire\n",
    "import prepare\n",
    "\n",
    "\n",
    "# import splitting, imputing and modelling functions\n",
    "from sklearn.model_selection import train_test_split\n",
    "from sklearn.impute import SimpleImputer\n",
    "from prepare import my_train_test_split, telco_training_validate_testing\n",
    "\n",
    "from sklearn.tree import DecisionTreeClassifier, plot_tree\n",
    "from sklearn.metrics import classification_report, confusion_matrix, plot_confusion_matrix\n",
    "\n",
    "from sklearn.neighbors import KNeighborsClassifier\n",
    "import sklearn\n",
    "\n",
    "# turn off pink warning boxes\n",
    "import warnings\n",
    "warnings.filterwarnings(\"ignore\")"
   ]
  },
  {
   "cell_type": "code",
   "execution_count": null,
   "id": "832c939e",
   "metadata": {},
   "outputs": [],
   "source": []
  },
  {
   "cell_type": "markdown",
   "id": "18f96154",
   "metadata": {},
   "source": [
    "### DATA ACQUISITION\n",
    "\n",
    "- Data was originally obtained from IBM, and came to us here via Codeup, in the form of a .csv file.\n",
    "- The dataframe contained 7043 rows and 23 columns, with datatypes of integers, objects and floats.\n",
    "- Each row represented a Telco customer.\n",
    "- Each column represented aspects of Telco services or customer preferences."
   ]
  },
  {
   "cell_type": "markdown",
   "id": "490583a0",
   "metadata": {},
   "source": [
    "### DATA PREPARATION\n",
    "\n",
    "- To prepare the data, it was necessary to drop any unnecessary, unhelpful or duplicated columns, then encode the categorical columns and create dummy variables of the categorical columns.\n",
    "- These dummy variables were then concatenated onto the imported Telco dataframe.\n",
    "- Any null values, of which there appeared to be none, were dropped.\n",
    "- It was decided to specifically explore the features of being a senior citizen, customer use of paperless billing, customer purchase of tech support and customer choice of internet service type (or no internet service at all).\n",
    "    - Accordingly, these four categorical features were transformed into dummy variables, allowing for more fluid analysis.\n",
    "- The data was then split into training, validation and testing sets (60/20/20), with the target variable of 'churn'.\n",
    "- Outliers were not examined or removed."
   ]
  },
  {
   "cell_type": "code",
   "execution_count": null,
   "id": "5be27a19",
   "metadata": {},
   "outputs": [],
   "source": []
  },
  {
   "cell_type": "markdown",
   "id": "bda02ad8",
   "metadata": {},
   "source": [
    "### An Initial Look At Telco"
   ]
  },
  {
   "cell_type": "code",
   "execution_count": 2,
   "id": "0c331d36",
   "metadata": {},
   "outputs": [],
   "source": [
    "# obtaining the prepared Telco dataset.\n",
    "\n",
    "telco_df = acquire.get_telco_data(env.sql_connexion)\n",
    "tidy_telco = prepare.prep_telco(telco_df)\n"
   ]
  },
  {
   "cell_type": "code",
   "execution_count": 3,
   "id": "cdb77d33",
   "metadata": {},
   "outputs": [
    {
     "data": {
      "text/html": [
       "<div>\n",
       "<style scoped>\n",
       "    .dataframe tbody tr th:only-of-type {\n",
       "        vertical-align: middle;\n",
       "    }\n",
       "\n",
       "    .dataframe tbody tr th {\n",
       "        vertical-align: top;\n",
       "    }\n",
       "\n",
       "    .dataframe thead th {\n",
       "        text-align: right;\n",
       "    }\n",
       "</style>\n",
       "<table border=\"1\" class=\"dataframe\">\n",
       "  <thead>\n",
       "    <tr style=\"text-align: right;\">\n",
       "      <th></th>\n",
       "      <th>customer_id</th>\n",
       "      <th>gender</th>\n",
       "      <th>senior_citizen</th>\n",
       "      <th>partner</th>\n",
       "      <th>dependents</th>\n",
       "      <th>tenure</th>\n",
       "      <th>phone_service</th>\n",
       "      <th>multiple_lines</th>\n",
       "      <th>online_security</th>\n",
       "      <th>online_backup</th>\n",
       "      <th>...</th>\n",
       "      <th>gender_Female</th>\n",
       "      <th>gender_Male</th>\n",
       "      <th>partner_No</th>\n",
       "      <th>partner_Yes</th>\n",
       "      <th>dependents_No</th>\n",
       "      <th>dependents_Yes</th>\n",
       "      <th>paperless_billing_No</th>\n",
       "      <th>paperless_billing_Yes</th>\n",
       "      <th>churn_No</th>\n",
       "      <th>churn_Yes</th>\n",
       "    </tr>\n",
       "  </thead>\n",
       "  <tbody>\n",
       "    <tr>\n",
       "      <th>0</th>\n",
       "      <td>0002-ORFBO</td>\n",
       "      <td>Female</td>\n",
       "      <td>0</td>\n",
       "      <td>Yes</td>\n",
       "      <td>Yes</td>\n",
       "      <td>9</td>\n",
       "      <td>Yes</td>\n",
       "      <td>No</td>\n",
       "      <td>No</td>\n",
       "      <td>Yes</td>\n",
       "      <td>...</td>\n",
       "      <td>1</td>\n",
       "      <td>0</td>\n",
       "      <td>0</td>\n",
       "      <td>1</td>\n",
       "      <td>0</td>\n",
       "      <td>1</td>\n",
       "      <td>0</td>\n",
       "      <td>1</td>\n",
       "      <td>1</td>\n",
       "      <td>0</td>\n",
       "    </tr>\n",
       "    <tr>\n",
       "      <th>1</th>\n",
       "      <td>0003-MKNFE</td>\n",
       "      <td>Male</td>\n",
       "      <td>0</td>\n",
       "      <td>No</td>\n",
       "      <td>No</td>\n",
       "      <td>9</td>\n",
       "      <td>Yes</td>\n",
       "      <td>Yes</td>\n",
       "      <td>No</td>\n",
       "      <td>No</td>\n",
       "      <td>...</td>\n",
       "      <td>0</td>\n",
       "      <td>1</td>\n",
       "      <td>1</td>\n",
       "      <td>0</td>\n",
       "      <td>1</td>\n",
       "      <td>0</td>\n",
       "      <td>1</td>\n",
       "      <td>0</td>\n",
       "      <td>1</td>\n",
       "      <td>0</td>\n",
       "    </tr>\n",
       "    <tr>\n",
       "      <th>2</th>\n",
       "      <td>0004-TLHLJ</td>\n",
       "      <td>Male</td>\n",
       "      <td>0</td>\n",
       "      <td>No</td>\n",
       "      <td>No</td>\n",
       "      <td>4</td>\n",
       "      <td>Yes</td>\n",
       "      <td>No</td>\n",
       "      <td>No</td>\n",
       "      <td>No</td>\n",
       "      <td>...</td>\n",
       "      <td>0</td>\n",
       "      <td>1</td>\n",
       "      <td>1</td>\n",
       "      <td>0</td>\n",
       "      <td>1</td>\n",
       "      <td>0</td>\n",
       "      <td>0</td>\n",
       "      <td>1</td>\n",
       "      <td>0</td>\n",
       "      <td>1</td>\n",
       "    </tr>\n",
       "    <tr>\n",
       "      <th>3</th>\n",
       "      <td>0011-IGKFF</td>\n",
       "      <td>Male</td>\n",
       "      <td>1</td>\n",
       "      <td>Yes</td>\n",
       "      <td>No</td>\n",
       "      <td>13</td>\n",
       "      <td>Yes</td>\n",
       "      <td>No</td>\n",
       "      <td>No</td>\n",
       "      <td>Yes</td>\n",
       "      <td>...</td>\n",
       "      <td>0</td>\n",
       "      <td>1</td>\n",
       "      <td>0</td>\n",
       "      <td>1</td>\n",
       "      <td>1</td>\n",
       "      <td>0</td>\n",
       "      <td>0</td>\n",
       "      <td>1</td>\n",
       "      <td>0</td>\n",
       "      <td>1</td>\n",
       "    </tr>\n",
       "    <tr>\n",
       "      <th>4</th>\n",
       "      <td>0013-EXCHZ</td>\n",
       "      <td>Female</td>\n",
       "      <td>1</td>\n",
       "      <td>Yes</td>\n",
       "      <td>No</td>\n",
       "      <td>3</td>\n",
       "      <td>Yes</td>\n",
       "      <td>No</td>\n",
       "      <td>No</td>\n",
       "      <td>No</td>\n",
       "      <td>...</td>\n",
       "      <td>1</td>\n",
       "      <td>0</td>\n",
       "      <td>0</td>\n",
       "      <td>1</td>\n",
       "      <td>1</td>\n",
       "      <td>0</td>\n",
       "      <td>0</td>\n",
       "      <td>1</td>\n",
       "      <td>0</td>\n",
       "      <td>1</td>\n",
       "    </tr>\n",
       "  </tbody>\n",
       "</table>\n",
       "<p>5 rows × 31 columns</p>\n",
       "</div>"
      ],
      "text/plain": [
       "  customer_id  gender  senior_citizen partner dependents  tenure  \\\n",
       "0  0002-ORFBO  Female               0     Yes        Yes       9   \n",
       "1  0003-MKNFE    Male               0      No         No       9   \n",
       "2  0004-TLHLJ    Male               0      No         No       4   \n",
       "3  0011-IGKFF    Male               1     Yes         No      13   \n",
       "4  0013-EXCHZ  Female               1     Yes         No       3   \n",
       "\n",
       "  phone_service multiple_lines online_security online_backup  ...  \\\n",
       "0           Yes             No              No           Yes  ...   \n",
       "1           Yes            Yes              No            No  ...   \n",
       "2           Yes             No              No            No  ...   \n",
       "3           Yes             No              No           Yes  ...   \n",
       "4           Yes             No              No            No  ...   \n",
       "\n",
       "  gender_Female gender_Male partner_No partner_Yes dependents_No  \\\n",
       "0             1           0          0           1             0   \n",
       "1             0           1          1           0             1   \n",
       "2             0           1          1           0             1   \n",
       "3             0           1          0           1             1   \n",
       "4             1           0          0           1             1   \n",
       "\n",
       "   dependents_Yes paperless_billing_No paperless_billing_Yes churn_No  \\\n",
       "0               1                    0                     1        1   \n",
       "1               0                    1                     0        1   \n",
       "2               0                    0                     1        0   \n",
       "3               0                    0                     1        0   \n",
       "4               0                    0                     1        0   \n",
       "\n",
       "  churn_Yes  \n",
       "0         0  \n",
       "1         0  \n",
       "2         1  \n",
       "3         1  \n",
       "4         1  \n",
       "\n",
       "[5 rows x 31 columns]"
      ]
     },
     "execution_count": 3,
     "metadata": {},
     "output_type": "execute_result"
    }
   ],
   "source": [
    "tidy_telco.head()"
   ]
  },
  {
   "cell_type": "code",
   "execution_count": null,
   "id": "1ecbadf0",
   "metadata": {},
   "outputs": [],
   "source": []
  },
  {
   "cell_type": "markdown",
   "id": "382d2a10",
   "metadata": {},
   "source": [
    "### A Summary Of The Telco Data"
   ]
  },
  {
   "cell_type": "code",
   "execution_count": 4,
   "id": "59bdb37f",
   "metadata": {},
   "outputs": [
    {
     "name": "stdout",
     "output_type": "stream",
     "text": [
      "<class 'pandas.core.frame.DataFrame'>\n",
      "RangeIndex: 7043 entries, 0 to 7042\n",
      "Data columns (total 31 columns):\n",
      " #   Column                 Non-Null Count  Dtype  \n",
      "---  ------                 --------------  -----  \n",
      " 0   customer_id            7043 non-null   object \n",
      " 1   gender                 7043 non-null   object \n",
      " 2   senior_citizen         7043 non-null   int64  \n",
      " 3   partner                7043 non-null   object \n",
      " 4   dependents             7043 non-null   object \n",
      " 5   tenure                 7043 non-null   int64  \n",
      " 6   phone_service          7043 non-null   object \n",
      " 7   multiple_lines         7043 non-null   object \n",
      " 8   online_security        7043 non-null   object \n",
      " 9   online_backup          7043 non-null   object \n",
      " 10  device_protection      7043 non-null   object \n",
      " 11  tech_support           7043 non-null   object \n",
      " 12  streaming_tv           7043 non-null   object \n",
      " 13  streaming_movies       7043 non-null   object \n",
      " 14  paperless_billing      7043 non-null   object \n",
      " 15  monthly_charges        7043 non-null   float64\n",
      " 16  total_charges          7043 non-null   object \n",
      " 17  churn                  7043 non-null   object \n",
      " 18  contract_type          7043 non-null   object \n",
      " 19  internet_service_type  7043 non-null   object \n",
      " 20  payment_type           7043 non-null   object \n",
      " 21  gender_Female          7043 non-null   uint8  \n",
      " 22  gender_Male            7043 non-null   uint8  \n",
      " 23  partner_No             7043 non-null   uint8  \n",
      " 24  partner_Yes            7043 non-null   uint8  \n",
      " 25  dependents_No          7043 non-null   uint8  \n",
      " 26  dependents_Yes         7043 non-null   uint8  \n",
      " 27  paperless_billing_No   7043 non-null   uint8  \n",
      " 28  paperless_billing_Yes  7043 non-null   uint8  \n",
      " 29  churn_No               7043 non-null   uint8  \n",
      " 30  churn_Yes              7043 non-null   uint8  \n",
      "dtypes: float64(1), int64(2), object(18), uint8(10)\n",
      "memory usage: 1.2+ MB\n"
     ]
    }
   ],
   "source": [
    "# looking at columns in the datafame\n",
    "\n",
    "tidy_telco.info()"
   ]
  },
  {
   "cell_type": "code",
   "execution_count": null,
   "id": "db301727",
   "metadata": {},
   "outputs": [],
   "source": []
  },
  {
   "cell_type": "markdown",
   "id": "9cd6f36b",
   "metadata": {},
   "source": [
    "<h1 style=\"background-color:rgba(47, 199, 13, 0.5);\">EXPLORATION"
   ]
  },
  {
   "cell_type": "code",
   "execution_count": 5,
   "id": "65136e77",
   "metadata": {},
   "outputs": [
    {
     "data": {
      "text/plain": [
       "1    5174\n",
       "0    1869\n",
       "Name: churn_No, dtype: int64"
      ]
     },
     "execution_count": 5,
     "metadata": {},
     "output_type": "execute_result"
    }
   ],
   "source": [
    "# looking at churn quantity\n",
    "# (1 = not churned = 5174, 0 = churned = 1869)\n",
    "\n",
    "tidy_telco.churn_No.value_counts()"
   ]
  },
  {
   "cell_type": "code",
   "execution_count": 6,
   "id": "4fa1e7fb",
   "metadata": {},
   "outputs": [
    {
     "data": {
      "text/plain": [
       "0    5901\n",
       "1    1142\n",
       "Name: senior_citizen, dtype: int64"
      ]
     },
     "execution_count": 6,
     "metadata": {},
     "output_type": "execute_result"
    }
   ],
   "source": [
    "# checking to see how many senior citizens \n",
    "# (0 = not a senior citizen, 5901 ; 1 = senior citizen, 1142)\n",
    "\n",
    "tidy_telco.senior_citizen.value_counts()\n"
   ]
  },
  {
   "cell_type": "code",
   "execution_count": 7,
   "id": "cbcce2e9",
   "metadata": {},
   "outputs": [
    {
     "data": {
      "text/plain": [
       "No                     3473\n",
       "Yes                    2044\n",
       "No internet service    1526\n",
       "Name: tech_support, dtype: int64"
      ]
     },
     "execution_count": 7,
     "metadata": {},
     "output_type": "execute_result"
    }
   ],
   "source": [
    "# checking number of customers with tech_support\n",
    "# (no = 3473 ; yes = 2044 ; no internet service = 1526)\n",
    "\n",
    "tidy_telco.tech_support.value_counts()"
   ]
  },
  {
   "cell_type": "code",
   "execution_count": 8,
   "id": "107c14d5",
   "metadata": {},
   "outputs": [
    {
     "data": {
      "text/plain": [
       "Fiber optic    3096\n",
       "DSL            2421\n",
       "None           1526\n",
       "Name: internet_service_type, dtype: int64"
      ]
     },
     "execution_count": 8,
     "metadata": {},
     "output_type": "execute_result"
    }
   ],
   "source": [
    "# looking at internet_service_type\n",
    "# (fiber optic = 3096, DSL = 2421, no internet service = 1526)\n",
    "\n",
    "tidy_telco.internet_service_type.value_counts()"
   ]
  },
  {
   "cell_type": "code",
   "execution_count": 9,
   "id": "29c90a93",
   "metadata": {},
   "outputs": [
    {
     "data": {
      "text/plain": [
       "Yes    6361\n",
       "No      682\n",
       "Name: phone_service, dtype: int64"
      ]
     },
     "execution_count": 9,
     "metadata": {},
     "output_type": "execute_result"
    }
   ],
   "source": [
    "# looking at phone_service\n",
    "# (yes = 6361, no = 682)\n",
    "\n",
    "tidy_telco.phone_service.value_counts()"
   ]
  },
  {
   "cell_type": "code",
   "execution_count": 10,
   "id": "7f20b6d1",
   "metadata": {},
   "outputs": [
    {
     "data": {
      "text/plain": [
       "1    4171\n",
       "0    2872\n",
       "Name: paperless_billing_Yes, dtype: int64"
      ]
     },
     "execution_count": 10,
     "metadata": {},
     "output_type": "execute_result"
    }
   ],
   "source": [
    "# checking to see how many customers choose paperless billing \n",
    "# (1 = yes, paperless billing = 4171 ; 0 = no paperless billing = 2872)\n",
    "\n",
    "tidy_telco.paperless_billing_Yes.value_counts()"
   ]
  },
  {
   "cell_type": "code",
   "execution_count": null,
   "id": "357f8271",
   "metadata": {},
   "outputs": [],
   "source": []
  },
  {
   "cell_type": "code",
   "execution_count": 11,
   "id": "9afb988b",
   "metadata": {},
   "outputs": [
    {
     "data": {
      "text/plain": [
       "((4225, 31), (1409, 31), (1409, 31))"
      ]
     },
     "execution_count": 11,
     "metadata": {},
     "output_type": "execute_result"
    }
   ],
   "source": [
    "# splitting into train-validate-test in preparation for exploration\n",
    "\n",
    "\n",
    "train, validate, test = my_train_test_split(tidy_telco, target = 'churn_Yes')\n",
    "\n",
    "train.shape, validate.shape, test.shape\n"
   ]
  },
  {
   "cell_type": "code",
   "execution_count": null,
   "id": "076429de",
   "metadata": {},
   "outputs": [],
   "source": []
  },
  {
   "cell_type": "markdown",
   "id": "805b12c3",
   "metadata": {},
   "source": [
    "### Now that the data has been examined simply and numerically, it's time to plot the data using graphs."
   ]
  },
  {
   "cell_type": "code",
   "execution_count": 12,
   "id": "a8284363",
   "metadata": {},
   "outputs": [
    {
     "data": {
      "text/plain": [
       "<matplotlib.legend.Legend at 0x15fda1670>"
      ]
     },
     "execution_count": 12,
     "metadata": {},
     "output_type": "execute_result"
    },
    {
     "data": {
      "image/png": "[encoded data removed]",
      "text/plain": [
       "<Figure size 640x480 with 1 Axes>"
      ]
     },
     "metadata": {},
     "output_type": "display_data"
    }
   ],
   "source": [
    "# COUNTPLOT 1 : customer churn and senior citizen\n",
    "\n",
    "sc = sns.countplot(x = train.senior_citizen, hue = train.churn, color = 'red')\n",
    "\n",
    "sc.set(ylabel = 'Customer churn count', \n",
    "       xlabel = 'Customer churn based on being a senior citizen, N (0) / Y (1)',\n",
    "       title = 'Senior Citizens And Churn Rate')\n",
    "\n",
    "plt.legend(loc = 'upper right', title = 'Customer churn N / Y')"
   ]
  },
  {
   "cell_type": "markdown",
   "id": "9c298107",
   "metadata": {},
   "source": [
    "**COUNTPLOT 1 : This countplot shows senior citizen churn rate. It appears that of the senior citizen customers (senior_citizen = 1) of Telco, though a smaller overall percentage of the customer base, the comparative rate of churn was higher than for non-senior citizens.**"
   ]
  },
  {
   "cell_type": "code",
   "execution_count": null,
   "id": "81851391",
   "metadata": {},
   "outputs": [],
   "source": []
  },
  {
   "cell_type": "code",
   "execution_count": 13,
   "id": "90985af3",
   "metadata": {},
   "outputs": [
    {
     "data": {
      "text/plain": [
       "<matplotlib.legend.Legend at 0x168041100>"
      ]
     },
     "execution_count": 13,
     "metadata": {},
     "output_type": "execute_result"
    },
    {
     "data": {
      "image/png": "[encoded data removed]",
      "text/plain": [
       "<Figure size 640x480 with 1 Axes>"
      ]
     },
     "metadata": {},
     "output_type": "display_data"
    }
   ],
   "source": [
    "# COUNTPLOT 2 : churn vs paperless billing\n",
    "\n",
    "paperless = sns.countplot(x = train.churn, hue = train.paperless_billing_Yes, color = 'green')\n",
    "\n",
    "paperless.set(ylabel = 'Customers with paperless billing', \n",
    "              xlabel = 'Customer churn based on paperless billing',\n",
    "              title = 'Paperless Billing And Churn Rate')\n",
    "\n",
    "plt.legend(loc = 'upper right', title = '0 = no paperless billing, 1 = paperless billing')\n",
    "\n",
    "# 0 = no paperless billing, 1 = paperless billing"
   ]
  },
  {
   "cell_type": "markdown",
   "id": "f99e72e4",
   "metadata": {},
   "source": [
    "**COUNTPLOT 2 : This countplot shows the relationship between customer use of paperless billing and customer churn counts. It appears that a significant amount of customers who have churn have also used paperless billing.**"
   ]
  },
  {
   "cell_type": "code",
   "execution_count": null,
   "id": "ed0958b8",
   "metadata": {},
   "outputs": [],
   "source": []
  },
  {
   "cell_type": "code",
   "execution_count": 14,
   "id": "0a7817eb",
   "metadata": {},
   "outputs": [
    {
     "data": {
      "text/plain": [
       "<matplotlib.legend.Legend at 0x1687a1100>"
      ]
     },
     "execution_count": 14,
     "metadata": {},
     "output_type": "execute_result"
    },
    {
     "data": {
      "image/png": "[encoded data removed]",
      "text/plain": [
       "<Figure size 640x480 with 1 Axes>"
      ]
     },
     "metadata": {},
     "output_type": "display_data"
    }
   ],
   "source": [
    "# COUNTPLOT 3 : tech_support and churn.\n",
    "\n",
    "tech = sns.countplot(x = train.churn, hue = train.tech_support, color = 'yellow')\n",
    "\n",
    "tech.set(ylabel = 'Customers with tech support', \n",
    "         xlabel = 'Customer churn based on tech support',\n",
    "         title = 'Tech Support And Churn Rate')\n",
    "\n",
    "plt.legend(loc = 'upper right', title = 'Customers with tech support')"
   ]
  },
  {
   "cell_type": "markdown",
   "id": "7561a723",
   "metadata": {},
   "source": [
    "**COUNTPLOT 3 : This countplot shows customer churn based on purchase of tech support. It appears that, for both customers who have churn and customers who have not churned, NOT purchasing tech support is the more popular option. Yet, of customers who have churned, the overwhelming majority did not purchase tech support. Of customers who have churned, a minimal amount had purchased tech support, which differs highly from the percentages of tech support (or not) customers who have not churned.**"
   ]
  },
  {
   "cell_type": "code",
   "execution_count": null,
   "id": "4b0d8bfc",
   "metadata": {},
   "outputs": [],
   "source": []
  },
  {
   "cell_type": "code",
   "execution_count": 15,
   "id": "a0504490",
   "metadata": {},
   "outputs": [
    {
     "data": {
      "text/plain": [
       "<matplotlib.legend.Legend at 0x16845bcd0>"
      ]
     },
     "execution_count": 15,
     "metadata": {},
     "output_type": "execute_result"
    },
    {
     "data": {
      "image/png": "[encoded data removed]",
      "text/plain": [
       "<Figure size 640x480 with 1 Axes>"
      ]
     },
     "metadata": {},
     "output_type": "display_data"
    }
   ],
   "source": [
    "# COUNTPLOT 4 : The internet_service_type (ie, DSL, fiber optic, no internet service) AND churn rate.\n",
    "\n",
    "ist = sns.countplot(x = train.churn, hue = train.internet_service_type, color = 'blue')\n",
    "\n",
    "ist.set(ylabel = 'Customer internet service type', \n",
    "        xlabel = 'Customer churn based on internet service type', \n",
    "        title = 'Internet Service Type And Churn Rate')\n",
    "\n",
    "plt.legend(loc = 'upper right', title = 'Internet service type')\n"
   ]
  },
  {
   "cell_type": "markdown",
   "id": "87eeed4e",
   "metadata": {},
   "source": [
    "**COUNTPLOT 4 : This countplot shows the churn propensity for customers based on their internet service type. Churn or not, fiber optic internet is the more popular overall. For customers who have churned, an overwhelming amount were fiber optic subscribers.**"
   ]
  },
  {
   "cell_type": "code",
   "execution_count": null,
   "id": "3ccd48c1",
   "metadata": {},
   "outputs": [],
   "source": []
  },
  {
   "cell_type": "markdown",
   "id": "ac419392",
   "metadata": {},
   "source": [
    "### OVERALL EXPLORATORY TAKEAWAYS :  \n",
    "**After graphing three of the variables (senior citizen, paperless billing, tech support) on the target variable of customer churn, it was discovered that there was a potential correlation relationship between each of these three variables and customer churn rate.**\n"
   ]
  },
  {
   "cell_type": "code",
   "execution_count": null,
   "id": "d129fa6c",
   "metadata": {},
   "outputs": [],
   "source": []
  },
  {
   "cell_type": "code",
   "execution_count": null,
   "id": "a2f774ee",
   "metadata": {},
   "outputs": [],
   "source": []
  },
  {
   "cell_type": "markdown",
   "id": "d39edaee",
   "metadata": {},
   "source": [
    "<h1 style=\"background-color:rgba(47, 199, 13, 0.4);\">STATISTICAL TESTS"
   ]
  },
  {
   "cell_type": "markdown",
   "id": "e787539c",
   "metadata": {},
   "source": [
    "For three of these four instances of examing the Telco data (senior citizen, paperless billing, tech support), it was decided to use ***Chi-square tests***, due to the individual variables' types : They were all independent, categorical variables."
   ]
  },
  {
   "cell_type": "markdown",
   "id": "9776fc81",
   "metadata": {},
   "source": [
    "### This will use the Chi-Square statistical test to explore Countplot 1 [customer age (senior citizens vs non-senior citizens) has an influence in churn rate]. \n",
    "\n",
    "- $H_{0}$ (Null Hypothesis): There is no relationship between being a senior citizen customer and customer churn. \n",
    "\n",
    "- $H_{a}$ (Alternative Hypothesis): There is a relationship between being a senior citizen customer and customer churn. \n"
   ]
  },
  {
   "cell_type": "code",
   "execution_count": 16,
   "id": "8e2bf4dc",
   "metadata": {},
   "outputs": [
    {
     "data": {
      "text/html": [
       "<div>\n",
       "<style scoped>\n",
       "    .dataframe tbody tr th:only-of-type {\n",
       "        vertical-align: middle;\n",
       "    }\n",
       "\n",
       "    .dataframe tbody tr th {\n",
       "        vertical-align: top;\n",
       "    }\n",
       "\n",
       "    .dataframe thead th {\n",
       "        text-align: right;\n",
       "    }\n",
       "</style>\n",
       "<table border=\"1\" class=\"dataframe\">\n",
       "  <thead>\n",
       "    <tr style=\"text-align: right;\">\n",
       "      <th>churn</th>\n",
       "      <th>No</th>\n",
       "      <th>Yes</th>\n",
       "    </tr>\n",
       "    <tr>\n",
       "      <th>senior_citizen</th>\n",
       "      <th></th>\n",
       "      <th></th>\n",
       "    </tr>\n",
       "  </thead>\n",
       "  <tbody>\n",
       "    <tr>\n",
       "      <th>0</th>\n",
       "      <td>2697</td>\n",
       "      <td>844</td>\n",
       "    </tr>\n",
       "    <tr>\n",
       "      <th>1</th>\n",
       "      <td>407</td>\n",
       "      <td>277</td>\n",
       "    </tr>\n",
       "  </tbody>\n",
       "</table>\n",
       "</div>"
      ],
      "text/plain": [
       "churn             No  Yes\n",
       "senior_citizen           \n",
       "0               2697  844\n",
       "1                407  277"
      ]
     },
     "execution_count": 16,
     "metadata": {},
     "output_type": "execute_result"
    }
   ],
   "source": [
    "## COUNTPLOT 1\n",
    "# observed crosstab of senior_citizen (0, 1) and churn (no, yes)\n",
    "\n",
    "# crosstab is the number of observations in each location of the table\n",
    "\n",
    "observed_sc_ch = pd.crosstab(train.senior_citizen, train.churn)\n",
    "observed_sc_ch"
   ]
  },
  {
   "cell_type": "code",
   "execution_count": 17,
   "id": "7d6400b7",
   "metadata": {},
   "outputs": [
    {
     "data": {
      "text/plain": [
       "(80.79361466512287,\n",
       " 2.505662983276272e-19,\n",
       " 1,\n",
       " array([[2601.48260355,  939.51739645],\n",
       "        [ 502.51739645,  181.48260355]]))"
      ]
     },
     "execution_count": 17,
     "metadata": {},
     "output_type": "execute_result"
    }
   ],
   "source": [
    "## COUNTPLOT 1\n",
    "## run the chi2_contingency on senior_citizen and churn based on the crosstab\n",
    "\n",
    "chi2_sc_ch, p_sc_ch, degf_sc_ch, expected_sc_ch = stats.chi2_contingency(observed_sc_ch)\n",
    "\n",
    "chi2_sc_ch, p_sc_ch, degf_sc_ch, expected_sc_ch\n",
    "\n",
    "# expected = expected contingency table"
   ]
  },
  {
   "cell_type": "code",
   "execution_count": 18,
   "id": "178d42ed",
   "metadata": {},
   "outputs": [
    {
     "name": "stdout",
     "output_type": "stream",
     "text": [
      "Observed Values For Senior Citizens And Churn :\n",
      "\n",
      "[[2697  844]\n",
      " [ 407  277]]\n",
      "\n",
      "-.-.-.-.-\n",
      "\n",
      "Expected Values For Senior Citizens And Churn :\n",
      "\n",
      "[[2601  939]\n",
      " [ 502  181]]\n",
      "\n",
      "-.-.-.-.-\n",
      "\n",
      "chi^2 = 80.7936\n",
      "p-value = 0.0000\n",
      "\n",
      "-.-.-.-.-\n",
      "\n",
      "Is the p-value < α ? True\n"
     ]
    }
   ],
   "source": [
    "## COUNTPLOT 1\n",
    "\n",
    "# setting the alpha value\n",
    "α = 0.05\n",
    "\n",
    "# print 'Observed Values' followed by a new line\n",
    "print('Observed Values For Senior Citizens And Churn :\\n')\n",
    "\n",
    "\n",
    "# print the values from the 'observed' dataframe\n",
    "print(observed_sc_ch.values)\n",
    "\n",
    "print('')\n",
    "\n",
    "\n",
    "# print -.-.-.-.- and then a new line, 'Expected Values', followed by another new line\n",
    "print('-.-.-.-.-\\n')\n",
    "print('Expected Values For Senior Citizens And Churn :\\n')\n",
    "\n",
    "\n",
    "# print the expected values array\n",
    "print(expected_sc_ch.astype(int))\n",
    "# this turns the floats into integers, for readability\n",
    "\n",
    "print('')\n",
    "\n",
    "# print a new line\n",
    "print('-.-.-.-.-\\n')\n",
    "\n",
    "\n",
    "# print the chi2 value, formatted to a float with 4 digits. \n",
    "print(f'chi^2 = {chi2_sc_ch:.4f}') \n",
    "\n",
    "\n",
    "# print the p-value, formatted to a float with 4 digits {p:.4f}. \n",
    "print(f'p-value = {p_sc_ch:.4f}')\n",
    "\n",
    "print('')\n",
    "\n",
    "print('-.-.-.-.-\\n')\n",
    "\n",
    "print(f'Is the p-value < α ?', p_sc_ch < α)\n",
    "\n",
    "# We know that the Expected values are not close to the Observed values due to the p-value being lower than α."
   ]
  },
  {
   "cell_type": "markdown",
   "id": "a0a4789b",
   "metadata": {},
   "source": [
    "**Takeaways, COUNTPLOT 1 :**  \n",
    "**Though the Observed values for Countplot 1 appear to be relatively close to the Expected values in the contingency tables, the Chi-Square test indicates that there is some relationship between being a senior citizen and customer churn, due to the extremely low p-value. We, thus, reject the null hypothesis.**"
   ]
  },
  {
   "cell_type": "code",
   "execution_count": null,
   "id": "197210de",
   "metadata": {},
   "outputs": [],
   "source": []
  },
  {
   "cell_type": "markdown",
   "id": "87c38c91",
   "metadata": {},
   "source": [
    "### This will use the Chi-Square statistical test to explore Countplot 2, whether use of paperless billing has an influence on churn rate.\n",
    "\n",
    "- $H_{0}$ (Null Hypothesis): There is no relationship between use of paperless billing and customer churn. \n",
    "\n",
    "- $H_{a}$ (Alternative Hypothesis): There is a relationship between use of paperless billing and customer churn. \n"
   ]
  },
  {
   "cell_type": "code",
   "execution_count": 19,
   "id": "c73f6cc7",
   "metadata": {},
   "outputs": [
    {
     "data": {
      "text/html": [
       "<div>\n",
       "<style scoped>\n",
       "    .dataframe tbody tr th:only-of-type {\n",
       "        vertical-align: middle;\n",
       "    }\n",
       "\n",
       "    .dataframe tbody tr th {\n",
       "        vertical-align: top;\n",
       "    }\n",
       "\n",
       "    .dataframe thead th {\n",
       "        text-align: right;\n",
       "    }\n",
       "</style>\n",
       "<table border=\"1\" class=\"dataframe\">\n",
       "  <thead>\n",
       "    <tr style=\"text-align: right;\">\n",
       "      <th>churn</th>\n",
       "      <th>No</th>\n",
       "      <th>Yes</th>\n",
       "    </tr>\n",
       "    <tr>\n",
       "      <th>paperless_billing_Yes</th>\n",
       "      <th></th>\n",
       "      <th></th>\n",
       "    </tr>\n",
       "  </thead>\n",
       "  <tbody>\n",
       "    <tr>\n",
       "      <th>0</th>\n",
       "      <td>1433</td>\n",
       "      <td>283</td>\n",
       "    </tr>\n",
       "    <tr>\n",
       "      <th>1</th>\n",
       "      <td>1671</td>\n",
       "      <td>838</td>\n",
       "    </tr>\n",
       "  </tbody>\n",
       "</table>\n",
       "</div>"
      ],
      "text/plain": [
       "churn                    No  Yes\n",
       "paperless_billing_Yes           \n",
       "0                      1433  283\n",
       "1                      1671  838"
      ]
     },
     "execution_count": 19,
     "metadata": {},
     "output_type": "execute_result"
    }
   ],
   "source": [
    "## COUNTPLOT 2\n",
    "\n",
    "# observed crosstab of paperless billing (0 = no, 1 = yes) and churn (no, yes)\n",
    "\n",
    "# crosstab is the number of observations in each location of the table\n",
    "\n",
    "observed_pb_ch = pd.crosstab(train.paperless_billing_Yes, train.churn)\n",
    "observed_pb_ch"
   ]
  },
  {
   "cell_type": "code",
   "execution_count": 20,
   "id": "a30a08ae",
   "metadata": {},
   "outputs": [
    {
     "data": {
      "text/plain": [
       "(148.58446697144495,\n",
       " 3.5348504574964642e-34,\n",
       " 1,\n",
       " array([[1260.70153846,  455.29846154],\n",
       "        [1843.29846154,  665.70153846]]))"
      ]
     },
     "execution_count": 20,
     "metadata": {},
     "output_type": "execute_result"
    }
   ],
   "source": [
    "## COUNTPLOT 2\n",
    "\n",
    "## run the chi2_contingency on tech_support and churn based on the crosstab\n",
    "\n",
    "chi2_pb_ch, p_pb_ch, degf_pb_ch, expected_pb_ch = stats.chi2_contingency(observed_pb_ch)\n",
    "\n",
    "chi2_pb_ch, p_pb_ch, degf_pb_ch, expected_pb_ch"
   ]
  },
  {
   "cell_type": "code",
   "execution_count": 21,
   "id": "afb279ba",
   "metadata": {},
   "outputs": [
    {
     "name": "stdout",
     "output_type": "stream",
     "text": [
      "Observed Values For Paperless Billing And Churn :\n",
      "\n",
      "[[1433  283]\n",
      " [1671  838]]\n",
      "\n",
      "-.-.-.-.-\n",
      "\n",
      "Expected Values For Paperless Billing And Churn :\n",
      "\n",
      "[[1260  455]\n",
      " [1843  665]]\n",
      "\n",
      "-.-.-.-.-\n",
      "\n",
      "chi^2 = 148.5845\n",
      "p-value = 0.0000\n",
      "\n",
      "-.-.-.-.-\n",
      "\n",
      "Is the p-value < α ? True\n"
     ]
    }
   ],
   "source": [
    "## COUNTPLOT 2\n",
    "\n",
    "α = 0.05\n",
    "\n",
    "# print 'Observed Values' followed by a new line\n",
    "print('Observed Values For Paperless Billing And Churn :\\n')\n",
    "\n",
    "\n",
    "# print the values from the 'observed' dataframe\n",
    "print(observed_pb_ch.values)\n",
    "\n",
    "print('')\n",
    "\n",
    "\n",
    "# print -.-.-.-.- and then a new line, 'Expected Values', followed by another new line\n",
    "print('-.-.-.-.-\\n')\n",
    "print('Expected Values For Paperless Billing And Churn :\\n')\n",
    "\n",
    "\n",
    "# print the expected values array\n",
    "print(expected_pb_ch.astype(int))\n",
    "# this turns the floats into integers, for readability\n",
    "\n",
    "print('')\n",
    "\n",
    "# print a new line\n",
    "print('-.-.-.-.-\\n')\n",
    "\n",
    "\n",
    "# print the chi2 value, formatted to a float with 4 digits. \n",
    "print(f'chi^2 = {chi2_pb_ch:.4f}') \n",
    "\n",
    "\n",
    "# print the p-value, formatted to a float with 4 digits {p:.4f}. \n",
    "print(f'p-value = {p_pb_ch:.4f}')\n",
    "\n",
    "print('')\n",
    "\n",
    "print('-.-.-.-.-\\n')\n",
    "\n",
    "print(f'Is the p-value < α ?', p_pb_ch < α)\n",
    "\n",
    "# We know that the Expected values are not close to the Observed values due to the p-value being lower than α."
   ]
  },
  {
   "cell_type": "markdown",
   "id": "e7999d8b",
   "metadata": {},
   "source": [
    "**Takeaways, COUNTPLOT 2 :**  \n",
    "**The Observed values for Countplot 2 appear very different from the Expected values in the contingency tables ; the Chi-Square test indicates that there is a relationship between customer use of paperless billing and customer churn, due to the extremely low p-value. We, thus, reject the null hypothesis.**"
   ]
  },
  {
   "cell_type": "code",
   "execution_count": null,
   "id": "5adf3602",
   "metadata": {},
   "outputs": [],
   "source": []
  },
  {
   "cell_type": "code",
   "execution_count": null,
   "id": "f1379604",
   "metadata": {},
   "outputs": [],
   "source": []
  },
  {
   "cell_type": "markdown",
   "id": "97e05732",
   "metadata": {},
   "source": [
    "### This will use the Chi-Square statistical test to explore Countplot 3, whether purchasing tech support has an influence on churn rate.\n",
    "\n",
    "- $H_{0}$ (Null Hypothesis): There is no relationship between purchasing tech support and customer churn. \n",
    "\n",
    "- $H_{a}$ (Alternative Hypothesis): There is a relationship between purchasing tech support and customer churn. \n"
   ]
  },
  {
   "cell_type": "code",
   "execution_count": 22,
   "id": "1496228d",
   "metadata": {},
   "outputs": [
    {
     "data": {
      "text/html": [
       "<div>\n",
       "<style scoped>\n",
       "    .dataframe tbody tr th:only-of-type {\n",
       "        vertical-align: middle;\n",
       "    }\n",
       "\n",
       "    .dataframe tbody tr th {\n",
       "        vertical-align: top;\n",
       "    }\n",
       "\n",
       "    .dataframe thead th {\n",
       "        text-align: right;\n",
       "    }\n",
       "</style>\n",
       "<table border=\"1\" class=\"dataframe\">\n",
       "  <thead>\n",
       "    <tr style=\"text-align: right;\">\n",
       "      <th>churn</th>\n",
       "      <th>No</th>\n",
       "      <th>Yes</th>\n",
       "    </tr>\n",
       "    <tr>\n",
       "      <th>tech_support</th>\n",
       "      <th></th>\n",
       "      <th></th>\n",
       "    </tr>\n",
       "  </thead>\n",
       "  <tbody>\n",
       "    <tr>\n",
       "      <th>No</th>\n",
       "      <td>1227</td>\n",
       "      <td>852</td>\n",
       "    </tr>\n",
       "    <tr>\n",
       "      <th>No internet service</th>\n",
       "      <td>849</td>\n",
       "      <td>74</td>\n",
       "    </tr>\n",
       "    <tr>\n",
       "      <th>Yes</th>\n",
       "      <td>1028</td>\n",
       "      <td>195</td>\n",
       "    </tr>\n",
       "  </tbody>\n",
       "</table>\n",
       "</div>"
      ],
      "text/plain": [
       "churn                  No  Yes\n",
       "tech_support                  \n",
       "No                   1227  852\n",
       "No internet service   849   74\n",
       "Yes                  1028  195"
      ]
     },
     "execution_count": 22,
     "metadata": {},
     "output_type": "execute_result"
    }
   ],
   "source": [
    "## COUNTPLOT 3\n",
    "\n",
    "# observed crosstab of tech_support (no, no internet service, yes) and churn (no, yes)\n",
    "\n",
    "# crosstab is the number of observations in each location of the table\n",
    "\n",
    "observed_ts_ch = pd.crosstab(train.tech_support, train.churn)\n",
    "observed_ts_ch"
   ]
  },
  {
   "cell_type": "code",
   "execution_count": 23,
   "id": "34400832",
   "metadata": {},
   "outputs": [
    {
     "data": {
      "text/plain": [
       "(455.3210599885817,\n",
       " 1.3436559397518983e-99,\n",
       " 2,\n",
       " array([[1527.38840237,  551.61159763],\n",
       "        [ 678.10461538,  244.89538462],\n",
       "        [ 898.50698225,  324.49301775]]))"
      ]
     },
     "execution_count": 23,
     "metadata": {},
     "output_type": "execute_result"
    }
   ],
   "source": [
    "## COUNTPLOT 3\n",
    "\n",
    "## run the chi2_contingency on tech_support and churn based on the crosstab\n",
    "\n",
    "chi2_ts_ch, p_ts_ch, degf_ts_ch, expected_ts_ch = stats.chi2_contingency(observed_ts_ch)\n",
    "\n",
    "chi2_ts_ch, p_ts_ch, degf_ts_ch, expected_ts_ch\n"
   ]
  },
  {
   "cell_type": "code",
   "execution_count": 24,
   "id": "50b76f9f",
   "metadata": {},
   "outputs": [
    {
     "name": "stdout",
     "output_type": "stream",
     "text": [
      "Observed Values For Tech Support And Churn :\n",
      "\n",
      "[[1227  852]\n",
      " [ 849   74]\n",
      " [1028  195]]\n",
      "\n",
      "-.-.-.-.-\n",
      "\n",
      "Expected Values For Tech Support And Churn :\n",
      "\n",
      "[[1527  551]\n",
      " [ 678  244]\n",
      " [ 898  324]]\n",
      "\n",
      "-.-.-.-.-\n",
      "\n",
      "chi^2 = 455.3211\n",
      "p-value = 0.0000\n",
      "\n",
      "-.-.-.-.-\n",
      "\n",
      "Is the p-value < α ? True\n"
     ]
    }
   ],
   "source": [
    "## COUNTPLOT 3\n",
    "\n",
    "α = 0.05\n",
    "\n",
    "# print 'Observed Values' followed by a new line\n",
    "print('Observed Values For Tech Support And Churn :\\n')\n",
    "\n",
    "\n",
    "# print the values from the 'observed' dataframe\n",
    "print(observed_ts_ch.values)\n",
    "\n",
    "print('')\n",
    "\n",
    "# print -.-.-.-.- and then a new line, 'Expected Values', followed by another new line\n",
    "print('-.-.-.-.-\\n')\n",
    "print('Expected Values For Tech Support And Churn :\\n')\n",
    "\n",
    "\n",
    "# print the expected values array\n",
    "print(expected_ts_ch.astype(int))\n",
    "\n",
    "print('')\n",
    "\n",
    "print('-.-.-.-.-\\n')\n",
    "\n",
    "\n",
    "# print the chi2 value, formatted to a float with 4 digits. \n",
    "print(f'chi^2 = {chi2_ts_ch:.4f}') \n",
    "\n",
    "\n",
    "# print the p-value, formatted to a float with 4 digits {p:.4f}. \n",
    "print(f'p-value = {p_ts_ch:.4f}')\n",
    "\n",
    "print('')\n",
    "\n",
    "print('-.-.-.-.-\\n')\n",
    "\n",
    "print(f'Is the p-value < α ?', p_ts_ch < α)\n",
    "\n",
    "# We know that the Expected values are not close to the Observed values due to the p-value being lower than α."
   ]
  },
  {
   "cell_type": "code",
   "execution_count": null,
   "id": "94e6e973",
   "metadata": {},
   "outputs": [],
   "source": []
  },
  {
   "cell_type": "markdown",
   "id": "8fa011c7",
   "metadata": {},
   "source": [
    "**Takeaways, COUNTPLOT 3 :**  \n",
    "**The Observed values for Countplot 3 appear very different from the Expected values in the contingency tables ; the Chi-Square test indicates that there is a relationship between customer purchase of tech support and customer churn, due to the extremely low p-value. We, thus, reject the null hypothesis.**"
   ]
  },
  {
   "cell_type": "code",
   "execution_count": null,
   "id": "802328a1",
   "metadata": {},
   "outputs": [],
   "source": []
  },
  {
   "cell_type": "code",
   "execution_count": null,
   "id": "c0e48c5c",
   "metadata": {},
   "outputs": [],
   "source": []
  },
  {
   "cell_type": "markdown",
   "id": "172eb37c",
   "metadata": {},
   "source": [
    "### Takeaways, Statistical Summary :  \n",
    "- After graphing the four hypotheses and using statistical testing on three of the hypotheses (senior citizen, paperless billing, tech support), it appears that there is a relationship between customer churn and the test variables, notably that tendancy towards churn is influence by being a senior citizen, or, separately, by use of paperless billing, or, separately, by the purchase of tech support.\n",
    "  \n",
    "  \n",
    "- General takeaways are that the variables so far analysed using statistical testing (paperless billing, tech support, being a senior citizen) do have an influence on increased customer churn rates that lead rates.  \n",
    "  \n",
    "  \n",
    "- Going forward, modelling will be done on all four variables, compared with the baseline of no-churn. The modelling seeks to determine potential actions of Telco customers, namely, how likely a customer is to churn, or, leave the company.\n",
    "\n"
   ]
  },
  {
   "cell_type": "code",
   "execution_count": null,
   "id": "5d60cd7a",
   "metadata": {},
   "outputs": [],
   "source": []
  },
  {
   "cell_type": "markdown",
   "id": "fdcc09c9",
   "metadata": {},
   "source": [
    "<h1 style=\"background-color:rgba(47, 199, 13, 0.4);\">MODELLING OF VARIABLES : PREPARATION"
   ]
  },
  {
   "cell_type": "markdown",
   "id": "c487b4e5",
   "metadata": {},
   "source": [
    "**Here, the four key variables (senior citizen, paperless billing, tech support, internet service type) will be modelled against the baseline of the target variable of customer churn.**"
   ]
  },
  {
   "cell_type": "markdown",
   "id": "66906301",
   "metadata": {},
   "source": [
    "**To prepare for modelling, it is necessary to continue with the tidying of the Telco dataset, to allow for focus solely on the variables in questions. This comprises the creation of more dummies and the dropping of now-superfluous columns.**"
   ]
  },
  {
   "cell_type": "code",
   "execution_count": null,
   "id": "48ea8ebf",
   "metadata": {},
   "outputs": [],
   "source": []
  },
  {
   "cell_type": "code",
   "execution_count": 25,
   "id": "cdcd46ce",
   "metadata": {},
   "outputs": [],
   "source": [
    "#dropping any possible nulls\n",
    "\n",
    "tidy_telco = tidy_telco.dropna()"
   ]
  },
  {
   "cell_type": "code",
   "execution_count": 26,
   "id": "2605f201",
   "metadata": {},
   "outputs": [],
   "source": [
    "# creating dummies in order to help machine learning and modelling\n",
    "\n",
    "dummies = pd.get_dummies(tidy_telco[['tech_support', 'internet_service_type']], drop_first = True)\n"
   ]
  },
  {
   "cell_type": "code",
   "execution_count": 27,
   "id": "84dcda31",
   "metadata": {},
   "outputs": [
    {
     "data": {
      "text/html": [
       "<div>\n",
       "<style scoped>\n",
       "    .dataframe tbody tr th:only-of-type {\n",
       "        vertical-align: middle;\n",
       "    }\n",
       "\n",
       "    .dataframe tbody tr th {\n",
       "        vertical-align: top;\n",
       "    }\n",
       "\n",
       "    .dataframe thead th {\n",
       "        text-align: right;\n",
       "    }\n",
       "</style>\n",
       "<table border=\"1\" class=\"dataframe\">\n",
       "  <thead>\n",
       "    <tr style=\"text-align: right;\">\n",
       "      <th></th>\n",
       "      <th>customer_id</th>\n",
       "      <th>gender</th>\n",
       "      <th>senior_citizen</th>\n",
       "      <th>partner</th>\n",
       "      <th>dependents</th>\n",
       "      <th>tenure</th>\n",
       "      <th>phone_service</th>\n",
       "      <th>multiple_lines</th>\n",
       "      <th>online_security</th>\n",
       "      <th>online_backup</th>\n",
       "      <th>...</th>\n",
       "      <th>dependents_No</th>\n",
       "      <th>dependents_Yes</th>\n",
       "      <th>paperless_billing_No</th>\n",
       "      <th>paperless_billing_Yes</th>\n",
       "      <th>churn_No</th>\n",
       "      <th>churn_Yes</th>\n",
       "      <th>tech_support_No internet service</th>\n",
       "      <th>tech_support_Yes</th>\n",
       "      <th>internet_service_type_Fiber optic</th>\n",
       "      <th>internet_service_type_None</th>\n",
       "    </tr>\n",
       "  </thead>\n",
       "  <tbody>\n",
       "    <tr>\n",
       "      <th>0</th>\n",
       "      <td>0002-ORFBO</td>\n",
       "      <td>Female</td>\n",
       "      <td>0</td>\n",
       "      <td>Yes</td>\n",
       "      <td>Yes</td>\n",
       "      <td>9</td>\n",
       "      <td>Yes</td>\n",
       "      <td>No</td>\n",
       "      <td>No</td>\n",
       "      <td>Yes</td>\n",
       "      <td>...</td>\n",
       "      <td>0</td>\n",
       "      <td>1</td>\n",
       "      <td>0</td>\n",
       "      <td>1</td>\n",
       "      <td>1</td>\n",
       "      <td>0</td>\n",
       "      <td>0</td>\n",
       "      <td>1</td>\n",
       "      <td>0</td>\n",
       "      <td>0</td>\n",
       "    </tr>\n",
       "    <tr>\n",
       "      <th>1</th>\n",
       "      <td>0003-MKNFE</td>\n",
       "      <td>Male</td>\n",
       "      <td>0</td>\n",
       "      <td>No</td>\n",
       "      <td>No</td>\n",
       "      <td>9</td>\n",
       "      <td>Yes</td>\n",
       "      <td>Yes</td>\n",
       "      <td>No</td>\n",
       "      <td>No</td>\n",
       "      <td>...</td>\n",
       "      <td>1</td>\n",
       "      <td>0</td>\n",
       "      <td>1</td>\n",
       "      <td>0</td>\n",
       "      <td>1</td>\n",
       "      <td>0</td>\n",
       "      <td>0</td>\n",
       "      <td>0</td>\n",
       "      <td>0</td>\n",
       "      <td>0</td>\n",
       "    </tr>\n",
       "    <tr>\n",
       "      <th>2</th>\n",
       "      <td>0004-TLHLJ</td>\n",
       "      <td>Male</td>\n",
       "      <td>0</td>\n",
       "      <td>No</td>\n",
       "      <td>No</td>\n",
       "      <td>4</td>\n",
       "      <td>Yes</td>\n",
       "      <td>No</td>\n",
       "      <td>No</td>\n",
       "      <td>No</td>\n",
       "      <td>...</td>\n",
       "      <td>1</td>\n",
       "      <td>0</td>\n",
       "      <td>0</td>\n",
       "      <td>1</td>\n",
       "      <td>0</td>\n",
       "      <td>1</td>\n",
       "      <td>0</td>\n",
       "      <td>0</td>\n",
       "      <td>1</td>\n",
       "      <td>0</td>\n",
       "    </tr>\n",
       "    <tr>\n",
       "      <th>3</th>\n",
       "      <td>0011-IGKFF</td>\n",
       "      <td>Male</td>\n",
       "      <td>1</td>\n",
       "      <td>Yes</td>\n",
       "      <td>No</td>\n",
       "      <td>13</td>\n",
       "      <td>Yes</td>\n",
       "      <td>No</td>\n",
       "      <td>No</td>\n",
       "      <td>Yes</td>\n",
       "      <td>...</td>\n",
       "      <td>1</td>\n",
       "      <td>0</td>\n",
       "      <td>0</td>\n",
       "      <td>1</td>\n",
       "      <td>0</td>\n",
       "      <td>1</td>\n",
       "      <td>0</td>\n",
       "      <td>0</td>\n",
       "      <td>1</td>\n",
       "      <td>0</td>\n",
       "    </tr>\n",
       "    <tr>\n",
       "      <th>4</th>\n",
       "      <td>0013-EXCHZ</td>\n",
       "      <td>Female</td>\n",
       "      <td>1</td>\n",
       "      <td>Yes</td>\n",
       "      <td>No</td>\n",
       "      <td>3</td>\n",
       "      <td>Yes</td>\n",
       "      <td>No</td>\n",
       "      <td>No</td>\n",
       "      <td>No</td>\n",
       "      <td>...</td>\n",
       "      <td>1</td>\n",
       "      <td>0</td>\n",
       "      <td>0</td>\n",
       "      <td>1</td>\n",
       "      <td>0</td>\n",
       "      <td>1</td>\n",
       "      <td>0</td>\n",
       "      <td>1</td>\n",
       "      <td>1</td>\n",
       "      <td>0</td>\n",
       "    </tr>\n",
       "  </tbody>\n",
       "</table>\n",
       "<p>5 rows × 35 columns</p>\n",
       "</div>"
      ],
      "text/plain": [
       "  customer_id  gender  senior_citizen partner dependents  tenure  \\\n",
       "0  0002-ORFBO  Female               0     Yes        Yes       9   \n",
       "1  0003-MKNFE    Male               0      No         No       9   \n",
       "2  0004-TLHLJ    Male               0      No         No       4   \n",
       "3  0011-IGKFF    Male               1     Yes         No      13   \n",
       "4  0013-EXCHZ  Female               1     Yes         No       3   \n",
       "\n",
       "  phone_service multiple_lines online_security online_backup  ...  \\\n",
       "0           Yes             No              No           Yes  ...   \n",
       "1           Yes            Yes              No            No  ...   \n",
       "2           Yes             No              No            No  ...   \n",
       "3           Yes             No              No           Yes  ...   \n",
       "4           Yes             No              No            No  ...   \n",
       "\n",
       "  dependents_No dependents_Yes paperless_billing_No paperless_billing_Yes  \\\n",
       "0             0              1                    0                     1   \n",
       "1             1              0                    1                     0   \n",
       "2             1              0                    0                     1   \n",
       "3             1              0                    0                     1   \n",
       "4             1              0                    0                     1   \n",
       "\n",
       "  churn_No  churn_Yes tech_support_No internet service tech_support_Yes  \\\n",
       "0        1          0                                0                1   \n",
       "1        1          0                                0                0   \n",
       "2        0          1                                0                0   \n",
       "3        0          1                                0                0   \n",
       "4        0          1                                0                1   \n",
       "\n",
       "  internet_service_type_Fiber optic internet_service_type_None  \n",
       "0                                 0                          0  \n",
       "1                                 0                          0  \n",
       "2                                 1                          0  \n",
       "3                                 1                          0  \n",
       "4                                 1                          0  \n",
       "\n",
       "[5 rows x 35 columns]"
      ]
     },
     "execution_count": 27,
     "metadata": {},
     "output_type": "execute_result"
    }
   ],
   "source": [
    "# concatenating dummies to the tidy_telco dataframe\n",
    "\n",
    "tidy_telco = pd.concat([tidy_telco, dummies], axis = 1)\n",
    "tidy_telco.head()"
   ]
  },
  {
   "cell_type": "code",
   "execution_count": 28,
   "id": "47401456",
   "metadata": {},
   "outputs": [],
   "source": [
    "# dropping columns unnecessary for modelling (namely, objects and columns with dummies created for them)\n",
    "\n",
    "drop_columns = ['customer_id', 'gender', 'partner', 'dependents', 'tenure', 'phone_service', 'multiple_lines',\n",
    "               'online_security', 'online_backup', 'device_protection', 'streaming_tv','streaming_movies', \n",
    "                'total_charges', 'gender_Female', 'gender_Male', 'partner_No', 'partner_Yes', 'dependents_No',\n",
    "                'dependents_Yes', 'payment_type', 'contract_type', 'churn', 'paperless_billing', 'tech_support', \n",
    "               'internet_service_type', 'monthly_charges']"
   ]
  },
  {
   "cell_type": "code",
   "execution_count": 29,
   "id": "aa473ae6",
   "metadata": {},
   "outputs": [
    {
     "data": {
      "text/html": [
       "<div>\n",
       "<style scoped>\n",
       "    .dataframe tbody tr th:only-of-type {\n",
       "        vertical-align: middle;\n",
       "    }\n",
       "\n",
       "    .dataframe tbody tr th {\n",
       "        vertical-align: top;\n",
       "    }\n",
       "\n",
       "    .dataframe thead th {\n",
       "        text-align: right;\n",
       "    }\n",
       "</style>\n",
       "<table border=\"1\" class=\"dataframe\">\n",
       "  <thead>\n",
       "    <tr style=\"text-align: right;\">\n",
       "      <th></th>\n",
       "      <th>senior_citizen</th>\n",
       "      <th>paperless_billing_No</th>\n",
       "      <th>paperless_billing_Yes</th>\n",
       "      <th>churn_No</th>\n",
       "      <th>churn_Yes</th>\n",
       "      <th>tech_support_No internet service</th>\n",
       "      <th>tech_support_Yes</th>\n",
       "      <th>internet_service_type_Fiber optic</th>\n",
       "      <th>internet_service_type_None</th>\n",
       "    </tr>\n",
       "  </thead>\n",
       "  <tbody>\n",
       "    <tr>\n",
       "      <th>0</th>\n",
       "      <td>0</td>\n",
       "      <td>0</td>\n",
       "      <td>1</td>\n",
       "      <td>1</td>\n",
       "      <td>0</td>\n",
       "      <td>0</td>\n",
       "      <td>1</td>\n",
       "      <td>0</td>\n",
       "      <td>0</td>\n",
       "    </tr>\n",
       "    <tr>\n",
       "      <th>1</th>\n",
       "      <td>0</td>\n",
       "      <td>1</td>\n",
       "      <td>0</td>\n",
       "      <td>1</td>\n",
       "      <td>0</td>\n",
       "      <td>0</td>\n",
       "      <td>0</td>\n",
       "      <td>0</td>\n",
       "      <td>0</td>\n",
       "    </tr>\n",
       "    <tr>\n",
       "      <th>2</th>\n",
       "      <td>0</td>\n",
       "      <td>0</td>\n",
       "      <td>1</td>\n",
       "      <td>0</td>\n",
       "      <td>1</td>\n",
       "      <td>0</td>\n",
       "      <td>0</td>\n",
       "      <td>1</td>\n",
       "      <td>0</td>\n",
       "    </tr>\n",
       "    <tr>\n",
       "      <th>3</th>\n",
       "      <td>1</td>\n",
       "      <td>0</td>\n",
       "      <td>1</td>\n",
       "      <td>0</td>\n",
       "      <td>1</td>\n",
       "      <td>0</td>\n",
       "      <td>0</td>\n",
       "      <td>1</td>\n",
       "      <td>0</td>\n",
       "    </tr>\n",
       "    <tr>\n",
       "      <th>4</th>\n",
       "      <td>1</td>\n",
       "      <td>0</td>\n",
       "      <td>1</td>\n",
       "      <td>0</td>\n",
       "      <td>1</td>\n",
       "      <td>0</td>\n",
       "      <td>1</td>\n",
       "      <td>1</td>\n",
       "      <td>0</td>\n",
       "    </tr>\n",
       "  </tbody>\n",
       "</table>\n",
       "</div>"
      ],
      "text/plain": [
       "   senior_citizen  paperless_billing_No  paperless_billing_Yes  churn_No  \\\n",
       "0               0                     0                      1         1   \n",
       "1               0                     1                      0         1   \n",
       "2               0                     0                      1         0   \n",
       "3               1                     0                      1         0   \n",
       "4               1                     0                      1         0   \n",
       "\n",
       "   churn_Yes  tech_support_No internet service  tech_support_Yes  \\\n",
       "0          0                                 0                 1   \n",
       "1          0                                 0                 0   \n",
       "2          1                                 0                 0   \n",
       "3          1                                 0                 0   \n",
       "4          1                                 0                 1   \n",
       "\n",
       "   internet_service_type_Fiber optic  internet_service_type_None  \n",
       "0                                  0                           0  \n",
       "1                                  0                           0  \n",
       "2                                  1                           0  \n",
       "3                                  1                           0  \n",
       "4                                  1                           0  "
      ]
     },
     "execution_count": 29,
     "metadata": {},
     "output_type": "execute_result"
    }
   ],
   "source": [
    "# dropping columns for machine learning purposes\n",
    "\n",
    "tidy_telco.drop(columns = drop_columns, inplace = True)\n",
    "\n",
    "tidy_telco.head()"
   ]
  },
  {
   "cell_type": "code",
   "execution_count": 30,
   "id": "6684de6a",
   "metadata": {},
   "outputs": [
    {
     "name": "stdout",
     "output_type": "stream",
     "text": [
      "<class 'pandas.core.frame.DataFrame'>\n",
      "RangeIndex: 7043 entries, 0 to 7042\n",
      "Data columns (total 9 columns):\n",
      " #   Column                             Non-Null Count  Dtype\n",
      "---  ------                             --------------  -----\n",
      " 0   senior_citizen                     7043 non-null   int64\n",
      " 1   paperless_billing_No               7043 non-null   uint8\n",
      " 2   paperless_billing_Yes              7043 non-null   uint8\n",
      " 3   churn_No                           7043 non-null   uint8\n",
      " 4   churn_Yes                          7043 non-null   uint8\n",
      " 5   tech_support_No internet service   7043 non-null   uint8\n",
      " 6   tech_support_Yes                   7043 non-null   uint8\n",
      " 7   internet_service_type_Fiber optic  7043 non-null   uint8\n",
      " 8   internet_service_type_None         7043 non-null   uint8\n",
      "dtypes: int64(1), uint8(8)\n",
      "memory usage: 110.2 KB\n"
     ]
    }
   ],
   "source": [
    "# checking values in tidy_telco\n",
    "\n",
    "tidy_telco.info()"
   ]
  },
  {
   "cell_type": "code",
   "execution_count": null,
   "id": "2f6419ca",
   "metadata": {},
   "outputs": [],
   "source": []
  },
  {
   "cell_type": "code",
   "execution_count": 31,
   "id": "9774cb9c",
   "metadata": {},
   "outputs": [
    {
     "data": {
      "text/plain": [
       "((4225, 9), (1409, 9), (1409, 9))"
      ]
     },
     "execution_count": 31,
     "metadata": {},
     "output_type": "execute_result"
    }
   ],
   "source": [
    "# splitting into train-validate-test in preparation for modelling\n",
    "\n",
    "\n",
    "train_m, validate_m, test_m = my_train_test_split(tidy_telco, target = 'churn_No')\n",
    "\n",
    "train_m.shape, validate_m.shape, test_m.shape"
   ]
  },
  {
   "cell_type": "code",
   "execution_count": 32,
   "id": "ac02894a",
   "metadata": {},
   "outputs": [
    {
     "data": {
      "text/html": [
       "<div>\n",
       "<style scoped>\n",
       "    .dataframe tbody tr th:only-of-type {\n",
       "        vertical-align: middle;\n",
       "    }\n",
       "\n",
       "    .dataframe tbody tr th {\n",
       "        vertical-align: top;\n",
       "    }\n",
       "\n",
       "    .dataframe thead th {\n",
       "        text-align: right;\n",
       "    }\n",
       "</style>\n",
       "<table border=\"1\" class=\"dataframe\">\n",
       "  <thead>\n",
       "    <tr style=\"text-align: right;\">\n",
       "      <th></th>\n",
       "      <th>senior_citizen</th>\n",
       "      <th>paperless_billing_No</th>\n",
       "      <th>paperless_billing_Yes</th>\n",
       "      <th>churn_No</th>\n",
       "      <th>churn_Yes</th>\n",
       "      <th>tech_support_No internet service</th>\n",
       "      <th>tech_support_Yes</th>\n",
       "      <th>internet_service_type_Fiber optic</th>\n",
       "      <th>internet_service_type_None</th>\n",
       "    </tr>\n",
       "  </thead>\n",
       "  <tbody>\n",
       "    <tr>\n",
       "      <th>3441</th>\n",
       "      <td>0</td>\n",
       "      <td>0</td>\n",
       "      <td>1</td>\n",
       "      <td>1</td>\n",
       "      <td>0</td>\n",
       "      <td>0</td>\n",
       "      <td>0</td>\n",
       "      <td>1</td>\n",
       "      <td>0</td>\n",
       "    </tr>\n",
       "    <tr>\n",
       "      <th>1266</th>\n",
       "      <td>0</td>\n",
       "      <td>0</td>\n",
       "      <td>1</td>\n",
       "      <td>1</td>\n",
       "      <td>0</td>\n",
       "      <td>0</td>\n",
       "      <td>0</td>\n",
       "      <td>1</td>\n",
       "      <td>0</td>\n",
       "    </tr>\n",
       "    <tr>\n",
       "      <th>5086</th>\n",
       "      <td>0</td>\n",
       "      <td>1</td>\n",
       "      <td>0</td>\n",
       "      <td>1</td>\n",
       "      <td>0</td>\n",
       "      <td>0</td>\n",
       "      <td>1</td>\n",
       "      <td>0</td>\n",
       "      <td>0</td>\n",
       "    </tr>\n",
       "    <tr>\n",
       "      <th>5279</th>\n",
       "      <td>1</td>\n",
       "      <td>1</td>\n",
       "      <td>0</td>\n",
       "      <td>1</td>\n",
       "      <td>0</td>\n",
       "      <td>0</td>\n",
       "      <td>0</td>\n",
       "      <td>0</td>\n",
       "      <td>0</td>\n",
       "    </tr>\n",
       "    <tr>\n",
       "      <th>134</th>\n",
       "      <td>0</td>\n",
       "      <td>1</td>\n",
       "      <td>0</td>\n",
       "      <td>1</td>\n",
       "      <td>0</td>\n",
       "      <td>0</td>\n",
       "      <td>0</td>\n",
       "      <td>1</td>\n",
       "      <td>0</td>\n",
       "    </tr>\n",
       "    <tr>\n",
       "      <th>...</th>\n",
       "      <td>...</td>\n",
       "      <td>...</td>\n",
       "      <td>...</td>\n",
       "      <td>...</td>\n",
       "      <td>...</td>\n",
       "      <td>...</td>\n",
       "      <td>...</td>\n",
       "      <td>...</td>\n",
       "      <td>...</td>\n",
       "    </tr>\n",
       "    <tr>\n",
       "      <th>2791</th>\n",
       "      <td>0</td>\n",
       "      <td>0</td>\n",
       "      <td>1</td>\n",
       "      <td>1</td>\n",
       "      <td>0</td>\n",
       "      <td>1</td>\n",
       "      <td>0</td>\n",
       "      <td>0</td>\n",
       "      <td>1</td>\n",
       "    </tr>\n",
       "    <tr>\n",
       "      <th>6776</th>\n",
       "      <td>0</td>\n",
       "      <td>1</td>\n",
       "      <td>0</td>\n",
       "      <td>1</td>\n",
       "      <td>0</td>\n",
       "      <td>1</td>\n",
       "      <td>0</td>\n",
       "      <td>0</td>\n",
       "      <td>1</td>\n",
       "    </tr>\n",
       "    <tr>\n",
       "      <th>141</th>\n",
       "      <td>0</td>\n",
       "      <td>1</td>\n",
       "      <td>0</td>\n",
       "      <td>1</td>\n",
       "      <td>0</td>\n",
       "      <td>0</td>\n",
       "      <td>0</td>\n",
       "      <td>0</td>\n",
       "      <td>0</td>\n",
       "    </tr>\n",
       "    <tr>\n",
       "      <th>5053</th>\n",
       "      <td>1</td>\n",
       "      <td>1</td>\n",
       "      <td>0</td>\n",
       "      <td>1</td>\n",
       "      <td>0</td>\n",
       "      <td>0</td>\n",
       "      <td>0</td>\n",
       "      <td>0</td>\n",
       "      <td>0</td>\n",
       "    </tr>\n",
       "    <tr>\n",
       "      <th>6996</th>\n",
       "      <td>0</td>\n",
       "      <td>1</td>\n",
       "      <td>0</td>\n",
       "      <td>1</td>\n",
       "      <td>0</td>\n",
       "      <td>0</td>\n",
       "      <td>1</td>\n",
       "      <td>0</td>\n",
       "      <td>0</td>\n",
       "    </tr>\n",
       "  </tbody>\n",
       "</table>\n",
       "<p>3104 rows × 9 columns</p>\n",
       "</div>"
      ],
      "text/plain": [
       "      senior_citizen  paperless_billing_No  paperless_billing_Yes  churn_No  \\\n",
       "3441               0                     0                      1         1   \n",
       "1266               0                     0                      1         1   \n",
       "5086               0                     1                      0         1   \n",
       "5279               1                     1                      0         1   \n",
       "134                0                     1                      0         1   \n",
       "...              ...                   ...                    ...       ...   \n",
       "2791               0                     0                      1         1   \n",
       "6776               0                     1                      0         1   \n",
       "141                0                     1                      0         1   \n",
       "5053               1                     1                      0         1   \n",
       "6996               0                     1                      0         1   \n",
       "\n",
       "      churn_Yes  tech_support_No internet service  tech_support_Yes  \\\n",
       "3441          0                                 0                 0   \n",
       "1266          0                                 0                 0   \n",
       "5086          0                                 0                 1   \n",
       "5279          0                                 0                 0   \n",
       "134           0                                 0                 0   \n",
       "...         ...                               ...               ...   \n",
       "2791          0                                 1                 0   \n",
       "6776          0                                 1                 0   \n",
       "141           0                                 0                 0   \n",
       "5053          0                                 0                 0   \n",
       "6996          0                                 0                 1   \n",
       "\n",
       "      internet_service_type_Fiber optic  internet_service_type_None  \n",
       "3441                                  1                           0  \n",
       "1266                                  1                           0  \n",
       "5086                                  0                           0  \n",
       "5279                                  0                           0  \n",
       "134                                   1                           0  \n",
       "...                                 ...                         ...  \n",
       "2791                                  0                           1  \n",
       "6776                                  0                           1  \n",
       "141                                   0                           0  \n",
       "5053                                  0                           0  \n",
       "6996                                  0                           0  \n",
       "\n",
       "[3104 rows x 9 columns]"
      ]
     },
     "execution_count": 32,
     "metadata": {},
     "output_type": "execute_result"
    }
   ],
   "source": [
    "# # baseline for churn is no-churn (ie, ['churn_No'] == '1').\n",
    "\n",
    "train_m[train_m.churn_No == 1]\n",
    "\n",
    "# not having churned is True, ie, 1."
   ]
  },
  {
   "cell_type": "code",
   "execution_count": 33,
   "id": "9362160f",
   "metadata": {},
   "outputs": [
    {
     "data": {
      "text/plain": [
       "0.7346745562130178"
      ]
     },
     "execution_count": 33,
     "metadata": {},
     "output_type": "execute_result"
    }
   ],
   "source": [
    "# finding the mean pc of the customers who have not churned, and setting it as the baseline\n",
    "\n",
    "baseline = (train_m.churn_No == 1).mean()\n",
    "baseline\n",
    "\n",
    "# how many customers did not churn\n",
    "# my baseline is about 73.46pc"
   ]
  },
  {
   "cell_type": "markdown",
   "id": "dd7e525a",
   "metadata": {},
   "source": [
    "**This baseline of about 73.46pc indicates the likelihood that a given customer will remain a Telco customer.   \n",
    "  The inverse, or about 26.53pc, is the likelihood that a given customer would leave Telco.**"
   ]
  },
  {
   "cell_type": "code",
   "execution_count": null,
   "id": "6b4e67f6",
   "metadata": {},
   "outputs": [],
   "source": []
  },
  {
   "cell_type": "code",
   "execution_count": 34,
   "id": "94fb5709",
   "metadata": {},
   "outputs": [
    {
     "data": {
      "text/plain": [
       "1    3104\n",
       "0    1121\n",
       "Name: churn_No, dtype: int64"
      ]
     },
     "execution_count": 34,
     "metadata": {},
     "output_type": "execute_result"
    }
   ],
   "source": [
    "# comparing the 'churn' and 'churn_No' columns\n",
    "\n",
    "train_m.churn_No.value_counts()\n",
    "\n",
    "# 1 = True (ie, no-churned)."
   ]
  },
  {
   "cell_type": "code",
   "execution_count": null,
   "id": "c797392a",
   "metadata": {},
   "outputs": [],
   "source": []
  },
  {
   "cell_type": "code",
   "execution_count": 35,
   "id": "3eee25c0",
   "metadata": {},
   "outputs": [],
   "source": [
    "## split train, val, test from above into X_train, X_val, X_test and y-train, etc\n",
    "# y_train is only our target\n",
    "# X_ is everything except for 'churn_Yes' and 'churn_No'\n",
    "\n",
    "\n",
    "X_train = train_m.drop(columns = ['churn_Yes', 'churn_No'])\n",
    "y_train = train_m['churn_No']\n",
    "\n",
    "X_val = validate_m.drop(columns = ['churn_Yes', 'churn_No'])\n",
    "y_val = validate_m['churn_No']\n",
    "\n",
    "X_test = test_m.drop(columns = ['churn_Yes', 'churn_No'])\n",
    "y_test = test_m['churn_No']"
   ]
  },
  {
   "cell_type": "code",
   "execution_count": null,
   "id": "5b3316ba",
   "metadata": {},
   "outputs": [],
   "source": []
  },
  {
   "cell_type": "markdown",
   "id": "3e90fcde",
   "metadata": {},
   "source": [
    "**A brief look at what's in the X_train dataset**"
   ]
  },
  {
   "cell_type": "code",
   "execution_count": 36,
   "id": "d2c07dee",
   "metadata": {},
   "outputs": [
    {
     "data": {
      "text/html": [
       "<div>\n",
       "<style scoped>\n",
       "    .dataframe tbody tr th:only-of-type {\n",
       "        vertical-align: middle;\n",
       "    }\n",
       "\n",
       "    .dataframe tbody tr th {\n",
       "        vertical-align: top;\n",
       "    }\n",
       "\n",
       "    .dataframe thead th {\n",
       "        text-align: right;\n",
       "    }\n",
       "</style>\n",
       "<table border=\"1\" class=\"dataframe\">\n",
       "  <thead>\n",
       "    <tr style=\"text-align: right;\">\n",
       "      <th></th>\n",
       "      <th>senior_citizen</th>\n",
       "      <th>paperless_billing_No</th>\n",
       "      <th>paperless_billing_Yes</th>\n",
       "      <th>tech_support_No internet service</th>\n",
       "      <th>tech_support_Yes</th>\n",
       "      <th>internet_service_type_Fiber optic</th>\n",
       "      <th>internet_service_type_None</th>\n",
       "    </tr>\n",
       "  </thead>\n",
       "  <tbody>\n",
       "    <tr>\n",
       "      <th>3441</th>\n",
       "      <td>0</td>\n",
       "      <td>0</td>\n",
       "      <td>1</td>\n",
       "      <td>0</td>\n",
       "      <td>0</td>\n",
       "      <td>1</td>\n",
       "      <td>0</td>\n",
       "    </tr>\n",
       "    <tr>\n",
       "      <th>289</th>\n",
       "      <td>0</td>\n",
       "      <td>1</td>\n",
       "      <td>0</td>\n",
       "      <td>1</td>\n",
       "      <td>0</td>\n",
       "      <td>0</td>\n",
       "      <td>1</td>\n",
       "    </tr>\n",
       "    <tr>\n",
       "      <th>1266</th>\n",
       "      <td>0</td>\n",
       "      <td>0</td>\n",
       "      <td>1</td>\n",
       "      <td>0</td>\n",
       "      <td>0</td>\n",
       "      <td>1</td>\n",
       "      <td>0</td>\n",
       "    </tr>\n",
       "    <tr>\n",
       "      <th>275</th>\n",
       "      <td>1</td>\n",
       "      <td>0</td>\n",
       "      <td>1</td>\n",
       "      <td>0</td>\n",
       "      <td>0</td>\n",
       "      <td>1</td>\n",
       "      <td>0</td>\n",
       "    </tr>\n",
       "    <tr>\n",
       "      <th>5086</th>\n",
       "      <td>0</td>\n",
       "      <td>1</td>\n",
       "      <td>0</td>\n",
       "      <td>0</td>\n",
       "      <td>1</td>\n",
       "      <td>0</td>\n",
       "      <td>0</td>\n",
       "    </tr>\n",
       "  </tbody>\n",
       "</table>\n",
       "</div>"
      ],
      "text/plain": [
       "      senior_citizen  paperless_billing_No  paperless_billing_Yes  \\\n",
       "3441               0                     0                      1   \n",
       "289                0                     1                      0   \n",
       "1266               0                     0                      1   \n",
       "275                1                     0                      1   \n",
       "5086               0                     1                      0   \n",
       "\n",
       "      tech_support_No internet service  tech_support_Yes  \\\n",
       "3441                                 0                 0   \n",
       "289                                  1                 0   \n",
       "1266                                 0                 0   \n",
       "275                                  0                 0   \n",
       "5086                                 0                 1   \n",
       "\n",
       "      internet_service_type_Fiber optic  internet_service_type_None  \n",
       "3441                                  1                           0  \n",
       "289                                   0                           1  \n",
       "1266                                  1                           0  \n",
       "275                                   1                           0  \n",
       "5086                                  0                           0  "
      ]
     },
     "execution_count": 36,
     "metadata": {},
     "output_type": "execute_result"
    }
   ],
   "source": [
    "# looking at what's in X_train\n",
    "\n",
    "X_train.head()"
   ]
  },
  {
   "cell_type": "code",
   "execution_count": null,
   "id": "10989967",
   "metadata": {},
   "outputs": [],
   "source": []
  },
  {
   "cell_type": "markdown",
   "id": "a8ffbc8f",
   "metadata": {},
   "source": [
    "<h1 style=\"background-color:rgba(47, 199, 13, 0.4);\">MODELLING OF VARIABLES : THE MODELS"
   ]
  },
  {
   "cell_type": "markdown",
   "id": "846550c4",
   "metadata": {},
   "source": [
    "**Here, two models will be used, the Decision Tree model and the K-Nearest Neighbour model, both with two different depths (tree) or instances (KNN) used to train the model.  \n",
    "After training, the accuracy of the four options is examined, with the goal of determining the best model to use to predict customer churn.**"
   ]
  },
  {
   "cell_type": "code",
   "execution_count": null,
   "id": "04e15a3d",
   "metadata": {},
   "outputs": [],
   "source": []
  },
  {
   "cell_type": "markdown",
   "id": "819ff13e",
   "metadata": {},
   "source": [
    "### <p style=\"background-color:rgba(47, 199, 13, 0.1);\">Modelling On The Decision Tree : Depth Of 3"
   ]
  },
  {
   "cell_type": "code",
   "execution_count": 37,
   "id": "6ab82a43",
   "metadata": {},
   "outputs": [],
   "source": [
    "# initialise the Decision Tree Classifier = clf\n",
    "\n",
    "seed = 23\n",
    "\n",
    "clf3 = DecisionTreeClassifier(max_depth = 3, random_state = seed)"
   ]
  },
  {
   "cell_type": "code",
   "execution_count": 38,
   "id": "7dc14e8f",
   "metadata": {
    "scrolled": true
   },
   "outputs": [
    {
     "data": {
      "text/html": [
       "<style>#sk-container-id-1 {color: black;background-color: white;}#sk-container-id-1 pre{padding: 0;}#sk-container-id-1 div.sk-toggleable {background-color: white;}#sk-container-id-1 label.sk-toggleable__label {cursor: pointer;display: block;width: 100%;margin-bottom: 0;padding: 0.3em;box-sizing: border-box;text-align: center;}#sk-container-id-1 label.sk-toggleable__label-arrow:before {content: \"▸\";float: left;margin-right: 0.25em;color: #696969;}#sk-container-id-1 label.sk-toggleable__label-arrow:hover:before {color: black;}#sk-container-id-1 div.sk-estimator:hover label.sk-toggleable__label-arrow:before {color: black;}#sk-container-id-1 div.sk-toggleable__content {max-height: 0;max-width: 0;overflow: hidden;text-align: left;background-color: #f0f8ff;}#sk-container-id-1 div.sk-toggleable__content pre {margin: 0.2em;color: black;border-radius: 0.25em;background-color: #f0f8ff;}#sk-container-id-1 input.sk-toggleable__control:checked~div.sk-toggleable__content {max-height: 200px;max-width: 100%;overflow: auto;}#sk-container-id-1 input.sk-toggleable__control:checked~label.sk-toggleable__label-arrow:before {content: \"▾\";}#sk-container-id-1 div.sk-estimator input.sk-toggleable__control:checked~label.sk-toggleable__label {background-color: #d4ebff;}#sk-container-id-1 div.sk-label input.sk-toggleable__control:checked~label.sk-toggleable__label {background-color: #d4ebff;}#sk-container-id-1 input.sk-hidden--visually {border: 0;clip: rect(1px 1px 1px 1px);clip: rect(1px, 1px, 1px, 1px);height: 1px;margin: -1px;overflow: hidden;padding: 0;position: absolute;width: 1px;}#sk-container-id-1 div.sk-estimator {font-family: monospace;background-color: #f0f8ff;border: 1px dotted black;border-radius: 0.25em;box-sizing: border-box;margin-bottom: 0.5em;}#sk-container-id-1 div.sk-estimator:hover {background-color: #d4ebff;}#sk-container-id-1 div.sk-parallel-item::after {content: \"\";width: 100%;border-bottom: 1px solid gray;flex-grow: 1;}#sk-container-id-1 div.sk-label:hover label.sk-toggleable__label {background-color: #d4ebff;}#sk-container-id-1 div.sk-serial::before {content: \"\";position: absolute;border-left: 1px solid gray;box-sizing: border-box;top: 0;bottom: 0;left: 50%;z-index: 0;}#sk-container-id-1 div.sk-serial {display: flex;flex-direction: column;align-items: center;background-color: white;padding-right: 0.2em;padding-left: 0.2em;position: relative;}#sk-container-id-1 div.sk-item {position: relative;z-index: 1;}#sk-container-id-1 div.sk-parallel {display: flex;align-items: stretch;justify-content: center;background-color: white;position: relative;}#sk-container-id-1 div.sk-item::before, #sk-container-id-1 div.sk-parallel-item::before {content: \"\";position: absolute;border-left: 1px solid gray;box-sizing: border-box;top: 0;bottom: 0;left: 50%;z-index: -1;}#sk-container-id-1 div.sk-parallel-item {display: flex;flex-direction: column;z-index: 1;position: relative;background-color: white;}#sk-container-id-1 div.sk-parallel-item:first-child::after {align-self: flex-end;width: 50%;}#sk-container-id-1 div.sk-parallel-item:last-child::after {align-self: flex-start;width: 50%;}#sk-container-id-1 div.sk-parallel-item:only-child::after {width: 0;}#sk-container-id-1 div.sk-dashed-wrapped {border: 1px dashed gray;margin: 0 0.4em 0.5em 0.4em;box-sizing: border-box;padding-bottom: 0.4em;background-color: white;}#sk-container-id-1 div.sk-label label {font-family: monospace;font-weight: bold;display: inline-block;line-height: 1.2em;}#sk-container-id-1 div.sk-label-container {text-align: center;}#sk-container-id-1 div.sk-container {/* jupyter's `normalize.less` sets `[hidden] { display: none; }` but bootstrap.min.css set `[hidden] { display: none !important; }` so we also need the `!important` here to be able to override the default hidden behavior on the sphinx rendered scikit-learn.org. See: https://github.com/scikit-learn/scikit-learn/issues/21755 */display: inline-block !important;position: relative;}#sk-container-id-1 div.sk-text-repr-fallback {display: none;}</style><div id=\"sk-container-id-1\" class=\"sk-top-container\"><div class=\"sk-text-repr-fallback\"><pre>DecisionTreeClassifier(max_depth=3, random_state=23)</pre><b>In a Jupyter environment, please rerun this cell to show the HTML representation or trust the notebook. <br />On GitHub, the HTML representation is unable to render, please try loading this page with nbviewer.org.</b></div><div class=\"sk-container\" hidden><div class=\"sk-item\"><div class=\"sk-estimator sk-toggleable\"><input class=\"sk-toggleable__control sk-hidden--visually\" id=\"sk-estimator-id-1\" type=\"checkbox\" checked><label for=\"sk-estimator-id-1\" class=\"sk-toggleable__label sk-toggleable__label-arrow\">DecisionTreeClassifier</label><div class=\"sk-toggleable__content\"><pre>DecisionTreeClassifier(max_depth=3, random_state=23)</pre></div></div></div></div></div>"
      ],
      "text/plain": [
       "DecisionTreeClassifier(max_depth=3, random_state=23)"
      ]
     },
     "execution_count": 38,
     "metadata": {},
     "output_type": "execute_result"
    }
   ],
   "source": [
    "# fitting the model : \n",
    "    # it must know the features and the labels, in order to associate them with one another.\n",
    "    \n",
    "# with this step, the model has been trained.\n",
    "\n",
    "clf3 = clf3.fit(X_train, y_train)\n",
    "clf3"
   ]
  },
  {
   "cell_type": "code",
   "execution_count": 39,
   "id": "f7a60a0c",
   "metadata": {},
   "outputs": [
    {
     "data": {
      "text/plain": [
       "0.743905325443787"
      ]
     },
     "execution_count": 39,
     "metadata": {},
     "output_type": "execute_result"
    }
   ],
   "source": [
    "# Examining accuracy of Decision Tree Classifier model :\n",
    "# prediction on the X_train set against the y_train reality.\n",
    "\n",
    "\n",
    "clf3.score(X_train, y_train)\n",
    "\n",
    "# the X_train data is compared against y_train : 74.39pc accuracy"
   ]
  },
  {
   "cell_type": "markdown",
   "id": "ab109e88",
   "metadata": {},
   "source": [
    "**Here, we can see that the accuracy of the training dataset on the Decision Tree Classifer model with a depth of 3 is 74.39pc.**"
   ]
  },
  {
   "cell_type": "code",
   "execution_count": 40,
   "id": "dbdcd557",
   "metadata": {},
   "outputs": [],
   "source": [
    "# predictions for churn are on the X_train ; true values are on y_train\n",
    "# variable to be used for classification report\n",
    "\n",
    "y_train_predictions3 = clf3.predict(X_train)\n"
   ]
  },
  {
   "cell_type": "code",
   "execution_count": null,
   "id": "e8aed0db",
   "metadata": {},
   "outputs": [],
   "source": []
  },
  {
   "cell_type": "markdown",
   "id": "c20a92d8",
   "metadata": {},
   "source": [
    "**Printing the classification report (below) allows for a visualisation of different aspects of data analysis.**"
   ]
  },
  {
   "cell_type": "code",
   "execution_count": 41,
   "id": "6a8dab53",
   "metadata": {},
   "outputs": [
    {
     "name": "stdout",
     "output_type": "stream",
     "text": [
      "Classification Report For Training Dataset \n",
      "  \n",
      "               precision    recall  f1-score   support\n",
      "\n",
      "           0       0.52      0.49      0.50      1121\n",
      "           1       0.82      0.84      0.83      3104\n",
      "\n",
      "    accuracy                           0.74      4225\n",
      "   macro avg       0.67      0.66      0.67      4225\n",
      "weighted avg       0.74      0.74      0.74      4225\n",
      "\n"
     ]
    }
   ],
   "source": [
    "## print the classification report :\n",
    "\n",
    "print(f'Classification Report For Training Dataset \\n  \\n {classification_report(y_train, y_train_predictions3)}')\n",
    "\n",
    "# Accuracy of 74pc"
   ]
  },
  {
   "cell_type": "code",
   "execution_count": 42,
   "id": "c6854b1e",
   "metadata": {},
   "outputs": [
    {
     "data": {
      "text/plain": [
       "0.743905325443787"
      ]
     },
     "execution_count": 42,
     "metadata": {},
     "output_type": "execute_result"
    }
   ],
   "source": [
    "# Turning the training accuracy score into a useable variable \n",
    "\n",
    "train_accuracy3 = clf3.score(X_train, y_train)\n",
    "train_accuracy3"
   ]
  },
  {
   "cell_type": "code",
   "execution_count": 43,
   "id": "ea96e900",
   "metadata": {},
   "outputs": [
    {
     "name": "stdout",
     "output_type": "stream",
     "text": [
      "The accuracy of the Decision Tree Classifier on the training dataset is 0.7439.  \n",
      "The baseline accuracy for customer churn is 0.7347, meaning that about 73.47pc of customers will NOT churn.\n"
     ]
    }
   ],
   "source": [
    "# printing statment of the accuracy in plain English :\n",
    "\n",
    "print(f'The accuracy of the Decision Tree Classifier on the training dataset is{train_accuracy3: .4f}.  \\n'\n",
    "      f'The baseline accuracy for customer churn is{baseline: .4f}, meaning that about 73.47pc of customers will NOT churn.')"
   ]
  },
  {
   "cell_type": "code",
   "execution_count": null,
   "id": "d6e18211",
   "metadata": {},
   "outputs": [],
   "source": []
  },
  {
   "cell_type": "markdown",
   "id": "4531f1ef",
   "metadata": {},
   "source": [
    "**The confusion matrix (below) shows a cross-tabulation of the Decision Tree Classifier model's predictions against the actual values, when the depth of branches is 3.**"
   ]
  },
  {
   "cell_type": "code",
   "execution_count": 44,
   "id": "55593c70",
   "metadata": {},
   "outputs": [
    {
     "data": {
      "text/plain": [
       "<sklearn.metrics._plot.confusion_matrix.ConfusionMatrixDisplay at 0x16850f7c0>"
      ]
     },
     "execution_count": 44,
     "metadata": {},
     "output_type": "execute_result"
    },
    {
     "data": {
      "image/png": "[encoded data removed]",
      "text/plain": [
       "<Figure size 640x480 with 2 Axes>"
      ]
     },
     "metadata": {},
     "output_type": "display_data"
    }
   ],
   "source": [
    "## plotting the confusion matrix of clf depth of 3\n",
    "\n",
    "plot_confusion_matrix(clf3, X_train, y_train)"
   ]
  },
  {
   "cell_type": "markdown",
   "id": "f591a2fb",
   "metadata": {},
   "source": [
    "**Based on the above confusion matrix, we see that TN = 539, FP = 572, FN = 510 and TP = 2594.**\n"
   ]
  },
  {
   "cell_type": "code",
   "execution_count": null,
   "id": "b85e59f0",
   "metadata": {},
   "outputs": [],
   "source": []
  },
  {
   "cell_type": "markdown",
   "id": "d8d96d9c",
   "metadata": {},
   "source": [
    "### The validation step for a depth of 3, which follows, of the Decision Tree Classifier authenticates the accuracy of the evaluation of the training dataset."
   ]
  },
  {
   "cell_type": "code",
   "execution_count": 45,
   "id": "d2f2bd4b",
   "metadata": {},
   "outputs": [],
   "source": [
    "#VALIDATION STEP\n",
    "\n",
    "y_val_predictions3 = clf3.predict(X_val)\n",
    "\n",
    "# predicted on X_Val, true values are on y_val : variable to be used to create the classification report"
   ]
  },
  {
   "cell_type": "code",
   "execution_count": 46,
   "id": "57bd98f3",
   "metadata": {},
   "outputs": [
    {
     "name": "stdout",
     "output_type": "stream",
     "text": [
      "Classification Report For Training Dataset, Depth Of 3\n",
      "  \n",
      "               precision    recall  f1-score   support\n",
      "\n",
      "           0       0.54      0.50      0.52       374\n",
      "           1       0.82      0.85      0.83      1035\n",
      "\n",
      "    accuracy                           0.75      1409\n",
      "   macro avg       0.68      0.67      0.68      1409\n",
      "weighted avg       0.75      0.75      0.75      1409\n",
      "\n"
     ]
    }
   ],
   "source": [
    "## print the classification report for a depth of 3 :\n",
    "\n",
    "print(f'Classification Report For Training Dataset, Depth Of 3\\n  \\n {classification_report(y_val, y_val_predictions3)}')\n",
    "\n",
    "# Accuracy of 75pc"
   ]
  },
  {
   "cell_type": "code",
   "execution_count": 47,
   "id": "9b007653",
   "metadata": {},
   "outputs": [
    {
     "data": {
      "text/plain": [
       "0.7544357700496807"
      ]
     },
     "execution_count": 47,
     "metadata": {},
     "output_type": "execute_result"
    }
   ],
   "source": [
    "# Turning the training accuracy score into a useable variable \n",
    "\n",
    "val_accuracy3 = clf3.score(X_val, y_val)\n",
    "val_accuracy3"
   ]
  },
  {
   "cell_type": "code",
   "execution_count": 48,
   "id": "096ea004",
   "metadata": {},
   "outputs": [
    {
     "name": "stdout",
     "output_type": "stream",
     "text": [
      "The accuracy of the Decision Tree Classifier on the validation dataset with a depth of 3 is 0.7544.  \n",
      "The baseline accuracy for customer churn is 0.7347.\n"
     ]
    }
   ],
   "source": [
    "# printing statment that makes sense to the general public :\n",
    "\n",
    "print(f'The accuracy of the Decision Tree Classifier on the validation dataset with a depth of 3 is{val_accuracy3: .4f}.  \\n'\n",
    "      f'The baseline accuracy for customer churn is{baseline: .4f}.')"
   ]
  },
  {
   "cell_type": "code",
   "execution_count": null,
   "id": "ec365dad",
   "metadata": {},
   "outputs": [],
   "source": []
  },
  {
   "cell_type": "markdown",
   "id": "0172d961",
   "metadata": {},
   "source": [
    "**Takeaway, Depth Of 3 :**   \n",
    "**The accuracy of the training dataset and the validation dataset was 74.39pc and 75.44pc, respectively.  \n",
    "Both of these results are higher than the baseline accuracy for customer churn, with 73.47pc who would not churn.**"
   ]
  },
  {
   "cell_type": "code",
   "execution_count": null,
   "id": "0adadbd7",
   "metadata": {},
   "outputs": [],
   "source": []
  },
  {
   "cell_type": "code",
   "execution_count": null,
   "id": "83227ff5",
   "metadata": {},
   "outputs": [],
   "source": []
  },
  {
   "cell_type": "markdown",
   "id": "4e88f3a9",
   "metadata": {},
   "source": [
    "### <p style=\"background-color:rgba(47, 199, 13, 0.1);\">Modelling On The Decision Tree : Depth Of 7"
   ]
  },
  {
   "cell_type": "code",
   "execution_count": 49,
   "id": "83e7d6db",
   "metadata": {},
   "outputs": [],
   "source": [
    "# initialise the Decision Tree Classifier = clf7\n",
    "# depth of 7\n",
    "\n",
    "seed = 23\n",
    "\n",
    "clf7 = DecisionTreeClassifier(max_depth = 7, random_state = seed)"
   ]
  },
  {
   "cell_type": "code",
   "execution_count": 50,
   "id": "871be7f8",
   "metadata": {},
   "outputs": [
    {
     "data": {
      "text/html": [
       "<style>#sk-container-id-2 {color: black;background-color: white;}#sk-container-id-2 pre{padding: 0;}#sk-container-id-2 div.sk-toggleable {background-color: white;}#sk-container-id-2 label.sk-toggleable__label {cursor: pointer;display: block;width: 100%;margin-bottom: 0;padding: 0.3em;box-sizing: border-box;text-align: center;}#sk-container-id-2 label.sk-toggleable__label-arrow:before {content: \"▸\";float: left;margin-right: 0.25em;color: #696969;}#sk-container-id-2 label.sk-toggleable__label-arrow:hover:before {color: black;}#sk-container-id-2 div.sk-estimator:hover label.sk-toggleable__label-arrow:before {color: black;}#sk-container-id-2 div.sk-toggleable__content {max-height: 0;max-width: 0;overflow: hidden;text-align: left;background-color: #f0f8ff;}#sk-container-id-2 div.sk-toggleable__content pre {margin: 0.2em;color: black;border-radius: 0.25em;background-color: #f0f8ff;}#sk-container-id-2 input.sk-toggleable__control:checked~div.sk-toggleable__content {max-height: 200px;max-width: 100%;overflow: auto;}#sk-container-id-2 input.sk-toggleable__control:checked~label.sk-toggleable__label-arrow:before {content: \"▾\";}#sk-container-id-2 div.sk-estimator input.sk-toggleable__control:checked~label.sk-toggleable__label {background-color: #d4ebff;}#sk-container-id-2 div.sk-label input.sk-toggleable__control:checked~label.sk-toggleable__label {background-color: #d4ebff;}#sk-container-id-2 input.sk-hidden--visually {border: 0;clip: rect(1px 1px 1px 1px);clip: rect(1px, 1px, 1px, 1px);height: 1px;margin: -1px;overflow: hidden;padding: 0;position: absolute;width: 1px;}#sk-container-id-2 div.sk-estimator {font-family: monospace;background-color: #f0f8ff;border: 1px dotted black;border-radius: 0.25em;box-sizing: border-box;margin-bottom: 0.5em;}#sk-container-id-2 div.sk-estimator:hover {background-color: #d4ebff;}#sk-container-id-2 div.sk-parallel-item::after {content: \"\";width: 100%;border-bottom: 1px solid gray;flex-grow: 1;}#sk-container-id-2 div.sk-label:hover label.sk-toggleable__label {background-color: #d4ebff;}#sk-container-id-2 div.sk-serial::before {content: \"\";position: absolute;border-left: 1px solid gray;box-sizing: border-box;top: 0;bottom: 0;left: 50%;z-index: 0;}#sk-container-id-2 div.sk-serial {display: flex;flex-direction: column;align-items: center;background-color: white;padding-right: 0.2em;padding-left: 0.2em;position: relative;}#sk-container-id-2 div.sk-item {position: relative;z-index: 1;}#sk-container-id-2 div.sk-parallel {display: flex;align-items: stretch;justify-content: center;background-color: white;position: relative;}#sk-container-id-2 div.sk-item::before, #sk-container-id-2 div.sk-parallel-item::before {content: \"\";position: absolute;border-left: 1px solid gray;box-sizing: border-box;top: 0;bottom: 0;left: 50%;z-index: -1;}#sk-container-id-2 div.sk-parallel-item {display: flex;flex-direction: column;z-index: 1;position: relative;background-color: white;}#sk-container-id-2 div.sk-parallel-item:first-child::after {align-self: flex-end;width: 50%;}#sk-container-id-2 div.sk-parallel-item:last-child::after {align-self: flex-start;width: 50%;}#sk-container-id-2 div.sk-parallel-item:only-child::after {width: 0;}#sk-container-id-2 div.sk-dashed-wrapped {border: 1px dashed gray;margin: 0 0.4em 0.5em 0.4em;box-sizing: border-box;padding-bottom: 0.4em;background-color: white;}#sk-container-id-2 div.sk-label label {font-family: monospace;font-weight: bold;display: inline-block;line-height: 1.2em;}#sk-container-id-2 div.sk-label-container {text-align: center;}#sk-container-id-2 div.sk-container {/* jupyter's `normalize.less` sets `[hidden] { display: none; }` but bootstrap.min.css set `[hidden] { display: none !important; }` so we also need the `!important` here to be able to override the default hidden behavior on the sphinx rendered scikit-learn.org. See: https://github.com/scikit-learn/scikit-learn/issues/21755 */display: inline-block !important;position: relative;}#sk-container-id-2 div.sk-text-repr-fallback {display: none;}</style><div id=\"sk-container-id-2\" class=\"sk-top-container\"><div class=\"sk-text-repr-fallback\"><pre>DecisionTreeClassifier(max_depth=7, random_state=23)</pre><b>In a Jupyter environment, please rerun this cell to show the HTML representation or trust the notebook. <br />On GitHub, the HTML representation is unable to render, please try loading this page with nbviewer.org.</b></div><div class=\"sk-container\" hidden><div class=\"sk-item\"><div class=\"sk-estimator sk-toggleable\"><input class=\"sk-toggleable__control sk-hidden--visually\" id=\"sk-estimator-id-2\" type=\"checkbox\" checked><label for=\"sk-estimator-id-2\" class=\"sk-toggleable__label sk-toggleable__label-arrow\">DecisionTreeClassifier</label><div class=\"sk-toggleable__content\"><pre>DecisionTreeClassifier(max_depth=7, random_state=23)</pre></div></div></div></div></div>"
      ],
      "text/plain": [
       "DecisionTreeClassifier(max_depth=7, random_state=23)"
      ]
     },
     "execution_count": 50,
     "metadata": {},
     "output_type": "execute_result"
    }
   ],
   "source": [
    "# fitting the model : \n",
    "    # it must know the features and the labels, in order to associate them with one another.\n",
    "    \n",
    "# depth of 7\n",
    "\n",
    "clf7 = clf7.fit(X_train, y_train)\n",
    "clf7"
   ]
  },
  {
   "cell_type": "code",
   "execution_count": 51,
   "id": "55407fd6",
   "metadata": {},
   "outputs": [
    {
     "data": {
      "text/plain": [
       "0.743905325443787"
      ]
     },
     "execution_count": 51,
     "metadata": {},
     "output_type": "execute_result"
    }
   ],
   "source": [
    "# Examining accuracy of Decision Tree Classifier model :\n",
    "# prediction on the X_train set against the y_train reality.\n",
    "# depth of 7\n",
    "\n",
    "clf7.score(X_train, y_train)\n",
    "\n",
    "# the X_train data is compared against y_train : 74.39pc accuracy"
   ]
  },
  {
   "cell_type": "code",
   "execution_count": 52,
   "id": "fbf4626f",
   "metadata": {},
   "outputs": [
    {
     "data": {
      "image/png": "[encoded data removed]",
      "text/plain": [
       "<Figure size 3500x2500 with 1 Axes>"
      ]
     },
     "metadata": {},
     "output_type": "display_data"
    }
   ],
   "source": [
    "# plotting the Decision Tree \n",
    "# depth of 7\n",
    "\n",
    "plt.figure(figsize = (35, 25))\n",
    "\n",
    "plot_tree(clf7, rounded = False)\n",
    "\n",
    "plt.show()\n",
    "\n",
    "# max depth of 7, but only five layers of decisions / splits possible to be made in data"
   ]
  },
  {
   "cell_type": "code",
   "execution_count": 53,
   "id": "d8f15858",
   "metadata": {},
   "outputs": [],
   "source": [
    "# predictions for churn are on the X_train ; true values are on y_train\n",
    "# depth of 7\n",
    "\n",
    "y_train_predictions7 = clf7.predict(X_train)\n"
   ]
  },
  {
   "cell_type": "code",
   "execution_count": 54,
   "id": "2c990d8b",
   "metadata": {
    "scrolled": true
   },
   "outputs": [
    {
     "name": "stdout",
     "output_type": "stream",
     "text": [
      "Classification Report For Training Dataset \n",
      "  \n",
      "               precision    recall  f1-score   support\n",
      "\n",
      "           0       0.52      0.49      0.50      1121\n",
      "           1       0.82      0.84      0.83      3104\n",
      "\n",
      "    accuracy                           0.74      4225\n",
      "   macro avg       0.67      0.66      0.67      4225\n",
      "weighted avg       0.74      0.74      0.74      4225\n",
      "\n"
     ]
    }
   ],
   "source": [
    "## print the classification report :\n",
    "\n",
    "print(f'Classification Report For Training Dataset \\n  \\n {classification_report(y_train, y_train_predictions7)}')\n",
    "\n",
    "# Accuracy of 74pc"
   ]
  },
  {
   "cell_type": "code",
   "execution_count": 55,
   "id": "b58d6a56",
   "metadata": {},
   "outputs": [
    {
     "data": {
      "text/plain": [
       "0.743905325443787"
      ]
     },
     "execution_count": 55,
     "metadata": {},
     "output_type": "execute_result"
    }
   ],
   "source": [
    "# Turning the training accuracy score into a useable variable \n",
    "\n",
    "train_accuracy7 = clf7.score(X_train, y_train)\n",
    "train_accuracy7"
   ]
  },
  {
   "cell_type": "code",
   "execution_count": 56,
   "id": "ffc7d44f",
   "metadata": {},
   "outputs": [
    {
     "name": "stdout",
     "output_type": "stream",
     "text": [
      "The accuracy of the Decision Tree Classifier on the training dataset at a depth of 7 is 0.7439.  \n",
      "The baseline accuracy for customer churn is 0.7347, meaning that about 73.47pc of customers will NOT churn.\n"
     ]
    }
   ],
   "source": [
    "# printing statment that makes sense to the general public\n",
    "# depth of 7\n",
    "\n",
    "print(f'The accuracy of the Decision Tree Classifier on the training dataset at a depth of 7 is{train_accuracy7: .4f}.  \\n'\n",
    "      f'The baseline accuracy for customer churn is{baseline: .4f}, meaning that about 73.47pc of customers will NOT churn.')"
   ]
  },
  {
   "cell_type": "code",
   "execution_count": 57,
   "id": "c4a4f5d2",
   "metadata": {},
   "outputs": [
    {
     "data": {
      "text/plain": [
       "array([[ 549,  572],\n",
       "       [ 510, 2594]])"
      ]
     },
     "execution_count": 57,
     "metadata": {},
     "output_type": "execute_result"
    }
   ],
   "source": [
    "# confusion matrix : A table of prediction vs actual\n",
    "# depth of 7\n",
    "\n",
    "confusion_matrix(y_train, y_train_predictions7)"
   ]
  },
  {
   "cell_type": "code",
   "execution_count": 58,
   "id": "d960469b",
   "metadata": {},
   "outputs": [
    {
     "data": {
      "text/plain": [
       "<sklearn.metrics._plot.confusion_matrix.ConfusionMatrixDisplay at 0x168661610>"
      ]
     },
     "execution_count": 58,
     "metadata": {},
     "output_type": "execute_result"
    },
    {
     "data": {
      "image/png": "[encoded data removed]",
      "text/plain": [
       "<Figure size 640x480 with 2 Axes>"
      ]
     },
     "metadata": {},
     "output_type": "display_data"
    }
   ],
   "source": [
    "## plotting the confusion matrix of clf\n",
    "# depth of 7\n",
    "\n",
    "plot_confusion_matrix(clf7, X_train, y_train)"
   ]
  },
  {
   "cell_type": "markdown",
   "id": "549bfaf7",
   "metadata": {},
   "source": [
    "**Based on the above confusion matrix, we see that TN = 539, FP = 572, FN = 510 and TP = 2594.**\n"
   ]
  },
  {
   "cell_type": "code",
   "execution_count": null,
   "id": "11f8c5b7",
   "metadata": {},
   "outputs": [],
   "source": []
  },
  {
   "cell_type": "markdown",
   "id": "2b2eb9d4",
   "metadata": {},
   "source": [
    "### The validation step for a depth of 7, which folllows, of the Decision Tree Classifier authenticates the accuracy of the evaluation of the training dataset."
   ]
  },
  {
   "cell_type": "code",
   "execution_count": 59,
   "id": "e5396495",
   "metadata": {},
   "outputs": [],
   "source": [
    "#VALIDATION STEP\n",
    "# depth of 7\n",
    "\n",
    "y_val_predictions7 = clf7.predict(X_val)\n"
   ]
  },
  {
   "cell_type": "code",
   "execution_count": 60,
   "id": "e9f12799",
   "metadata": {},
   "outputs": [
    {
     "name": "stdout",
     "output_type": "stream",
     "text": [
      "Classification Report For Training Dataset, Depth Of 3\n",
      "  \n",
      "               precision    recall  f1-score   support\n",
      "\n",
      "           0       0.54      0.50      0.52       374\n",
      "           1       0.82      0.85      0.83      1035\n",
      "\n",
      "    accuracy                           0.75      1409\n",
      "   macro avg       0.68      0.67      0.68      1409\n",
      "weighted avg       0.75      0.75      0.75      1409\n",
      "\n"
     ]
    }
   ],
   "source": [
    "## print the classification report for a depth of 7 :\n",
    "\n",
    "print(f'Classification Report For Training Dataset, Depth Of 3\\n  \\n {classification_report(y_val, y_val_predictions7)}')\n",
    "\n",
    "# Accuracy of 75pc"
   ]
  },
  {
   "cell_type": "code",
   "execution_count": 61,
   "id": "75906df2",
   "metadata": {},
   "outputs": [],
   "source": [
    "# Turning the training accuracy score into a useable variable \n",
    "# depth of 7\n",
    "\n",
    "val_accuracy7 = clf7.score(X_val, y_val)\n"
   ]
  },
  {
   "cell_type": "code",
   "execution_count": 62,
   "id": "e97fa7fb",
   "metadata": {},
   "outputs": [
    {
     "name": "stdout",
     "output_type": "stream",
     "text": [
      "The accuracy of the Decision Tree Classifier on the validation dataset for a depth of 7 is 0.7544.  \n",
      "The baseline accuracy for customer churn is 0.7347.\n"
     ]
    }
   ],
   "source": [
    "# printing statment that makes sense to the general public\n",
    "# depth of 7\n",
    "\n",
    "print(f'The accuracy of the Decision Tree Classifier on the validation dataset for a depth of 7 is{val_accuracy7: .4f}.  \\n'\n",
    "      f'The baseline accuracy for customer churn is{baseline: .4f}.')"
   ]
  },
  {
   "cell_type": "code",
   "execution_count": null,
   "id": "ed754476",
   "metadata": {},
   "outputs": [],
   "source": []
  },
  {
   "cell_type": "markdown",
   "id": "8e6dbb2a",
   "metadata": {},
   "source": [
    "**Takeaway, Depth Of 7 :**  \n",
    "**The training and validation datasets for a depth of 7 have an overall higher accuracy than the Decision Tree model with a depth of 3. Regardless, both models have a higher accuracy than the baseline.**"
   ]
  },
  {
   "cell_type": "code",
   "execution_count": null,
   "id": "43d5ec68",
   "metadata": {},
   "outputs": [],
   "source": []
  },
  {
   "cell_type": "markdown",
   "id": "5f401c69",
   "metadata": {},
   "source": [
    "### Decision Tree Overall Takeaways : \n",
    "- The depths both of 3 and of 7 in the Decision Tree Classifier model return an accuracy of 74.39pc for the training dataset, and 75.44pc for the validation dataset.  \n",
    "- These accuracy results are identical to the decision tree with a depth of 3 ; this is due to the number of variables being examined is 4, which limits the number of branches.  \n",
    "- This being, the Decision Tree Classifier models show a higher accuracy overall than the baseline accuracy of 73.47pc. Neither of the decision tree model outcomes is overfit, and modelling based on training data leads to a slightly higher accuracy in the validation dataset. These results point to a viable model with potential final accuracy of about 74 – 76 pc overall."
   ]
  },
  {
   "cell_type": "code",
   "execution_count": null,
   "id": "d34399af",
   "metadata": {},
   "outputs": [],
   "source": []
  },
  {
   "cell_type": "markdown",
   "id": "5aa7cc13",
   "metadata": {},
   "source": [
    "### <p style=\"background-color:rgba(47, 199, 13, 0.1);\">Modelling Based On K-Nearest Neighbor : 15 Neighbours"
   ]
  },
  {
   "cell_type": "code",
   "execution_count": 63,
   "id": "98a1e626",
   "metadata": {},
   "outputs": [],
   "source": [
    "# creating the KNN variable for modelling\n",
    "# looking to 15 neighbours\n",
    "\n",
    "knn15 = KNeighborsClassifier(n_neighbors = 15)"
   ]
  },
  {
   "cell_type": "code",
   "execution_count": 64,
   "id": "f4f90be3",
   "metadata": {},
   "outputs": [
    {
     "data": {
      "text/html": [
       "<style>#sk-container-id-3 {color: black;background-color: white;}#sk-container-id-3 pre{padding: 0;}#sk-container-id-3 div.sk-toggleable {background-color: white;}#sk-container-id-3 label.sk-toggleable__label {cursor: pointer;display: block;width: 100%;margin-bottom: 0;padding: 0.3em;box-sizing: border-box;text-align: center;}#sk-container-id-3 label.sk-toggleable__label-arrow:before {content: \"▸\";float: left;margin-right: 0.25em;color: #696969;}#sk-container-id-3 label.sk-toggleable__label-arrow:hover:before {color: black;}#sk-container-id-3 div.sk-estimator:hover label.sk-toggleable__label-arrow:before {color: black;}#sk-container-id-3 div.sk-toggleable__content {max-height: 0;max-width: 0;overflow: hidden;text-align: left;background-color: #f0f8ff;}#sk-container-id-3 div.sk-toggleable__content pre {margin: 0.2em;color: black;border-radius: 0.25em;background-color: #f0f8ff;}#sk-container-id-3 input.sk-toggleable__control:checked~div.sk-toggleable__content {max-height: 200px;max-width: 100%;overflow: auto;}#sk-container-id-3 input.sk-toggleable__control:checked~label.sk-toggleable__label-arrow:before {content: \"▾\";}#sk-container-id-3 div.sk-estimator input.sk-toggleable__control:checked~label.sk-toggleable__label {background-color: #d4ebff;}#sk-container-id-3 div.sk-label input.sk-toggleable__control:checked~label.sk-toggleable__label {background-color: #d4ebff;}#sk-container-id-3 input.sk-hidden--visually {border: 0;clip: rect(1px 1px 1px 1px);clip: rect(1px, 1px, 1px, 1px);height: 1px;margin: -1px;overflow: hidden;padding: 0;position: absolute;width: 1px;}#sk-container-id-3 div.sk-estimator {font-family: monospace;background-color: #f0f8ff;border: 1px dotted black;border-radius: 0.25em;box-sizing: border-box;margin-bottom: 0.5em;}#sk-container-id-3 div.sk-estimator:hover {background-color: #d4ebff;}#sk-container-id-3 div.sk-parallel-item::after {content: \"\";width: 100%;border-bottom: 1px solid gray;flex-grow: 1;}#sk-container-id-3 div.sk-label:hover label.sk-toggleable__label {background-color: #d4ebff;}#sk-container-id-3 div.sk-serial::before {content: \"\";position: absolute;border-left: 1px solid gray;box-sizing: border-box;top: 0;bottom: 0;left: 50%;z-index: 0;}#sk-container-id-3 div.sk-serial {display: flex;flex-direction: column;align-items: center;background-color: white;padding-right: 0.2em;padding-left: 0.2em;position: relative;}#sk-container-id-3 div.sk-item {position: relative;z-index: 1;}#sk-container-id-3 div.sk-parallel {display: flex;align-items: stretch;justify-content: center;background-color: white;position: relative;}#sk-container-id-3 div.sk-item::before, #sk-container-id-3 div.sk-parallel-item::before {content: \"\";position: absolute;border-left: 1px solid gray;box-sizing: border-box;top: 0;bottom: 0;left: 50%;z-index: -1;}#sk-container-id-3 div.sk-parallel-item {display: flex;flex-direction: column;z-index: 1;position: relative;background-color: white;}#sk-container-id-3 div.sk-parallel-item:first-child::after {align-self: flex-end;width: 50%;}#sk-container-id-3 div.sk-parallel-item:last-child::after {align-self: flex-start;width: 50%;}#sk-container-id-3 div.sk-parallel-item:only-child::after {width: 0;}#sk-container-id-3 div.sk-dashed-wrapped {border: 1px dashed gray;margin: 0 0.4em 0.5em 0.4em;box-sizing: border-box;padding-bottom: 0.4em;background-color: white;}#sk-container-id-3 div.sk-label label {font-family: monospace;font-weight: bold;display: inline-block;line-height: 1.2em;}#sk-container-id-3 div.sk-label-container {text-align: center;}#sk-container-id-3 div.sk-container {/* jupyter's `normalize.less` sets `[hidden] { display: none; }` but bootstrap.min.css set `[hidden] { display: none !important; }` so we also need the `!important` here to be able to override the default hidden behavior on the sphinx rendered scikit-learn.org. See: https://github.com/scikit-learn/scikit-learn/issues/21755 */display: inline-block !important;position: relative;}#sk-container-id-3 div.sk-text-repr-fallback {display: none;}</style><div id=\"sk-container-id-3\" class=\"sk-top-container\"><div class=\"sk-text-repr-fallback\"><pre>KNeighborsClassifier(n_neighbors=15)</pre><b>In a Jupyter environment, please rerun this cell to show the HTML representation or trust the notebook. <br />On GitHub, the HTML representation is unable to render, please try loading this page with nbviewer.org.</b></div><div class=\"sk-container\" hidden><div class=\"sk-item\"><div class=\"sk-estimator sk-toggleable\"><input class=\"sk-toggleable__control sk-hidden--visually\" id=\"sk-estimator-id-3\" type=\"checkbox\" checked><label for=\"sk-estimator-id-3\" class=\"sk-toggleable__label sk-toggleable__label-arrow\">KNeighborsClassifier</label><div class=\"sk-toggleable__content\"><pre>KNeighborsClassifier(n_neighbors=15)</pre></div></div></div></div></div>"
      ],
      "text/plain": [
       "KNeighborsClassifier(n_neighbors=15)"
      ]
     },
     "execution_count": 64,
     "metadata": {},
     "output_type": "execute_result"
    }
   ],
   "source": [
    "# training the KNN model\n",
    "\n",
    "knn15.fit(X_train, y_train)\n"
   ]
  },
  {
   "cell_type": "code",
   "execution_count": 65,
   "id": "a050543f",
   "metadata": {},
   "outputs": [
    {
     "name": "stdout",
     "output_type": "stream",
     "text": [
      "The accuracy of the training dataset using the KNN model with 15 neighbours is 0.7366.\n"
     ]
    }
   ],
   "source": [
    "# scoring the model to determine how accurate the KNN model is. \n",
    "\n",
    "train_knn15_score = knn15.score(X_train, y_train)\n",
    "\n",
    "# we're predicting on the features (X_train, the first variable), and\n",
    "# comparing to the actual labels (the 2nd variable, y_train)\n",
    "\n",
    "print(f'The accuracy of the training dataset using the KNN model with 15 neighbours is{train_knn15_score: .4f}.')"
   ]
  },
  {
   "cell_type": "code",
   "execution_count": 66,
   "id": "11ca9dea",
   "metadata": {},
   "outputs": [
    {
     "name": "stdout",
     "output_type": "stream",
     "text": [
      "The accuracy of the validation dataset using the KNN model with 15 neighbours is 0.7331.\n"
     ]
    }
   ],
   "source": [
    "# examining the accuracy of the validation dataset \n",
    "\n",
    "val_knn15_score = knn15.score(X_val, y_val)\n",
    "\n",
    "print(f'The accuracy of the validation dataset using the KNN model with 15 neighbours is{val_knn15_score: .4f}.')"
   ]
  },
  {
   "cell_type": "markdown",
   "id": "6eb07575",
   "metadata": {},
   "source": [
    "**Takeaway :**  \n",
    "**With 15 neighbours, the training dataset accuracy is 73.66pc, while for the validation dataset, the accuracy is 73.11pc, which is an acceptable gap between the two datasets.  \n",
    "However, both of these results are nearly the same as the baseline accuracy of 73.47pc.  This would indicate that the models could use improvement.**"
   ]
  },
  {
   "cell_type": "code",
   "execution_count": null,
   "id": "12284cf8",
   "metadata": {},
   "outputs": [],
   "source": []
  },
  {
   "cell_type": "code",
   "execution_count": null,
   "id": "3eccf3ce",
   "metadata": {},
   "outputs": [],
   "source": []
  },
  {
   "cell_type": "markdown",
   "id": "5c4b7fac",
   "metadata": {},
   "source": [
    "### KNN Overall Takeaways :\n",
    "- When comparing the KNN model with 11 neighbours (not shown) to the KNN model with 15 neighbours, the accuracy for 11 neighbours (70.01pc training, 68.63pc validation) was lower than the model with 15 neighbours (-3.65pc and - 4.48pc difference, respectively). \n",
    "\n",
    "\n",
    "- Based on these results, the KNN model with 15 neigbhours would be preferable."
   ]
  },
  {
   "cell_type": "code",
   "execution_count": null,
   "id": "e9b75d8f",
   "metadata": {},
   "outputs": [],
   "source": []
  },
  {
   "cell_type": "markdown",
   "id": "5d6d430d",
   "metadata": {},
   "source": [
    "### <p style=\"background-color:rgba(47, 199, 13, 0.1);\">Modelling Summary Takeaways"
   ]
  },
  {
   "cell_type": "markdown",
   "id": "a9f9686c",
   "metadata": {},
   "source": [
    "**Four models of two different types were hereabove examined : Decision Tree Classifier with a depth of 3, Decision Tree Classifier with a depth of 7, K-Nearest Neighbour with 15 neighbours, and KNN with 11 neighbours.**  \n",
    "\n",
    "**Both of the KNN models had either almost the same as or significantly lower accuracy than the baseline accuracy.**  \n",
    "\n",
    "**The Decision Tree Classifier models both had the same percentage accuracy for the training and validation datasets, with the accuracy being higher than the baseline accuracy. While neither of the DTC models had significantly higher accuracy than the baseline, they would, in the present situation, be preferable to either of the KNN models.**\n",
    "\n",
    "**Final takeaway : Use the Decision Tree Classifier model here.**"
   ]
  },
  {
   "cell_type": "code",
   "execution_count": null,
   "id": "a53dad98",
   "metadata": {},
   "outputs": [],
   "source": []
  },
  {
   "cell_type": "markdown",
   "id": "f6569ac7",
   "metadata": {},
   "source": [
    "\n",
    "<h1 style=\"background-color:rgba(47, 199, 13, 0.4);\">BEST MODEL"
   ]
  },
  {
   "cell_type": "code",
   "execution_count": 67,
   "id": "4d891ac2",
   "metadata": {},
   "outputs": [
    {
     "data": {
      "text/plain": [
       "0.7466288147622427"
      ]
     },
     "execution_count": 67,
     "metadata": {},
     "output_type": "execute_result"
    }
   ],
   "source": [
    "# running best model on the test dataset\n",
    "# DECISION TREE CLASSIFIER WITH A DEPTH OF 7\n",
    "\n",
    "clf7.score(X_test, y_test)"
   ]
  },
  {
   "cell_type": "markdown",
   "id": "0d715482",
   "metadata": {},
   "source": [
    "**TAKEAWAY : The best model, the Decision Tree Classifier with a depth of 7, returns an accuracy of 74.66pc. This is about the same percentage accuracy as with the training and validation datasets, and slightly more than 1pc higher than the baseline accuracy.**"
   ]
  },
  {
   "cell_type": "code",
   "execution_count": null,
   "id": "e1bba0b5",
   "metadata": {},
   "outputs": [],
   "source": []
  },
  {
   "cell_type": "markdown",
   "id": "4f1c502c",
   "metadata": {},
   "source": [
    "<h1 style=\"background-color:rgba(47, 199, 13, 0.4);\">CONCLUSIONS"
   ]
  },
  {
   "cell_type": "markdown",
   "id": "530e08c9",
   "metadata": {},
   "source": [
    "**EXPLORATION :** \n",
    "- After graphing three of the variables (senior citizen, paperless billing, tech support) compared with the target variable of customer churn, it was discovered that there was a potential positive correlation between each of these three variables and customer churn rate."
   ]
  },
  {
   "cell_type": "markdown",
   "id": "6a76bb66",
   "metadata": {},
   "source": [
    "**STATISTICAL TESTING :** \n",
    "\n",
    "- Using statistical testing (Chi-Square) on three of the hypotheses showed that there was a relationship between customer churn and the test variables, notably that tendancy towards churn was influence by being a senior citizen, or, separately, by use of paperless billing, or, separately, by the purchase of tech support.\n",
    "\n",
    "\n",
    "- The Chi-Square tests showed that the variables analysed did have an influence on increased customer churn rates."
   ]
  },
  {
   "cell_type": "markdown",
   "id": "bd82ffec",
   "metadata": {},
   "source": [
    "**MODELLING :**\n",
    "- Two Decision Tree Classifier and two KNN models were used on the four feature variables (senior citizen, paperless billing, tech support, internet service type).  \n",
    "  \n",
    "  \n",
    "- The prefered model, the Decision Tree Classifier, while it outperformed the baseline in terms of accuracy, was still too close to the baseline to instil confidence.  The KNN model's accuracy was worse than the baseline.  \n",
    "\n",
    "\n",
    "- It was determined that, in the present situation, the Decision Tree Classifier would be preferable, but far from ideal."
   ]
  },
  {
   "cell_type": "markdown",
   "id": "f286276d",
   "metadata": {},
   "source": [
    "**RECOMMENDATIONS :**\n",
    "\n",
    "- Going forward, in order to increase model accuracy, it is suggested to include more variable options that solely the four examined in these tests.  \n",
    "\n",
    "  \n",
    "- The overwhelming churn rates of customers using fiber optic internet and of customers without tech support would indicate that a promotional campaign or Telco customer service outreach to current customers to motivate them to take advantage of DSL internet and of Telco's tech support services would increase the longevity of current Telco customers.\n"
   ]
  },
  {
   "cell_type": "code",
   "execution_count": null,
   "id": "4147f1ea",
   "metadata": {},
   "outputs": [],
   "source": []
  },
  {
   "cell_type": "markdown",
   "id": "caa8c364",
   "metadata": {},
   "source": [
    "## <p style=\"background-color:rgba(47, 199, 13, 0.1);\">NEXT STEPS"
   ]
  },
  {
   "cell_type": "markdown",
   "id": "df4d4fd7",
   "metadata": {},
   "source": [
    "\n",
    "- For further exploration : Analyse whether customer purchase of all security add-ons (online_security, online_backup, device_protection, tech_support) has an influence on churn rate.\n",
    "\n",
    "\n",
    "- Explore the use of other, different machine learning models.\n",
    "\n",
    "\n",
    "- For further modelling : Use scatter plots instead of bar plots to graph more than two variables at a time against churn.\n"
   ]
  }
 ],
 "metadata": {
  "kernelspec": {
   "display_name": "Python 3 (ipykernel)",
   "language": "python",
   "name": "python3"
  },
  "language_info": {
   "codemirror_mode": {
    "name": "ipython",
    "version": 3
   },
   "file_extension": ".py",
   "mimetype": "text/x-python",
   "name": "python",
   "nbconvert_exporter": "python",
   "pygments_lexer": "ipython3",
   "version": "3.9.13"
  }
 },
 "nbformat": 4,
 "nbformat_minor": 5
}
