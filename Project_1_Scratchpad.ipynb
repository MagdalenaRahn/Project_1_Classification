{
 "cells": [
  {
   "cell_type": "code",
   "execution_count": 1,
   "id": "a3e324b0",
   "metadata": {},
   "outputs": [],
   "source": [
    "# IMPORTS\n",
    "\n",
    "import os\n",
    "import env\n",
    "\n",
    "import pandas as pd\n",
    "from pydataset import data\n",
    "\n",
    "import numpy as np\n",
    "import matplotlib.pyplot as plt\n",
    "import seaborn as sns\n",
    "import scipy\n",
    "\n",
    "from math import sqrt\n",
    "from scipy import stats\n",
    "\n",
    "# import our own acquire module\n",
    "import acquire\n",
    "import prepare\n",
    "\n",
    "\n",
    "# import splitting and imputing functions\n",
    "from sklearn.model_selection import train_test_split\n",
    "from sklearn.impute import SimpleImputer\n",
    "from prepare import my_train_test_split\n",
    "\n",
    "# turn off pink warning boxes\n",
    "import warnings\n",
    "warnings.filterwarnings(\"ignore\")\n"
   ]
  },
  {
   "cell_type": "code",
   "execution_count": 2,
   "id": "a1db2db0",
   "metadata": {},
   "outputs": [],
   "source": [
    "# obtaining the prepared Telco dataset.\n",
    "\n",
    "telco_df = acquire.get_telco_data(env.sql_connexion)\n",
    "tidy_telco = prepare.prep_telco(telco_df)\n"
   ]
  },
  {
   "cell_type": "code",
   "execution_count": 9,
   "id": "ceab99dc",
   "metadata": {},
   "outputs": [
    {
     "name": "stdout",
     "output_type": "stream",
     "text": [
      "<class 'pandas.core.frame.DataFrame'>\n",
      "RangeIndex: 7043 entries, 0 to 7042\n",
      "Data columns (total 29 columns):\n",
      " #   Column                 Non-Null Count  Dtype  \n",
      "---  ------                 --------------  -----  \n",
      " 0   customer_id            7043 non-null   object \n",
      " 1   gender                 7043 non-null   object \n",
      " 2   senior_citizen         7043 non-null   int64  \n",
      " 3   partner                7043 non-null   object \n",
      " 4   dependents             7043 non-null   object \n",
      " 5   tenure                 7043 non-null   int64  \n",
      " 6   phone_service          7043 non-null   object \n",
      " 7   multiple_lines         7043 non-null   object \n",
      " 8   online_security        7043 non-null   object \n",
      " 9   online_backup          7043 non-null   object \n",
      " 10  device_protection      7043 non-null   object \n",
      " 11  tech_support           7043 non-null   object \n",
      " 12  streaming_tv           7043 non-null   object \n",
      " 13  streaming_movies       7043 non-null   object \n",
      " 14  paperless_billing      7043 non-null   object \n",
      " 15  monthly_charges        7043 non-null   float64\n",
      " 16  total_charges          7043 non-null   object \n",
      " 17  churn                  7043 non-null   object \n",
      " 18  contract_type          7043 non-null   object \n",
      " 19  internet_service_type  7043 non-null   object \n",
      " 20  payment_type           7043 non-null   object \n",
      " 21  gender_Female          7043 non-null   uint8  \n",
      " 22  gender_Male            7043 non-null   uint8  \n",
      " 23  partner_No             7043 non-null   uint8  \n",
      " 24  partner_Yes            7043 non-null   uint8  \n",
      " 25  dependents_No          7043 non-null   uint8  \n",
      " 26  dependents_Yes         7043 non-null   uint8  \n",
      " 27  paperless_billing_No   7043 non-null   uint8  \n",
      " 28  paperless_billing_Yes  7043 non-null   uint8  \n",
      "dtypes: float64(1), int64(2), object(18), uint8(8)\n",
      "memory usage: 1.2+ MB\n"
     ]
    }
   ],
   "source": [
    "tidy_telco.info()\n",
    "\n",
    "# there are 7043 entries (unique customers) in this dataframe"
   ]
  },
  {
   "cell_type": "code",
   "execution_count": 6,
   "id": "c8f3586b",
   "metadata": {},
   "outputs": [
    {
     "data": {
      "text/plain": [
       "0    5901\n",
       "1    1142\n",
       "Name: senior_citizen, dtype: int64"
      ]
     },
     "execution_count": 6,
     "metadata": {},
     "output_type": "execute_result"
    }
   ],
   "source": [
    "# checking to see how many senior citizens \n",
    "# (0 = not a senior citizen, 5901 ; 1 = senior citizen, 1142)\n",
    "\n",
    "tidy_telco.senior_citizen.value_counts()\n"
   ]
  },
  {
   "cell_type": "markdown",
   "id": "9fc11acb",
   "metadata": {},
   "source": [
    "**The majority of customers are NOT senior citizens (5901 not vs 1142 are).**"
   ]
  },
  {
   "cell_type": "code",
   "execution_count": null,
   "id": "5fba0268",
   "metadata": {},
   "outputs": [],
   "source": []
  },
  {
   "cell_type": "code",
   "execution_count": 7,
   "id": "bdbdddeb",
   "metadata": {},
   "outputs": [
    {
     "data": {
      "text/plain": [
       "Yes    6361\n",
       "No      682\n",
       "Name: phone_service, dtype: int64"
      ]
     },
     "execution_count": 7,
     "metadata": {},
     "output_type": "execute_result"
    }
   ],
   "source": [
    "# checking to see how many senior citizens \n",
    "# (yes = has phone service, 6361 ; no = no phone service, 682)\n",
    "\n",
    "tidy_telco.phone_service.value_counts()"
   ]
  },
  {
   "cell_type": "code",
   "execution_count": 8,
   "id": "05e5a27f",
   "metadata": {},
   "outputs": [
    {
     "data": {
      "text/plain": [
       "No                     3498\n",
       "Yes                    2019\n",
       "No internet service    1526\n",
       "Name: online_security, dtype: int64"
      ]
     },
     "execution_count": 8,
     "metadata": {},
     "output_type": "execute_result"
    }
   ],
   "source": [
    "# checking whether customer has online_security\n",
    "# (no = 3498 ; yes = 2019 ; no internet service = 1526)\n",
    "\n",
    "tidy_telco.online_security.value_counts()"
   ]
  },
  {
   "cell_type": "code",
   "execution_count": 11,
   "id": "55d7e16e",
   "metadata": {},
   "outputs": [
    {
     "data": {
      "text/plain": [
       "No                     3088\n",
       "Yes                    2429\n",
       "No internet service    1526\n",
       "Name: online_backup, dtype: int64"
      ]
     },
     "execution_count": 11,
     "metadata": {},
     "output_type": "execute_result"
    }
   ],
   "source": [
    "# checking number of customers with online_backup \n",
    "# (no = 3088 ; yes = 2429 ; no internet service = 1526)\n",
    "\n",
    "tidy_telco.online_backup.value_counts()\n",
    "\n",
    "# at least the 'no internet service' is consistent."
   ]
  },
  {
   "cell_type": "code",
   "execution_count": 12,
   "id": "96de6d0e",
   "metadata": {},
   "outputs": [
    {
     "data": {
      "text/plain": [
       "No                     3095\n",
       "Yes                    2422\n",
       "No internet service    1526\n",
       "Name: device_protection, dtype: int64"
      ]
     },
     "execution_count": 12,
     "metadata": {},
     "output_type": "execute_result"
    }
   ],
   "source": [
    "# checking number of customers with device_protection\n",
    "# (no = 3095 ; yes = 2422 ; no internet service = 1526)\n",
    "\n",
    "tidy_telco.device_protection.value_counts()\n"
   ]
  },
  {
   "cell_type": "code",
   "execution_count": 13,
   "id": "a7df6b4a",
   "metadata": {},
   "outputs": [
    {
     "data": {
      "text/plain": [
       "No                     3473\n",
       "Yes                    2044\n",
       "No internet service    1526\n",
       "Name: tech_support, dtype: int64"
      ]
     },
     "execution_count": 13,
     "metadata": {},
     "output_type": "execute_result"
    }
   ],
   "source": [
    "# checking number of customers with tech_support\n",
    "# (no = 3473 ; yes = 2044 ; no internet service = 1526)\n",
    "\n",
    "tidy_telco.tech_support.value_counts()"
   ]
  },
  {
   "cell_type": "markdown",
   "id": "a8cd6085",
   "metadata": {},
   "source": [
    "**A similar number of customers have or have not the optional online_security, online_backup, device_protection and tech_support.  \n",
    "These may come as a package, but, clearly, not all customers are on board.  \n",
    "In all cases, more customers do not elect to purchase these options than customers who elect to purchase them.**"
   ]
  },
  {
   "cell_type": "code",
   "execution_count": null,
   "id": "5b745957",
   "metadata": {},
   "outputs": [],
   "source": []
  }
 ],
 "metadata": {
  "kernelspec": {
   "display_name": "Python 3 (ipykernel)",
   "language": "python",
   "name": "python3"
  },
  "language_info": {
   "codemirror_mode": {
    "name": "ipython",
    "version": 3
   },
   "file_extension": ".py",
   "mimetype": "text/x-python",
   "name": "python",
   "nbconvert_exporter": "python",
   "pygments_lexer": "ipython3",
   "version": "3.9.13"
  }
 },
 "nbformat": 4,
 "nbformat_minor": 5
}
