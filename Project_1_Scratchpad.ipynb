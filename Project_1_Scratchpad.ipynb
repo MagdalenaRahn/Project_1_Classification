{
 "cells": [
  {
   "cell_type": "code",
   "execution_count": 1,
   "id": "a3e324b0",
   "metadata": {},
   "outputs": [],
   "source": [
    "# IMPORTS\n",
    "\n",
    "import os\n",
    "import env\n",
    "\n",
    "import pandas as pd\n",
    "from pydataset import data\n",
    "\n",
    "import numpy as np\n",
    "import matplotlib.pyplot as plt\n",
    "import seaborn as sns\n",
    "import scipy\n",
    "\n",
    "from math import sqrt\n",
    "from scipy import stats\n",
    "\n",
    "# import our own acquire module\n",
    "import acquire\n",
    "import prepare\n",
    "\n",
    "\n",
    "# import splitting and imputing functions\n",
    "from sklearn.model_selection import train_test_split\n",
    "from sklearn.impute import SimpleImputer\n",
    "from prepare import my_train_test_split, telco_training_validate_testing\n",
    "\n",
    "# turn off pink warning boxes\n",
    "import warnings\n",
    "warnings.filterwarnings(\"ignore\")\n"
   ]
  },
  {
   "cell_type": "code",
   "execution_count": 2,
   "id": "a1db2db0",
   "metadata": {},
   "outputs": [],
   "source": [
    "# obtaining the prepared Telco dataset.\n",
    "\n",
    "telco_df = acquire.get_telco_data(env.sql_connexion)\n",
    "tidy_telco = prepare.prep_telco(telco_df)\n"
   ]
  },
  {
   "cell_type": "code",
   "execution_count": 3,
   "id": "ab3db24e",
   "metadata": {},
   "outputs": [
    {
     "name": "stdout",
     "output_type": "stream",
     "text": [
      "<class 'pandas.core.frame.DataFrame'>\n",
      "RangeIndex: 7043 entries, 0 to 7042\n",
      "Data columns (total 31 columns):\n",
      " #   Column                 Non-Null Count  Dtype  \n",
      "---  ------                 --------------  -----  \n",
      " 0   customer_id            7043 non-null   object \n",
      " 1   gender                 7043 non-null   object \n",
      " 2   senior_citizen         7043 non-null   int64  \n",
      " 3   partner                7043 non-null   object \n",
      " 4   dependents             7043 non-null   object \n",
      " 5   tenure                 7043 non-null   int64  \n",
      " 6   phone_service          7043 non-null   object \n",
      " 7   multiple_lines         7043 non-null   object \n",
      " 8   online_security        7043 non-null   object \n",
      " 9   online_backup          7043 non-null   object \n",
      " 10  device_protection      7043 non-null   object \n",
      " 11  tech_support           7043 non-null   object \n",
      " 12  streaming_tv           7043 non-null   object \n",
      " 13  streaming_movies       7043 non-null   object \n",
      " 14  paperless_billing      7043 non-null   object \n",
      " 15  monthly_charges        7043 non-null   float64\n",
      " 16  total_charges          7043 non-null   object \n",
      " 17  churn                  7043 non-null   object \n",
      " 18  contract_type          7043 non-null   object \n",
      " 19  internet_service_type  7043 non-null   object \n",
      " 20  payment_type           7043 non-null   object \n",
      " 21  gender_Female          7043 non-null   uint8  \n",
      " 22  gender_Male            7043 non-null   uint8  \n",
      " 23  partner_No             7043 non-null   uint8  \n",
      " 24  partner_Yes            7043 non-null   uint8  \n",
      " 25  dependents_No          7043 non-null   uint8  \n",
      " 26  dependents_Yes         7043 non-null   uint8  \n",
      " 27  paperless_billing_No   7043 non-null   uint8  \n",
      " 28  paperless_billing_Yes  7043 non-null   uint8  \n",
      " 29  churn_No               7043 non-null   uint8  \n",
      " 30  churn_Yes              7043 non-null   uint8  \n",
      "dtypes: float64(1), int64(2), object(18), uint8(10)\n",
      "memory usage: 1.2+ MB\n"
     ]
    }
   ],
   "source": [
    "tidy_telco.info()\n",
    "\n",
    "# there are 7043 entries (unique customers) in this dataframe"
   ]
  },
  {
   "cell_type": "code",
   "execution_count": 4,
   "id": "a9f4e560",
   "metadata": {},
   "outputs": [
    {
     "data": {
      "text/plain": [
       "0    5901\n",
       "1    1142\n",
       "Name: senior_citizen, dtype: int64"
      ]
     },
     "execution_count": 4,
     "metadata": {},
     "output_type": "execute_result"
    }
   ],
   "source": [
    "# checking to see how many senior citizens \n",
    "# (0 = not a senior citizen, 5901 ; 1 = senior citizen, 1142)\n",
    "\n",
    "tidy_telco.senior_citizen.value_counts()\n"
   ]
  },
  {
   "cell_type": "markdown",
   "id": "f7bb17cb",
   "metadata": {},
   "source": [
    "**The majority of customers are NOT senior citizens (5901 not vs 1142 are).**"
   ]
  },
  {
   "cell_type": "code",
   "execution_count": 15,
   "id": "8cc6ff47",
   "metadata": {},
   "outputs": [
    {
     "data": {
      "text/plain": [
       "0    5174\n",
       "1    1869\n",
       "Name: churn_Yes, dtype: int64"
      ]
     },
     "execution_count": 15,
     "metadata": {},
     "output_type": "execute_result"
    }
   ],
   "source": [
    "# looking at churn quantity\n",
    "# (not churned = 5174, churned = 1869)\n",
    "\n",
    "tidy_telco.churn_Yes.value_counts()"
   ]
  },
  {
   "cell_type": "markdown",
   "id": "42c71c27",
   "metadata": {},
   "source": [
    "**The majority of customers have not churned (5174 vs 1869).**"
   ]
  },
  {
   "cell_type": "code",
   "execution_count": null,
   "id": "71d29608",
   "metadata": {},
   "outputs": [],
   "source": []
  },
  {
   "cell_type": "code",
   "execution_count": 6,
   "id": "1672db15",
   "metadata": {},
   "outputs": [
    {
     "data": {
      "text/plain": [
       "No                     3498\n",
       "Yes                    2019\n",
       "No internet service    1526\n",
       "Name: online_security, dtype: int64"
      ]
     },
     "execution_count": 6,
     "metadata": {},
     "output_type": "execute_result"
    }
   ],
   "source": [
    "# checking whether customer has online_security\n",
    "# (no = 3498 ; yes = 2019 ; no internet service = 1526)\n",
    "\n",
    "tidy_telco.online_security.value_counts()"
   ]
  },
  {
   "cell_type": "code",
   "execution_count": 7,
   "id": "6df82c9d",
   "metadata": {},
   "outputs": [
    {
     "data": {
      "text/plain": [
       "No                     3088\n",
       "Yes                    2429\n",
       "No internet service    1526\n",
       "Name: online_backup, dtype: int64"
      ]
     },
     "execution_count": 7,
     "metadata": {},
     "output_type": "execute_result"
    }
   ],
   "source": [
    "# checking number of customers with online_backup \n",
    "# (no = 3088 ; yes = 2429 ; no internet service = 1526)\n",
    "\n",
    "tidy_telco.online_backup.value_counts()\n",
    "\n",
    "# at least the 'no internet service' is consistent."
   ]
  },
  {
   "cell_type": "code",
   "execution_count": 8,
   "id": "e814ee3e",
   "metadata": {},
   "outputs": [
    {
     "data": {
      "text/plain": [
       "No                     3095\n",
       "Yes                    2422\n",
       "No internet service    1526\n",
       "Name: device_protection, dtype: int64"
      ]
     },
     "execution_count": 8,
     "metadata": {},
     "output_type": "execute_result"
    }
   ],
   "source": [
    "# checking number of customers with device_protection\n",
    "# (no = 3095 ; yes = 2422 ; no internet service = 1526)\n",
    "\n",
    "tidy_telco.device_protection.value_counts()\n"
   ]
  },
  {
   "cell_type": "code",
   "execution_count": 9,
   "id": "bc0d93d9",
   "metadata": {},
   "outputs": [
    {
     "data": {
      "text/plain": [
       "No                     3473\n",
       "Yes                    2044\n",
       "No internet service    1526\n",
       "Name: tech_support, dtype: int64"
      ]
     },
     "execution_count": 9,
     "metadata": {},
     "output_type": "execute_result"
    }
   ],
   "source": [
    "# checking number of customers with tech_support\n",
    "# (no = 3473 ; yes = 2044 ; no internet service = 1526)\n",
    "\n",
    "tidy_telco.tech_support.value_counts()"
   ]
  },
  {
   "cell_type": "markdown",
   "id": "bfd91db9",
   "metadata": {},
   "source": [
    "**A similar number of customers have or have not the optional online_security, online_backup, device_protection and tech_support.  \n",
    "These may come as a package, but, clearly, not all customers are on board.  \n",
    "In all cases, more customers do not elect to purchase these options than customers who elect to purchase them.**"
   ]
  },
  {
   "cell_type": "code",
   "execution_count": 10,
   "id": "d366fd1a",
   "metadata": {},
   "outputs": [
    {
     "data": {
      "text/plain": [
       "Fiber optic    3096\n",
       "DSL            2421\n",
       "None           1526\n",
       "Name: internet_service_type, dtype: int64"
      ]
     },
     "execution_count": 10,
     "metadata": {},
     "output_type": "execute_result"
    }
   ],
   "source": [
    "# looking at internet_service_type\n",
    "# (fiber optic = 3096, DSL = 2421, no internet service = 1526)\n",
    "\n",
    "tidy_telco.internet_service_type.value_counts()"
   ]
  },
  {
   "cell_type": "code",
   "execution_count": null,
   "id": "255341ce",
   "metadata": {},
   "outputs": [],
   "source": []
  },
  {
   "cell_type": "code",
   "execution_count": null,
   "id": "e66eb3e2",
   "metadata": {},
   "outputs": [],
   "source": []
  },
  {
   "cell_type": "code",
   "execution_count": 11,
   "id": "d0e4338e",
   "metadata": {},
   "outputs": [
    {
     "data": {
      "text/plain": [
       "Yes    6361\n",
       "No      682\n",
       "Name: phone_service, dtype: int64"
      ]
     },
     "execution_count": 11,
     "metadata": {},
     "output_type": "execute_result"
    }
   ],
   "source": [
    "# looking at phone_service : y / n\n",
    "# (yes = 6361, no = 682)\n",
    "\n",
    "tidy_telco.phone_service.value_counts()"
   ]
  },
  {
   "cell_type": "markdown",
   "id": "74a2bd08",
   "metadata": {},
   "source": [
    "**Interesting... The majority of Telco customers have phone service  (6361 with, 682 without), yet the amount of customers without internet service is more than double the number with no phone service.**"
   ]
  },
  {
   "cell_type": "code",
   "execution_count": 12,
   "id": "c74ad336",
   "metadata": {},
   "outputs": [
    {
     "data": {
      "text/plain": [
       "1    4171\n",
       "0    2872\n",
       "Name: paperless_billing_Yes, dtype: int64"
      ]
     },
     "execution_count": 12,
     "metadata": {},
     "output_type": "execute_result"
    }
   ],
   "source": [
    "# checking to see how many customers choose paperless billing \n",
    "# (yes, paperless billing = 4171, no paperless billing = 2872)\n",
    "\n",
    "tidy_telco.paperless_billing_Yes.value_counts()"
   ]
  },
  {
   "cell_type": "code",
   "execution_count": null,
   "id": "db24a66b",
   "metadata": {},
   "outputs": [],
   "source": []
  },
  {
   "cell_type": "code",
   "execution_count": 17,
   "id": "fed60b39",
   "metadata": {},
   "outputs": [
    {
     "data": {
      "text/plain": [
       "((4225, 31), (1409, 31), (1409, 31))"
      ]
     },
     "execution_count": 17,
     "metadata": {},
     "output_type": "execute_result"
    }
   ],
   "source": [
    "# splitting into train-validate-test\n",
    "\n",
    "\n",
    "train, validate, test = my_train_test_split(tidy_telco, target = 'churn_Yes')\n",
    "\n",
    "train.shape, validate.shape, test.shape\n"
   ]
  },
  {
   "cell_type": "code",
   "execution_count": null,
   "id": "ebdcc61a",
   "metadata": {},
   "outputs": [],
   "source": []
  },
  {
   "cell_type": "code",
   "execution_count": null,
   "id": "f07911ba",
   "metadata": {},
   "outputs": [],
   "source": []
  },
  {
   "cell_type": "markdown",
   "id": "90782166",
   "metadata": {},
   "source": [
    "**Now that the data has been examined simply and numerically, it's time to plot the data using graphs.**"
   ]
  },
  {
   "cell_type": "markdown",
   "id": "725627f3",
   "metadata": {},
   "source": [
    "**The first graph will examine senior citizens and churn.**"
   ]
  },
  {
   "cell_type": "code",
   "execution_count": 18,
   "id": "03b187f2",
   "metadata": {},
   "outputs": [
    {
     "data": {
      "image/png": "[encoded data removed]",
      "text/plain": [
       "<Figure size 640x480 with 1 Axes>"
      ]
     },
     "metadata": {},
     "output_type": "display_data"
    }
   ],
   "source": [
    "# histograph on senior citizens and cuztomer churn.\n",
    "    \n",
    "col = 'senior_citizen'\n",
    "\n",
    "plt.hist(train[col])\n",
    "plt.title(col)\n",
    "plt.ylabel('Number Of Churned Customers')\n",
    "plt.xlabel('0 Is Senior Citizen, 1 Is Not Senior Citizen')\n",
    "plt.show()"
   ]
  },
  {
   "cell_type": "code",
   "execution_count": 19,
   "id": "935f32e3",
   "metadata": {},
   "outputs": [
    {
     "data": {
      "text/plain": [
       "count    4225.000000\n",
       "mean        0.161893\n",
       "std         0.368397\n",
       "min         0.000000\n",
       "25%         0.000000\n",
       "50%         0.000000\n",
       "75%         0.000000\n",
       "max         1.000000\n",
       "Name: senior_citizen, dtype: float64"
      ]
     },
     "execution_count": 19,
     "metadata": {},
     "output_type": "execute_result"
    }
   ],
   "source": [
    "## compute descriptive statistics\n",
    "train.senior_citizen.describe()"
   ]
  },
  {
   "cell_type": "code",
   "execution_count": null,
   "id": "0f7e3a02",
   "metadata": {},
   "outputs": [],
   "source": []
  },
  {
   "cell_type": "code",
   "execution_count": null,
   "id": "2b74e1c3",
   "metadata": {},
   "outputs": [],
   "source": []
  },
  {
   "cell_type": "code",
   "execution_count": 21,
   "id": "0e1a1851",
   "metadata": {},
   "outputs": [
    {
     "data": {
      "text/html": [
       "<div>\n",
       "<style scoped>\n",
       "    .dataframe tbody tr th:only-of-type {\n",
       "        vertical-align: middle;\n",
       "    }\n",
       "\n",
       "    .dataframe tbody tr th {\n",
       "        vertical-align: top;\n",
       "    }\n",
       "\n",
       "    .dataframe thead th {\n",
       "        text-align: right;\n",
       "    }\n",
       "</style>\n",
       "<table border=\"1\" class=\"dataframe\">\n",
       "  <thead>\n",
       "    <tr style=\"text-align: right;\">\n",
       "      <th>churn_Yes</th>\n",
       "      <th>0</th>\n",
       "      <th>1</th>\n",
       "    </tr>\n",
       "    <tr>\n",
       "      <th>senior_citizen</th>\n",
       "      <th></th>\n",
       "      <th></th>\n",
       "    </tr>\n",
       "  </thead>\n",
       "  <tbody>\n",
       "    <tr>\n",
       "      <th>0</th>\n",
       "      <td>2697</td>\n",
       "      <td>844</td>\n",
       "    </tr>\n",
       "    <tr>\n",
       "      <th>1</th>\n",
       "      <td>407</td>\n",
       "      <td>277</td>\n",
       "    </tr>\n",
       "  </tbody>\n",
       "</table>\n",
       "</div>"
      ],
      "text/plain": [
       "churn_Yes          0    1\n",
       "senior_citizen           \n",
       "0               2697  844\n",
       "1                407  277"
      ]
     },
     "execution_count": 21,
     "metadata": {},
     "output_type": "execute_result"
    }
   ],
   "source": [
    "pd.crosstab(train.senior_citizen, train.churn_Yes)\n",
    "\n",
    "## why do these results look so different from BARPLOT 5 ? "
   ]
  },
  {
   "cell_type": "code",
   "execution_count": 28,
   "id": "d32a5f71",
   "metadata": {},
   "outputs": [
    {
     "data": {
      "text/html": [
       "<div>\n",
       "<style scoped>\n",
       "    .dataframe tbody tr th:only-of-type {\n",
       "        vertical-align: middle;\n",
       "    }\n",
       "\n",
       "    .dataframe tbody tr th {\n",
       "        vertical-align: top;\n",
       "    }\n",
       "\n",
       "    .dataframe thead th {\n",
       "        text-align: right;\n",
       "    }\n",
       "</style>\n",
       "<table border=\"1\" class=\"dataframe\">\n",
       "  <thead>\n",
       "    <tr style=\"text-align: right;\">\n",
       "      <th>churn_Yes</th>\n",
       "      <th>0</th>\n",
       "      <th>1</th>\n",
       "    </tr>\n",
       "    <tr>\n",
       "      <th>online_security</th>\n",
       "      <th></th>\n",
       "      <th></th>\n",
       "    </tr>\n",
       "  </thead>\n",
       "  <tbody>\n",
       "    <tr>\n",
       "      <th>No</th>\n",
       "      <td>1212</td>\n",
       "      <td>858</td>\n",
       "    </tr>\n",
       "    <tr>\n",
       "      <th>No internet service</th>\n",
       "      <td>849</td>\n",
       "      <td>74</td>\n",
       "    </tr>\n",
       "    <tr>\n",
       "      <th>Yes</th>\n",
       "      <td>1043</td>\n",
       "      <td>189</td>\n",
       "    </tr>\n",
       "  </tbody>\n",
       "</table>\n",
       "</div>"
      ],
      "text/plain": [
       "churn_Yes               0    1\n",
       "online_security               \n",
       "No                   1212  858\n",
       "No internet service   849   74\n",
       "Yes                  1043  189"
      ]
     },
     "execution_count": 28,
     "metadata": {},
     "output_type": "execute_result"
    }
   ],
   "source": [
    "pd.crosstab(train.online_security, train.churn_Yes)"
   ]
  },
  {
   "cell_type": "code",
   "execution_count": 27,
   "id": "1df6161b",
   "metadata": {},
   "outputs": [
    {
     "data": {
      "text/html": [
       "<div>\n",
       "<style scoped>\n",
       "    .dataframe tbody tr th:only-of-type {\n",
       "        vertical-align: middle;\n",
       "    }\n",
       "\n",
       "    .dataframe tbody tr th {\n",
       "        vertical-align: top;\n",
       "    }\n",
       "\n",
       "    .dataframe thead th {\n",
       "        text-align: right;\n",
       "    }\n",
       "</style>\n",
       "<table border=\"1\" class=\"dataframe\">\n",
       "  <thead>\n",
       "    <tr style=\"text-align: right;\">\n",
       "      <th>churn_Yes</th>\n",
       "      <th>0</th>\n",
       "      <th>1</th>\n",
       "    </tr>\n",
       "    <tr>\n",
       "      <th>online_backup</th>\n",
       "      <th></th>\n",
       "      <th></th>\n",
       "    </tr>\n",
       "  </thead>\n",
       "  <tbody>\n",
       "    <tr>\n",
       "      <th>No</th>\n",
       "      <td>1088</td>\n",
       "      <td>735</td>\n",
       "    </tr>\n",
       "    <tr>\n",
       "      <th>No internet service</th>\n",
       "      <td>849</td>\n",
       "      <td>74</td>\n",
       "    </tr>\n",
       "    <tr>\n",
       "      <th>Yes</th>\n",
       "      <td>1167</td>\n",
       "      <td>312</td>\n",
       "    </tr>\n",
       "  </tbody>\n",
       "</table>\n",
       "</div>"
      ],
      "text/plain": [
       "churn_Yes               0    1\n",
       "online_backup                 \n",
       "No                   1088  735\n",
       "No internet service   849   74\n",
       "Yes                  1167  312"
      ]
     },
     "execution_count": 27,
     "metadata": {},
     "output_type": "execute_result"
    }
   ],
   "source": [
    "pd.crosstab(train.online_backup, train.churn_Yes)"
   ]
  },
  {
   "cell_type": "code",
   "execution_count": 26,
   "id": "1fc03662",
   "metadata": {},
   "outputs": [
    {
     "data": {
      "text/html": [
       "<div>\n",
       "<style scoped>\n",
       "    .dataframe tbody tr th:only-of-type {\n",
       "        vertical-align: middle;\n",
       "    }\n",
       "\n",
       "    .dataframe tbody tr th {\n",
       "        vertical-align: top;\n",
       "    }\n",
       "\n",
       "    .dataframe thead th {\n",
       "        text-align: right;\n",
       "    }\n",
       "</style>\n",
       "<table border=\"1\" class=\"dataframe\">\n",
       "  <thead>\n",
       "    <tr style=\"text-align: right;\">\n",
       "      <th>churn_Yes</th>\n",
       "      <th>0</th>\n",
       "      <th>1</th>\n",
       "    </tr>\n",
       "    <tr>\n",
       "      <th>device_protection</th>\n",
       "      <th></th>\n",
       "      <th></th>\n",
       "    </tr>\n",
       "  </thead>\n",
       "  <tbody>\n",
       "    <tr>\n",
       "      <th>No</th>\n",
       "      <td>1109</td>\n",
       "      <td>710</td>\n",
       "    </tr>\n",
       "    <tr>\n",
       "      <th>No internet service</th>\n",
       "      <td>849</td>\n",
       "      <td>74</td>\n",
       "    </tr>\n",
       "    <tr>\n",
       "      <th>Yes</th>\n",
       "      <td>1146</td>\n",
       "      <td>337</td>\n",
       "    </tr>\n",
       "  </tbody>\n",
       "</table>\n",
       "</div>"
      ],
      "text/plain": [
       "churn_Yes               0    1\n",
       "device_protection             \n",
       "No                   1109  710\n",
       "No internet service   849   74\n",
       "Yes                  1146  337"
      ]
     },
     "execution_count": 26,
     "metadata": {},
     "output_type": "execute_result"
    }
   ],
   "source": [
    "pd.crosstab(train.device_protection, train.churn_Yes)"
   ]
  },
  {
   "cell_type": "code",
   "execution_count": 25,
   "id": "6964483d",
   "metadata": {},
   "outputs": [
    {
     "data": {
      "text/html": [
       "<div>\n",
       "<style scoped>\n",
       "    .dataframe tbody tr th:only-of-type {\n",
       "        vertical-align: middle;\n",
       "    }\n",
       "\n",
       "    .dataframe tbody tr th {\n",
       "        vertical-align: top;\n",
       "    }\n",
       "\n",
       "    .dataframe thead th {\n",
       "        text-align: right;\n",
       "    }\n",
       "</style>\n",
       "<table border=\"1\" class=\"dataframe\">\n",
       "  <thead>\n",
       "    <tr style=\"text-align: right;\">\n",
       "      <th>churn_Yes</th>\n",
       "      <th>0</th>\n",
       "      <th>1</th>\n",
       "    </tr>\n",
       "    <tr>\n",
       "      <th>tech_support</th>\n",
       "      <th></th>\n",
       "      <th></th>\n",
       "    </tr>\n",
       "  </thead>\n",
       "  <tbody>\n",
       "    <tr>\n",
       "      <th>No</th>\n",
       "      <td>1227</td>\n",
       "      <td>852</td>\n",
       "    </tr>\n",
       "    <tr>\n",
       "      <th>No internet service</th>\n",
       "      <td>849</td>\n",
       "      <td>74</td>\n",
       "    </tr>\n",
       "    <tr>\n",
       "      <th>Yes</th>\n",
       "      <td>1028</td>\n",
       "      <td>195</td>\n",
       "    </tr>\n",
       "  </tbody>\n",
       "</table>\n",
       "</div>"
      ],
      "text/plain": [
       "churn_Yes               0    1\n",
       "tech_support                  \n",
       "No                   1227  852\n",
       "No internet service   849   74\n",
       "Yes                  1028  195"
      ]
     },
     "execution_count": 25,
     "metadata": {},
     "output_type": "execute_result"
    }
   ],
   "source": [
    "pd.crosstab(train.tech_support, train.churn_Yes)"
   ]
  },
  {
   "cell_type": "code",
   "execution_count": 24,
   "id": "acf86b12",
   "metadata": {},
   "outputs": [
    {
     "data": {
      "text/html": [
       "<div>\n",
       "<style scoped>\n",
       "    .dataframe tbody tr th:only-of-type {\n",
       "        vertical-align: middle;\n",
       "    }\n",
       "\n",
       "    .dataframe tbody tr th {\n",
       "        vertical-align: top;\n",
       "    }\n",
       "\n",
       "    .dataframe thead th {\n",
       "        text-align: right;\n",
       "    }\n",
       "</style>\n",
       "<table border=\"1\" class=\"dataframe\">\n",
       "  <thead>\n",
       "    <tr style=\"text-align: right;\">\n",
       "      <th>churn_Yes</th>\n",
       "      <th>0</th>\n",
       "      <th>1</th>\n",
       "    </tr>\n",
       "    <tr>\n",
       "      <th>internet_service_type</th>\n",
       "      <th></th>\n",
       "      <th></th>\n",
       "    </tr>\n",
       "  </thead>\n",
       "  <tbody>\n",
       "    <tr>\n",
       "      <th>DSL</th>\n",
       "      <td>1173</td>\n",
       "      <td>274</td>\n",
       "    </tr>\n",
       "    <tr>\n",
       "      <th>Fiber optic</th>\n",
       "      <td>1082</td>\n",
       "      <td>773</td>\n",
       "    </tr>\n",
       "    <tr>\n",
       "      <th>None</th>\n",
       "      <td>849</td>\n",
       "      <td>74</td>\n",
       "    </tr>\n",
       "  </tbody>\n",
       "</table>\n",
       "</div>"
      ],
      "text/plain": [
       "churn_Yes                 0    1\n",
       "internet_service_type           \n",
       "DSL                    1173  274\n",
       "Fiber optic            1082  773\n",
       "None                    849   74"
      ]
     },
     "execution_count": 24,
     "metadata": {},
     "output_type": "execute_result"
    }
   ],
   "source": [
    "pd.crosstab(train.internet_service_type, train.churn_Yes)"
   ]
  },
  {
   "cell_type": "code",
   "execution_count": 23,
   "id": "743b5c96",
   "metadata": {},
   "outputs": [
    {
     "data": {
      "text/html": [
       "<div>\n",
       "<style scoped>\n",
       "    .dataframe tbody tr th:only-of-type {\n",
       "        vertical-align: middle;\n",
       "    }\n",
       "\n",
       "    .dataframe tbody tr th {\n",
       "        vertical-align: top;\n",
       "    }\n",
       "\n",
       "    .dataframe thead th {\n",
       "        text-align: right;\n",
       "    }\n",
       "</style>\n",
       "<table border=\"1\" class=\"dataframe\">\n",
       "  <thead>\n",
       "    <tr style=\"text-align: right;\">\n",
       "      <th>churn_Yes</th>\n",
       "      <th>0</th>\n",
       "      <th>1</th>\n",
       "    </tr>\n",
       "    <tr>\n",
       "      <th>paperless_billing_Yes</th>\n",
       "      <th></th>\n",
       "      <th></th>\n",
       "    </tr>\n",
       "  </thead>\n",
       "  <tbody>\n",
       "    <tr>\n",
       "      <th>0</th>\n",
       "      <td>1433</td>\n",
       "      <td>283</td>\n",
       "    </tr>\n",
       "    <tr>\n",
       "      <th>1</th>\n",
       "      <td>1671</td>\n",
       "      <td>838</td>\n",
       "    </tr>\n",
       "  </tbody>\n",
       "</table>\n",
       "</div>"
      ],
      "text/plain": [
       "churn_Yes                 0    1\n",
       "paperless_billing_Yes           \n",
       "0                      1433  283\n",
       "1                      1671  838"
      ]
     },
     "execution_count": 23,
     "metadata": {},
     "output_type": "execute_result"
    }
   ],
   "source": [
    "pd.crosstab(train.paperless_billing_Yes, train.churn_Yes)\n"
   ]
  },
  {
   "cell_type": "code",
   "execution_count": 22,
   "id": "f106ec80",
   "metadata": {},
   "outputs": [
    {
     "data": {
      "text/html": [
       "<div>\n",
       "<style scoped>\n",
       "    .dataframe tbody tr th:only-of-type {\n",
       "        vertical-align: middle;\n",
       "    }\n",
       "\n",
       "    .dataframe tbody tr th {\n",
       "        vertical-align: top;\n",
       "    }\n",
       "\n",
       "    .dataframe thead th {\n",
       "        text-align: right;\n",
       "    }\n",
       "</style>\n",
       "<table border=\"1\" class=\"dataframe\">\n",
       "  <thead>\n",
       "    <tr style=\"text-align: right;\">\n",
       "      <th>churn_Yes</th>\n",
       "      <th>0</th>\n",
       "      <th>1</th>\n",
       "    </tr>\n",
       "    <tr>\n",
       "      <th>phone_service</th>\n",
       "      <th></th>\n",
       "      <th></th>\n",
       "    </tr>\n",
       "  </thead>\n",
       "  <tbody>\n",
       "    <tr>\n",
       "      <th>No</th>\n",
       "      <td>295</td>\n",
       "      <td>98</td>\n",
       "    </tr>\n",
       "    <tr>\n",
       "      <th>Yes</th>\n",
       "      <td>2809</td>\n",
       "      <td>1023</td>\n",
       "    </tr>\n",
       "  </tbody>\n",
       "</table>\n",
       "</div>"
      ],
      "text/plain": [
       "churn_Yes         0     1\n",
       "phone_service            \n",
       "No              295    98\n",
       "Yes            2809  1023"
      ]
     },
     "execution_count": 22,
     "metadata": {},
     "output_type": "execute_result"
    }
   ],
   "source": [
    "pd.crosstab(train.phone_service, train.churn_Yes)"
   ]
  },
  {
   "cell_type": "code",
   "execution_count": 29,
   "id": "3b1707be",
   "metadata": {},
   "outputs": [
    {
     "data": {
      "text/plain": [
       "<AxesSubplot:xlabel='churn_Yes', ylabel='senior_citizen'>"
      ]
     },
     "execution_count": 29,
     "metadata": {},
     "output_type": "execute_result"
    },
    {
     "data": {
      "image/png": "[encoded data removed]",
      "text/plain": [
       "<Figure size 640x480 with 1 Axes>"
      ]
     },
     "metadata": {},
     "output_type": "display_data"
    }
   ],
   "source": [
    "## BARPLOT 1 : churn (y / n) for senior citizens (y-axis) who have phone service.\n",
    "\n",
    "sns.barplot(train.churn_Yes, train.senior_citizen, train.phone_service)\n"
   ]
  },
  {
   "cell_type": "markdown",
   "id": "88319987",
   "metadata": {},
   "source": [
    "**BARPLOT 1 : It appears that, of senior citizens who have churned or have not churned, having phone service is not a notable influencer of churn.**"
   ]
  },
  {
   "cell_type": "code",
   "execution_count": null,
   "id": "cbcecce2",
   "metadata": {},
   "outputs": [],
   "source": []
  },
  {
   "cell_type": "code",
   "execution_count": null,
   "id": "99d7a5de",
   "metadata": {},
   "outputs": [],
   "source": [
    "# HISTOGRAM 1 : tech support and all-customer churn.\n",
    "    \n",
    "col = 'tech_support'\n",
    "\n",
    "plt.hist(train[col])\n",
    "plt.title(col)\n",
    "plt.ylabel('Number Of Churned Customers')\n",
    "plt.xlabel('_Tech support subscription viewed through customer churn_')\n",
    "plt.show()"
   ]
  },
  {
   "cell_type": "code",
   "execution_count": 30,
   "id": "7fc8a0aa",
   "metadata": {},
   "outputs": [
    {
     "data": {
      "text/plain": [
       "<AxesSubplot:xlabel='churn_Yes', ylabel='paperless_billing_Yes'>"
      ]
     },
     "execution_count": 30,
     "metadata": {},
     "output_type": "execute_result"
    },
    {
     "data": {
      "image/png": "[encoded data removed]",
      "text/plain": [
       "<Figure size 640x480 with 1 Axes>"
      ]
     },
     "metadata": {},
     "output_type": "display_data"
    }
   ],
   "source": [
    "# BARPLOT 2 : shows churn (y / n) for senior citizens (y-axis) who use paperless billing.\n",
    "\n",
    "sns.barplot(train.churn_Yes, train.paperless_billing_Yes, train.senior_citizen)\n"
   ]
  },
  {
   "cell_type": "markdown",
   "id": "b5febe91",
   "metadata": {},
   "source": [
    "**BARPLOT 2 : This barplot shows tendency to churn for senior citizens (orange bars) who select paperless billing. It appears that there are significantly more senior citizens who have churned who have selected paperless billing than non-senior citizens who have churned who have selected paperless billing.**"
   ]
  },
  {
   "cell_type": "code",
   "execution_count": null,
   "id": "a94e2d32",
   "metadata": {},
   "outputs": [],
   "source": []
  },
  {
   "cell_type": "code",
   "execution_count": 31,
   "id": "3525c30f",
   "metadata": {},
   "outputs": [
    {
     "data": {
      "text/plain": [
       "<matplotlib.legend.Legend at 0x14c6fbe20>"
      ]
     },
     "execution_count": 31,
     "metadata": {},
     "output_type": "execute_result"
    },
    {
     "data": {
      "image/png": "[encoded data removed]",
      "text/plain": [
       "<Figure size 640x480 with 1 Axes>"
      ]
     },
     "metadata": {},
     "output_type": "display_data"
    }
   ],
   "source": [
    "# BARPLOT 3 : shows customer churn (no / yes) for customers having paperless billing and tech support.\n",
    "\n",
    "paperless_tech = sns.barplot(train.churn_Yes, train.paperless_billing_Yes, train.tech_support, color = 'green')\n",
    "\n",
    "paperless_tech.set(ylabel = 'Customers with paperless billing', xlabel = 'Customer churn based on tech support')\n",
    "\n",
    "\n",
    "plt.legend(loc = 'upper left')"
   ]
  },
  {
   "cell_type": "markdown",
   "id": "20c4d9cf",
   "metadata": {},
   "source": [
    "**BARPLOT 3 : The above barplot shows that a notable amount of customers who (1) have churned also (2) DID use paperless billing and (3) DID NOT have tech support.   \n",
    "Combining the features of tech support and paperless billing shows a lower churn rate than BARPLOT 4 (below), which portrays customer churn based on being a senior citizen and having tech support.**"
   ]
  },
  {
   "cell_type": "code",
   "execution_count": 32,
   "id": "4a42dd71",
   "metadata": {
    "scrolled": true
   },
   "outputs": [
    {
     "data": {
      "text/plain": [
       "[Text(0.5, 0, 'Customers with tech support'), Text(0, 0.5, 'Senior citizen')]"
      ]
     },
     "execution_count": 32,
     "metadata": {},
     "output_type": "execute_result"
    },
    {
     "data": {
      "image/png": "[encoded data removed]",
      "text/plain": [
       "<Figure size 640x480 with 1 Axes>"
      ]
     },
     "metadata": {},
     "output_type": "display_data"
    }
   ],
   "source": [
    "# BARPLOT 4 : shows churn in relation to senior citizens and tech support\n",
    "\n",
    "tech_sup = sns.barplot(train.tech_support, train.senior_citizen, train.churn_Yes, color = 'yellow')\n",
    "\n",
    "tech_sup.set(xlabel = 'Customers with tech support', ylabel = 'Senior citizen')\n",
    "\n"
   ]
  },
  {
   "cell_type": "markdown",
   "id": "5a98a2e0",
   "metadata": {},
   "source": [
    "**BARPLOT 4 : The above barplot shows that the proportion of senior citizens who churned and who did not have tech support is significantly larger than senior citizens who churned and had tech support.  \n",
    "Also, the proportion of senior citizens who did not churn and who did not have tech support is larger than senior citizens who did or did not churn AND who had tech support.**"
   ]
  },
  {
   "cell_type": "code",
   "execution_count": 33,
   "id": "c6f620b8",
   "metadata": {},
   "outputs": [
    {
     "data": {
      "text/plain": [
       "<AxesSubplot:xlabel='churn_Yes', ylabel='senior_citizen'>"
      ]
     },
     "execution_count": 33,
     "metadata": {},
     "output_type": "execute_result"
    },
    {
     "data": {
      "image/png": "[encoded data removed]",
      "text/plain": [
       "<Figure size 640x480 with 1 Axes>"
      ]
     },
     "metadata": {},
     "output_type": "display_data"
    }
   ],
   "source": [
    "# BARPLOT 5 : customer churn and senior citizen\n",
    "\n",
    "sns.barplot(train.churn_Yes, train.senior_citizen, color = 'red')\n"
   ]
  },
  {
   "cell_type": "code",
   "execution_count": null,
   "id": "21786b15",
   "metadata": {},
   "outputs": [],
   "source": []
  },
  {
   "cell_type": "code",
   "execution_count": null,
   "id": "fb396904",
   "metadata": {},
   "outputs": [],
   "source": [
    "# HISTOGRAM 2 : paperless billing and all-customer churn.\n",
    "    \n",
    "col = 'paperless_billing_Yes'\n",
    "\n",
    "plt.hist(train[col])\n",
    "plt.title(col)\n",
    "plt.ylabel('Number Of Churned Customers')\n",
    "plt.xlabel('_Use of paperless billing viewed through customer churn_')\n",
    "plt.show()"
   ]
  },
  {
   "cell_type": "code",
   "execution_count": 34,
   "id": "3ce4a039",
   "metadata": {},
   "outputs": [
    {
     "data": {
      "text/plain": [
       "<matplotlib.legend.Legend at 0x14c70dc40>"
      ]
     },
     "execution_count": 34,
     "metadata": {},
     "output_type": "execute_result"
    },
    {
     "data": {
      "image/png": "[encoded data removed]",
      "text/plain": [
       "<Figure size 640x480 with 1 Axes>"
      ]
     },
     "metadata": {},
     "output_type": "display_data"
    }
   ],
   "source": [
    "# BARPLOT 6 : paperless billing and tech support (N / Y / no internet service) based on all-customer churn.\n",
    "\n",
    "\n",
    "paperless_allchurn = sns.barplot(train.churn, train.paperless_billing_Yes, train.tech_support, color = 'pink')\n",
    "\n",
    "paperless_allchurn.set(xlabel = 'Customers who have churned', ylabel = 'Use of paperless billing')\n",
    "\n",
    "\n",
    "plt.legend(loc = 'upper left')"
   ]
  },
  {
   "cell_type": "markdown",
   "id": "64a692d1",
   "metadata": {},
   "source": [
    "**BARPLOT 6 : This barplot shows that the proportion of customers (1)  who have churned and (2) who use paperless billing and (3) do NOT have tech support is higher than customers who have NOT churned and, both, who do or do not have tech support.**"
   ]
  },
  {
   "cell_type": "code",
   "execution_count": null,
   "id": "c1d286f1",
   "metadata": {},
   "outputs": [],
   "source": []
  },
  {
   "cell_type": "code",
   "execution_count": 51,
   "id": "dc79d1a5",
   "metadata": {},
   "outputs": [
    {
     "data": {
      "text/plain": [
       "<matplotlib.legend.Legend at 0x14e6dd0a0>"
      ]
     },
     "execution_count": 51,
     "metadata": {},
     "output_type": "execute_result"
    },
    {
     "data": {
      "image/png": "[encoded data removed]",
      "text/plain": [
       "<Figure size 640x480 with 1 Axes>"
      ]
     },
     "metadata": {},
     "output_type": "display_data"
    }
   ],
   "source": [
    "# BARPLOT 7 : phone service and and internet service type based on all-customer churn.\n",
    "\n",
    "\n",
    "phone_ist = sns.barplot(train.phone_service, train.churn_Yes, train.internet_service_type, color = 'red')\n",
    "\n",
    "phone_ist.set(ylabel = 'Customers who have churned', xlabel = 'Phone service subscription')\n",
    "\n",
    "\n",
    "plt.legend(loc = 'upper left')\n"
   ]
  },
  {
   "cell_type": "markdown",
   "id": "33823663",
   "metadata": {},
   "source": [
    "**BARPLOT 7 : This barplot shows customer churn rates for customers having or not having phone service according to their internet service type.  \n",
    "An extremely large number of customers who have phone service and who used fiber obtic internet have churned, more than any other category.**"
   ]
  }
 ],
 "metadata": {
  "kernelspec": {
   "display_name": "Python 3 (ipykernel)",
   "language": "python",
   "name": "python3"
  },
  "language_info": {
   "codemirror_mode": {
    "name": "ipython",
    "version": 3
   },
   "file_extension": ".py",
   "mimetype": "text/x-python",
   "name": "python",
   "nbconvert_exporter": "python",
   "pygments_lexer": "ipython3",
   "version": "3.9.13"
  }
 },
 "nbformat": 4,
 "nbformat_minor": 5
}
