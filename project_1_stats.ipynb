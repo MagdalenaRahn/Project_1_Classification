{
 "cells": [
  {
   "cell_type": "code",
   "execution_count": 1,
   "id": "46326777",
   "metadata": {},
   "outputs": [],
   "source": [
    "# IMPORTS\n",
    "\n",
    "import os\n",
    "import env\n",
    "\n",
    "import pandas as pd\n",
    "from pydataset import data\n",
    "\n",
    "import numpy as np\n",
    "import matplotlib.pyplot as plt\n",
    "import seaborn as sns\n",
    "import scipy\n",
    "\n",
    "from math import sqrt\n",
    "from scipy import stats\n",
    "\n",
    "# import our own acquire module\n",
    "import acquire\n",
    "import prepare\n",
    "\n",
    "\n",
    "# import splitting and imputing functions\n",
    "from sklearn.model_selection import train_test_split\n",
    "from sklearn.impute import SimpleImputer\n",
    "from prepare import my_train_test_split, telco_training_validate_testing\n",
    "\n",
    "# turn off pink warning boxes\n",
    "import warnings\n",
    "warnings.filterwarnings(\"ignore\")\n"
   ]
  },
  {
   "cell_type": "code",
   "execution_count": 2,
   "id": "f79a994e",
   "metadata": {},
   "outputs": [],
   "source": [
    "# obtaining the prepared Telco dataset.\n",
    "\n",
    "telco_df = acquire.get_telco_data(env.sql_connexion)\n",
    "tidy_telco = prepare.prep_telco(telco_df)"
   ]
  },
  {
   "cell_type": "code",
   "execution_count": 3,
   "id": "9781325c",
   "metadata": {},
   "outputs": [
    {
     "data": {
      "text/plain": [
       "((4225, 31), (1409, 31), (1409, 31))"
      ]
     },
     "execution_count": 3,
     "metadata": {},
     "output_type": "execute_result"
    }
   ],
   "source": [
    "# splitting into train-validate-test\n",
    "\n",
    "\n",
    "train, validate, test = my_train_test_split(tidy_telco, target = 'churn_Yes')\n",
    "\n",
    "train.shape, validate.shape, test.shape\n"
   ]
  },
  {
   "cell_type": "markdown",
   "id": "da83ee8e",
   "metadata": {},
   "source": [
    "**This will use the Chi-Squared statistical test to explore Countplot 1 [customer age (Senior Citizens vs non-Senior Citizens) has an influence in churn rate].**  \n",
    "\n",
    "- $H_{0}$ (Null Hypothesis): There is no relationship between being a Senior Citizen customer and customer churn. \n",
    "\n",
    "- $H_{a}$ (Alternative Hypothesis): There is a relationship between being a Senior Citizen customer and customer churn. \n"
   ]
  },
  {
   "cell_type": "markdown",
   "id": "90a11b4a",
   "metadata": {},
   "source": [
    "The chi2_contingency function returns 4 items (in this order):\n",
    "\n",
    "    1. The test statistic: 𝜒2\n",
    "    2. The p-value: the probability of seeing these proportions by chance\n",
    "    3. The degrees of freedom: equivalent to sample size minus 1\n",
    "    4. The contingency table of the expected values, which represents what the values would be if everything was proportional and there was no relationship between the 2 variables.\n",
    "\n"
   ]
  },
  {
   "cell_type": "code",
   "execution_count": 4,
   "id": "2fc1199f",
   "metadata": {},
   "outputs": [
    {
     "data": {
      "text/plain": [
       "<AxesSubplot:xlabel='senior_citizen', ylabel='count'>"
      ]
     },
     "execution_count": 4,
     "metadata": {},
     "output_type": "execute_result"
    },
    {
     "data": {
      "image/png": "[encoded data removed]",
      "text/plain": [
       "<Figure size 640x480 with 1 Axes>"
      ]
     },
     "metadata": {},
     "output_type": "display_data"
    }
   ],
   "source": [
    "# COUNTPLOT 1 : customer churn and senior citizen\n",
    "\n",
    "sns.countplot(x = train.senior_citizen, hue = train.churn, color = 'red')\n"
   ]
  },
  {
   "cell_type": "code",
   "execution_count": 11,
   "id": "875ead28",
   "metadata": {},
   "outputs": [
    {
     "data": {
      "text/html": [
       "<div>\n",
       "<style scoped>\n",
       "    .dataframe tbody tr th:only-of-type {\n",
       "        vertical-align: middle;\n",
       "    }\n",
       "\n",
       "    .dataframe tbody tr th {\n",
       "        vertical-align: top;\n",
       "    }\n",
       "\n",
       "    .dataframe thead th {\n",
       "        text-align: right;\n",
       "    }\n",
       "</style>\n",
       "<table border=\"1\" class=\"dataframe\">\n",
       "  <thead>\n",
       "    <tr style=\"text-align: right;\">\n",
       "      <th>churn</th>\n",
       "      <th>No</th>\n",
       "      <th>Yes</th>\n",
       "    </tr>\n",
       "    <tr>\n",
       "      <th>senior_citizen</th>\n",
       "      <th></th>\n",
       "      <th></th>\n",
       "    </tr>\n",
       "  </thead>\n",
       "  <tbody>\n",
       "    <tr>\n",
       "      <th>0</th>\n",
       "      <td>2697</td>\n",
       "      <td>844</td>\n",
       "    </tr>\n",
       "    <tr>\n",
       "      <th>1</th>\n",
       "      <td>407</td>\n",
       "      <td>277</td>\n",
       "    </tr>\n",
       "  </tbody>\n",
       "</table>\n",
       "</div>"
      ],
      "text/plain": [
       "churn             No  Yes\n",
       "senior_citizen           \n",
       "0               2697  844\n",
       "1                407  277"
      ]
     },
     "execution_count": 11,
     "metadata": {},
     "output_type": "execute_result"
    }
   ],
   "source": [
    "## COUNTPLOT 1\n",
    "\n",
    "# observed crosstab of senior_citizen (0, 1) and churn (no, yes)\n",
    "\n",
    "# crosstab is the number of observations in each location of the table\n",
    "\n",
    "observed_sc_ch = pd.crosstab(train.senior_citizen, train.churn)\n",
    "observed_sc_ch"
   ]
  },
  {
   "cell_type": "code",
   "execution_count": 12,
   "id": "52528b43",
   "metadata": {},
   "outputs": [
    {
     "data": {
      "text/plain": [
       "(80.79361466512287,\n",
       " 2.505662983276272e-19,\n",
       " 1,\n",
       " array([[2601.48260355,  939.51739645],\n",
       "        [ 502.51739645,  181.48260355]]))"
      ]
     },
     "execution_count": 12,
     "metadata": {},
     "output_type": "execute_result"
    }
   ],
   "source": [
    "## COUNTPLOT 1\n",
    "\n",
    "## run the chi2_contingency on senior_citizen and churn based on the crosstab\n",
    "\n",
    "chi2_sc_ch, p_sc_ch, degf_sc_ch, expected_sc_ch = stats.chi2_contingency(observed_sc_ch)\n",
    "\n",
    "chi2_sc_ch, p_sc_ch, degf_sc_ch, expected_sc_ch\n",
    "\n",
    "# expected = expected contingency table"
   ]
  },
  {
   "cell_type": "code",
   "execution_count": 61,
   "id": "a72a6c18",
   "metadata": {},
   "outputs": [
    {
     "name": "stdout",
     "output_type": "stream",
     "text": [
      "Observed Values For Senior Citizens And Churn :\n",
      "\n",
      "[[2697  844]\n",
      " [ 407  277]]\n",
      "\n",
      "-.-.-.-.-\n",
      "\n",
      "Expected Values For Senior Citizens And Churn :\n",
      "\n",
      "[[2601  939]\n",
      " [ 502  181]]\n",
      "\n",
      "-.-.-.-.-\n",
      "\n",
      "chi^2 = 80.7936\n",
      "p-value = 0.0000\n",
      "\n",
      "-.-.-.-.-\n",
      "\n",
      "Is the p-value < α ? True\n"
     ]
    }
   ],
   "source": [
    "## COUNTPLOT 1\n",
    "\n",
    "α = 0.05\n",
    "\n",
    "# print 'Observed Values' followed by a new line\n",
    "print('Observed Values For Senior Citizens And Churn :\\n')\n",
    "\n",
    "\n",
    "# print the values from the 'observed' dataframe\n",
    "print(observed_sc_ch.values)\n",
    "\n",
    "print('')\n",
    "\n",
    "\n",
    "# print -.-.-.-.- and then a new line, 'Expected Values', followed by another new line\n",
    "print('-.-.-.-.-\\n')\n",
    "print('Expected Values For Senior Citizens And Churn :\\n')\n",
    "\n",
    "\n",
    "# print the expected values array\n",
    "print(expected_sc_ch.astype(int))\n",
    "# this turns the floats into integers, for readability\n",
    "\n",
    "print('')\n",
    "\n",
    "# print a new line\n",
    "print('-.-.-.-.-\\n')\n",
    "\n",
    "\n",
    "# print the chi2 value, formatted to a float with 4 digits. \n",
    "print(f'chi^2 = {chi2_sc_ch:.4f}') \n",
    "\n",
    "\n",
    "# print the p-value, formatted to a float with 4 digits {p:.4f}. \n",
    "print(f'p-value = {p_sc_ch:.4f}')\n",
    "\n",
    "print('')\n",
    "\n",
    "print('-.-.-.-.-\\n')\n",
    "\n",
    "print(f'Is the p-value < α ?', p_sc_ch < α)\n",
    "\n",
    "# We know that the Expected values are not close to the Observed values due to the p-value being lower than α."
   ]
  },
  {
   "cell_type": "markdown",
   "id": "693668d8",
   "metadata": {},
   "source": [
    "**Takeaways, COUNTPLOT 1 :**  \n",
    "Though the Observed values for Countplot 1 appear to be relatively close to the Expected values in the contingency tables, the Chi-Squared test indicates that there is some relationship between being a senior citizen and customer churn, due to the extremely low p-value. We, thus, reject the null hypothesis."
   ]
  },
  {
   "cell_type": "code",
   "execution_count": null,
   "id": "3957a1f5",
   "metadata": {},
   "outputs": [],
   "source": []
  },
  {
   "cell_type": "code",
   "execution_count": null,
   "id": "4dd28119",
   "metadata": {},
   "outputs": [],
   "source": []
  },
  {
   "cell_type": "markdown",
   "id": "d27cf107",
   "metadata": {},
   "source": [
    "**This will use the Chi-Squared statistical test to explore Countplot 3, whether purchasing tech support has an influence on churn rate.**  \n",
    "\n",
    "- $H_{0}$ (Null Hypothesis): There is no relationship between purchasing tech support and customer churn. \n",
    "\n",
    "- $H_{a}$ (Alternative Hypothesis): There is a relationship between purchasing tech support and customer churn. \n"
   ]
  },
  {
   "cell_type": "code",
   "execution_count": 16,
   "id": "c459fecb",
   "metadata": {},
   "outputs": [
    {
     "data": {
      "text/plain": [
       "<matplotlib.legend.Legend at 0x131f34f10>"
      ]
     },
     "execution_count": 16,
     "metadata": {},
     "output_type": "execute_result"
    },
    {
     "data": {
      "image/png": "[encoded data removed]",
      "text/plain": [
       "<Figure size 640x480 with 1 Axes>"
      ]
     },
     "metadata": {},
     "output_type": "display_data"
    }
   ],
   "source": [
    "# COUNTPLOT 3 : tech_support and churn.\n",
    "\n",
    "tech = sns.countplot(x = train.churn, hue = train.tech_support, color = 'yellow')\n",
    "\n",
    "tech.set(ylabel = 'Customers with tech support', xlabel = 'Customer churn based on tech support')\n",
    "\n",
    "plt.legend(loc = 'upper right', title = 'Customers with tech support')"
   ]
  },
  {
   "cell_type": "code",
   "execution_count": 52,
   "id": "cbf497b0",
   "metadata": {},
   "outputs": [
    {
     "data": {
      "text/html": [
       "<div>\n",
       "<style scoped>\n",
       "    .dataframe tbody tr th:only-of-type {\n",
       "        vertical-align: middle;\n",
       "    }\n",
       "\n",
       "    .dataframe tbody tr th {\n",
       "        vertical-align: top;\n",
       "    }\n",
       "\n",
       "    .dataframe thead th {\n",
       "        text-align: right;\n",
       "    }\n",
       "</style>\n",
       "<table border=\"1\" class=\"dataframe\">\n",
       "  <thead>\n",
       "    <tr style=\"text-align: right;\">\n",
       "      <th>churn</th>\n",
       "      <th>No</th>\n",
       "      <th>Yes</th>\n",
       "    </tr>\n",
       "    <tr>\n",
       "      <th>tech_support</th>\n",
       "      <th></th>\n",
       "      <th></th>\n",
       "    </tr>\n",
       "  </thead>\n",
       "  <tbody>\n",
       "    <tr>\n",
       "      <th>No</th>\n",
       "      <td>1227</td>\n",
       "      <td>852</td>\n",
       "    </tr>\n",
       "    <tr>\n",
       "      <th>No internet service</th>\n",
       "      <td>849</td>\n",
       "      <td>74</td>\n",
       "    </tr>\n",
       "    <tr>\n",
       "      <th>Yes</th>\n",
       "      <td>1028</td>\n",
       "      <td>195</td>\n",
       "    </tr>\n",
       "  </tbody>\n",
       "</table>\n",
       "</div>"
      ],
      "text/plain": [
       "churn                  No  Yes\n",
       "tech_support                  \n",
       "No                   1227  852\n",
       "No internet service   849   74\n",
       "Yes                  1028  195"
      ]
     },
     "execution_count": 52,
     "metadata": {},
     "output_type": "execute_result"
    }
   ],
   "source": [
    "## COUNTPLOT 3\n",
    "\n",
    "# observed crosstab of tech_support (no, no internet service, yes) and churn (no, yes)\n",
    "\n",
    "# crosstab is the number of observations in each location of the table\n",
    "\n",
    "observed_ts_ch = pd.crosstab(train.tech_support, train.churn)\n",
    "observed_ts_ch"
   ]
  },
  {
   "cell_type": "code",
   "execution_count": 53,
   "id": "e5e4c218",
   "metadata": {},
   "outputs": [
    {
     "data": {
      "text/plain": [
       "(455.3210599885817,\n",
       " 1.3436559397518983e-99,\n",
       " 2,\n",
       " array([[1527.38840237,  551.61159763],\n",
       "        [ 678.10461538,  244.89538462],\n",
       "        [ 898.50698225,  324.49301775]]))"
      ]
     },
     "execution_count": 53,
     "metadata": {},
     "output_type": "execute_result"
    }
   ],
   "source": [
    "## COUNTPLOT 3\n",
    "\n",
    "## run the chi2_contingency on tech_support and churn based on the crosstab\n",
    "\n",
    "chi2_ts_ch, p_ts_ch, degf_ts_ch, expected_ts_ch = stats.chi2_contingency(observed_ts_ch)\n",
    "\n",
    "chi2_ts_ch, p_ts_ch, degf_ts_ch, expected_ts_ch\n"
   ]
  },
  {
   "cell_type": "code",
   "execution_count": 60,
   "id": "0873c6af",
   "metadata": {},
   "outputs": [
    {
     "name": "stdout",
     "output_type": "stream",
     "text": [
      "Observed Values For Tech Support And Churn :\n",
      "\n",
      "[[1227  852]\n",
      " [ 849   74]\n",
      " [1028  195]]\n",
      "\n",
      "-.-.-.-.-\n",
      "\n",
      "Expected Values For Tech Support And Churn :\n",
      "\n",
      "[[1527  551]\n",
      " [ 678  244]\n",
      " [ 898  324]]\n",
      "\n",
      "-.-.-.-.-\n",
      "\n",
      "chi^2 = 455.3211\n",
      "p-value = 0.0000\n",
      "\n",
      "-.-.-.-.-\n",
      "\n",
      "Is the p-value < α ? True\n"
     ]
    }
   ],
   "source": [
    "## COUNTPLOT 3\n",
    "\n",
    "α = 0.05\n",
    "\n",
    "# print 'Observed Values' followed by a new line\n",
    "print('Observed Values For Tech Support And Churn :\\n')\n",
    "\n",
    "\n",
    "# print the values from the 'observed' dataframe\n",
    "print(observed_ts_ch.values)\n",
    "\n",
    "print('')\n",
    "\n",
    "# print -.-.-.-.- and then a new line, 'Expected Values', followed by another new line\n",
    "print('-.-.-.-.-\\n')\n",
    "print('Expected Values For Tech Support And Churn :\\n')\n",
    "\n",
    "\n",
    "# print the expected values array\n",
    "print(expected_ts_ch.astype(int))\n",
    "\n",
    "print('')\n",
    "\n",
    "print('-.-.-.-.-\\n')\n",
    "\n",
    "\n",
    "# print the chi2 value, formatted to a float with 4 digits. \n",
    "print(f'chi^2 = {chi2_ts_ch:.4f}') \n",
    "\n",
    "\n",
    "# print the p-value, formatted to a float with 4 digits {p:.4f}. \n",
    "print(f'p-value = {p_ts_ch:.4f}')\n",
    "\n",
    "print('')\n",
    "\n",
    "print('-.-.-.-.-\\n')\n",
    "\n",
    "print(f'Is the p-value < α ?', p_ts_ch < α)\n",
    "\n",
    "# We know that the Expected values are not close to the Observed values due to the p-value being lower than α."
   ]
  },
  {
   "cell_type": "markdown",
   "id": "bf3fbf0d",
   "metadata": {},
   "source": [
    "**Takeaways, COUNTPLOT 3 :**  \n",
    "The Observed values for Countplot 3 appear very different from the Expected values in the contingency tables ; the Chi-Square test indicates that there is a relationship between customer purchase of tech support and customer churn, due to the extremely low p-value. We, thus, reject the null hypothesis."
   ]
  },
  {
   "cell_type": "code",
   "execution_count": null,
   "id": "1d551645",
   "metadata": {},
   "outputs": [],
   "source": []
  },
  {
   "cell_type": "code",
   "execution_count": null,
   "id": "eeecb8fa",
   "metadata": {},
   "outputs": [],
   "source": []
  },
  {
   "cell_type": "markdown",
   "id": "5fe4f710",
   "metadata": {},
   "source": [
    "**This will use the Chi-Square statistical test to explore Countplot 2, whether use of paperless billing has an influence on churn rate.**  \n",
    "\n",
    "- $H_{0}$ (Null Hypothesis): There is no relationship between use of paperless billing and customer churn. \n",
    "\n",
    "- $H_{a}$ (Alternative Hypothesis): There is a relationship between use of paperless billing and customer churn. \n"
   ]
  },
  {
   "cell_type": "code",
   "execution_count": 55,
   "id": "859f47be",
   "metadata": {},
   "outputs": [
    {
     "data": {
      "text/plain": [
       "<matplotlib.legend.Legend at 0x132909040>"
      ]
     },
     "execution_count": 55,
     "metadata": {},
     "output_type": "execute_result"
    },
    {
     "data": {
      "image/png": "[encoded data removed]",
      "text/plain": [
       "<Figure size 640x480 with 1 Axes>"
      ]
     },
     "metadata": {},
     "output_type": "display_data"
    }
   ],
   "source": [
    "# COUNTPLOT 2 : churn vs paperless billing\n",
    "\n",
    "paperless = sns.countplot(x = train.churn, hue = train.paperless_billing_Yes, color = 'green')\n",
    "\n",
    "paperless.set(ylabel = 'Customers with paperless billing', xlabel = 'Customer churn based on paperless billing')\n",
    "\n",
    "plt.legend(loc = 'upper right', title = '0 = no paperless billing, 1 = paperless billing')\n",
    "\n",
    "\n",
    "# 0 = no paperless billing, 1 = paperless billing"
   ]
  },
  {
   "cell_type": "code",
   "execution_count": 56,
   "id": "0bf5b632",
   "metadata": {},
   "outputs": [
    {
     "data": {
      "text/html": [
       "<div>\n",
       "<style scoped>\n",
       "    .dataframe tbody tr th:only-of-type {\n",
       "        vertical-align: middle;\n",
       "    }\n",
       "\n",
       "    .dataframe tbody tr th {\n",
       "        vertical-align: top;\n",
       "    }\n",
       "\n",
       "    .dataframe thead th {\n",
       "        text-align: right;\n",
       "    }\n",
       "</style>\n",
       "<table border=\"1\" class=\"dataframe\">\n",
       "  <thead>\n",
       "    <tr style=\"text-align: right;\">\n",
       "      <th>churn</th>\n",
       "      <th>No</th>\n",
       "      <th>Yes</th>\n",
       "    </tr>\n",
       "    <tr>\n",
       "      <th>paperless_billing_Yes</th>\n",
       "      <th></th>\n",
       "      <th></th>\n",
       "    </tr>\n",
       "  </thead>\n",
       "  <tbody>\n",
       "    <tr>\n",
       "      <th>0</th>\n",
       "      <td>1433</td>\n",
       "      <td>283</td>\n",
       "    </tr>\n",
       "    <tr>\n",
       "      <th>1</th>\n",
       "      <td>1671</td>\n",
       "      <td>838</td>\n",
       "    </tr>\n",
       "  </tbody>\n",
       "</table>\n",
       "</div>"
      ],
      "text/plain": [
       "churn                    No  Yes\n",
       "paperless_billing_Yes           \n",
       "0                      1433  283\n",
       "1                      1671  838"
      ]
     },
     "execution_count": 56,
     "metadata": {},
     "output_type": "execute_result"
    }
   ],
   "source": [
    "## COUNTPLOT 2\n",
    "\n",
    "# observed crosstab of paperless billing (0 = no, 1 = yes) and churn (no, yes)\n",
    "\n",
    "# crosstab is the number of observations in each location of the table\n",
    "\n",
    "observed_pb_ch = pd.crosstab(train.paperless_billing_Yes, train.churn)\n",
    "observed_pb_ch"
   ]
  },
  {
   "cell_type": "code",
   "execution_count": 57,
   "id": "7710e7e3",
   "metadata": {},
   "outputs": [
    {
     "data": {
      "text/plain": [
       "(148.58446697144495,\n",
       " 3.5348504574964642e-34,\n",
       " 1,\n",
       " array([[1260.70153846,  455.29846154],\n",
       "        [1843.29846154,  665.70153846]]))"
      ]
     },
     "execution_count": 57,
     "metadata": {},
     "output_type": "execute_result"
    }
   ],
   "source": [
    "## COUNTPLOT 2\n",
    "\n",
    "## run the chi2_contingency on tech_support and churn based on the crosstab\n",
    "\n",
    "chi2_pb_ch, p_pb_ch, degf_pb_ch, expected_pb_ch = stats.chi2_contingency(observed_pb_ch)\n",
    "\n",
    "chi2_pb_ch, p_pb_ch, degf_pb_ch, expected_pb_ch"
   ]
  },
  {
   "cell_type": "code",
   "execution_count": 59,
   "id": "da308f42",
   "metadata": {},
   "outputs": [
    {
     "name": "stdout",
     "output_type": "stream",
     "text": [
      "Observed Values For Paperless Billing And Churn :\n",
      "\n",
      "[[1433  283]\n",
      " [1671  838]]\n",
      "\n",
      "-.-.-.-.-\n",
      "\n",
      "Expected Values For Paperless Billing And Churn :\n",
      "\n",
      "[[1260  455]\n",
      " [1843  665]]\n",
      "\n",
      "-.-.-.-.-\n",
      "\n",
      "chi^2 = 148.5845\n",
      "p-value = 0.0000\n",
      "\n",
      "-.-.-.-.-\n",
      "\n",
      "Is the p-value < α ? True\n"
     ]
    }
   ],
   "source": [
    "## COUNTPLOT 2\n",
    "\n",
    "α = 0.05\n",
    "\n",
    "# print 'Observed Values' followed by a new line\n",
    "print('Observed Values For Paperless Billing And Churn :\\n')\n",
    "\n",
    "\n",
    "# print the values from the 'observed' dataframe\n",
    "print(observed_pb_ch.values)\n",
    "\n",
    "print('')\n",
    "\n",
    "\n",
    "# print -.-.-.-.- and then a new line, 'Expected Values', followed by another new line\n",
    "print('-.-.-.-.-\\n')\n",
    "print('Expected Values For Paperless Billing And Churn :\\n')\n",
    "\n",
    "\n",
    "# print the expected values array\n",
    "print(expected_pb_ch.astype(int))\n",
    "# this turns the floats into integers, for readability\n",
    "\n",
    "print('')\n",
    "\n",
    "# print a new line\n",
    "print('-.-.-.-.-\\n')\n",
    "\n",
    "\n",
    "# print the chi2 value, formatted to a float with 4 digits. \n",
    "print(f'chi^2 = {chi2_pb_ch:.4f}') \n",
    "\n",
    "\n",
    "# print the p-value, formatted to a float with 4 digits {p:.4f}. \n",
    "print(f'p-value = {p_pb_ch:.4f}')\n",
    "\n",
    "print('')\n",
    "\n",
    "print('-.-.-.-.-\\n')\n",
    "\n",
    "print(f'Is the p-value < α ?', p_pb_ch < α)\n",
    "\n",
    "# We know that the Expected values are not close to the Observed values due to the p-value being lower than α."
   ]
  },
  {
   "cell_type": "markdown",
   "id": "0bf70813",
   "metadata": {},
   "source": [
    "**Takeaways, COUNTPLOT 2 :**  \n",
    "The Observed values for Countplot 2 appear very different from the Expected values in the contingency tables ; the Chi-Square test indicates that there is a relationship between customer use of paperless billing and customer churn, due to the extremely low p-value. We, thus, reject the null hypothesis."
   ]
  },
  {
   "cell_type": "code",
   "execution_count": null,
   "id": "a8ba3ded",
   "metadata": {},
   "outputs": [],
   "source": []
  },
  {
   "cell_type": "code",
   "execution_count": null,
   "id": "c66a9f39",
   "metadata": {},
   "outputs": [],
   "source": []
  }
 ],
 "metadata": {
  "kernelspec": {
   "display_name": "Python 3 (ipykernel)",
   "language": "python",
   "name": "python3"
  },
  "language_info": {
   "codemirror_mode": {
    "name": "ipython",
    "version": 3
   },
   "file_extension": ".py",
   "mimetype": "text/x-python",
   "name": "python",
   "nbconvert_exporter": "python",
   "pygments_lexer": "ipython3",
   "version": "3.9.13"
  }
 },
 "nbformat": 4,
 "nbformat_minor": 5
}
