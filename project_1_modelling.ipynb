{
 "cells": [
  {
   "cell_type": "code",
   "execution_count": 1,
   "id": "2a8cfc61",
   "metadata": {},
   "outputs": [],
   "source": [
    "# IMPORTS\n",
    "\n",
    "import os\n",
    "import env\n",
    "\n",
    "import pandas as pd\n",
    "\n",
    "import numpy as np\n",
    "import matplotlib.pyplot as plt\n",
    "import seaborn as sns\n",
    "import scipy\n",
    "\n",
    "from math import sqrt\n",
    "from scipy import stats\n",
    "\n",
    "# import our my acquire module\n",
    "import acquire\n",
    "import prepare\n",
    "\n",
    "\n",
    "# import splitting, imputing and modelling functions\n",
    "from sklearn.model_selection import train_test_split\n",
    "from sklearn.impute import SimpleImputer\n",
    "from prepare import my_train_test_split, telco_training_validate_testing\n",
    "\n",
    "from sklearn.tree import DecisionTreeClassifier, plot_tree\n",
    "from sklearn.metrics import classification_report, confusion_matrix, plot_confusion_matrix\n",
    "\n",
    "from sklearn.neighbors import KNeighborsClassifier\n",
    "\n",
    "# turn off pink warning boxes\n",
    "import warnings\n",
    "warnings.filterwarnings(\"ignore\")"
   ]
  },
  {
   "cell_type": "code",
   "execution_count": 2,
   "id": "107c14d5",
   "metadata": {},
   "outputs": [],
   "source": [
    "# obtaining the prepared Telco dataset.\n",
    "\n",
    "telco_df = acquire.get_telco_data(env.sql_connexion)\n",
    "tidy_telco = prepare.prep_telco(telco_df)"
   ]
  },
  {
   "cell_type": "code",
   "execution_count": 3,
   "id": "8c378234",
   "metadata": {},
   "outputs": [
    {
     "name": "stdout",
     "output_type": "stream",
     "text": [
      "<class 'pandas.core.frame.DataFrame'>\n",
      "RangeIndex: 7043 entries, 0 to 7042\n",
      "Data columns (total 31 columns):\n",
      " #   Column                 Non-Null Count  Dtype  \n",
      "---  ------                 --------------  -----  \n",
      " 0   customer_id            7043 non-null   object \n",
      " 1   gender                 7043 non-null   object \n",
      " 2   senior_citizen         7043 non-null   int64  \n",
      " 3   partner                7043 non-null   object \n",
      " 4   dependents             7043 non-null   object \n",
      " 5   tenure                 7043 non-null   int64  \n",
      " 6   phone_service          7043 non-null   object \n",
      " 7   multiple_lines         7043 non-null   object \n",
      " 8   online_security        7043 non-null   object \n",
      " 9   online_backup          7043 non-null   object \n",
      " 10  device_protection      7043 non-null   object \n",
      " 11  tech_support           7043 non-null   object \n",
      " 12  streaming_tv           7043 non-null   object \n",
      " 13  streaming_movies       7043 non-null   object \n",
      " 14  paperless_billing      7043 non-null   object \n",
      " 15  monthly_charges        7043 non-null   float64\n",
      " 16  total_charges          7043 non-null   object \n",
      " 17  churn                  7043 non-null   object \n",
      " 18  contract_type          7043 non-null   object \n",
      " 19  internet_service_type  7043 non-null   object \n",
      " 20  payment_type           7043 non-null   object \n",
      " 21  gender_Female          7043 non-null   uint8  \n",
      " 22  gender_Male            7043 non-null   uint8  \n",
      " 23  partner_No             7043 non-null   uint8  \n",
      " 24  partner_Yes            7043 non-null   uint8  \n",
      " 25  dependents_No          7043 non-null   uint8  \n",
      " 26  dependents_Yes         7043 non-null   uint8  \n",
      " 27  paperless_billing_No   7043 non-null   uint8  \n",
      " 28  paperless_billing_Yes  7043 non-null   uint8  \n",
      " 29  churn_No               7043 non-null   uint8  \n",
      " 30  churn_Yes              7043 non-null   uint8  \n",
      "dtypes: float64(1), int64(2), object(18), uint8(10)\n",
      "memory usage: 1.2+ MB\n"
     ]
    }
   ],
   "source": [
    "tidy_telco.info()"
   ]
  },
  {
   "cell_type": "code",
   "execution_count": 4,
   "id": "cdcd46ce",
   "metadata": {},
   "outputs": [],
   "source": [
    "#dropping any possible nulls\n",
    "\n",
    "tidy_telco = tidy_telco.dropna()"
   ]
  },
  {
   "cell_type": "code",
   "execution_count": null,
   "id": "e52b2d91",
   "metadata": {},
   "outputs": [],
   "source": []
  },
  {
   "cell_type": "code",
   "execution_count": 5,
   "id": "2605f201",
   "metadata": {},
   "outputs": [
    {
     "data": {
      "text/html": [
       "<div>\n",
       "<style scoped>\n",
       "    .dataframe tbody tr th:only-of-type {\n",
       "        vertical-align: middle;\n",
       "    }\n",
       "\n",
       "    .dataframe tbody tr th {\n",
       "        vertical-align: top;\n",
       "    }\n",
       "\n",
       "    .dataframe thead th {\n",
       "        text-align: right;\n",
       "    }\n",
       "</style>\n",
       "<table border=\"1\" class=\"dataframe\">\n",
       "  <thead>\n",
       "    <tr style=\"text-align: right;\">\n",
       "      <th></th>\n",
       "      <th>tech_support_No internet service</th>\n",
       "      <th>tech_support_Yes</th>\n",
       "      <th>internet_service_type_Fiber optic</th>\n",
       "      <th>internet_service_type_None</th>\n",
       "    </tr>\n",
       "  </thead>\n",
       "  <tbody>\n",
       "    <tr>\n",
       "      <th>0</th>\n",
       "      <td>0</td>\n",
       "      <td>1</td>\n",
       "      <td>0</td>\n",
       "      <td>0</td>\n",
       "    </tr>\n",
       "    <tr>\n",
       "      <th>1</th>\n",
       "      <td>0</td>\n",
       "      <td>0</td>\n",
       "      <td>0</td>\n",
       "      <td>0</td>\n",
       "    </tr>\n",
       "    <tr>\n",
       "      <th>2</th>\n",
       "      <td>0</td>\n",
       "      <td>0</td>\n",
       "      <td>1</td>\n",
       "      <td>0</td>\n",
       "    </tr>\n",
       "    <tr>\n",
       "      <th>3</th>\n",
       "      <td>0</td>\n",
       "      <td>0</td>\n",
       "      <td>1</td>\n",
       "      <td>0</td>\n",
       "    </tr>\n",
       "    <tr>\n",
       "      <th>4</th>\n",
       "      <td>0</td>\n",
       "      <td>1</td>\n",
       "      <td>1</td>\n",
       "      <td>0</td>\n",
       "    </tr>\n",
       "    <tr>\n",
       "      <th>...</th>\n",
       "      <td>...</td>\n",
       "      <td>...</td>\n",
       "      <td>...</td>\n",
       "      <td>...</td>\n",
       "    </tr>\n",
       "    <tr>\n",
       "      <th>7038</th>\n",
       "      <td>0</td>\n",
       "      <td>1</td>\n",
       "      <td>0</td>\n",
       "      <td>0</td>\n",
       "    </tr>\n",
       "    <tr>\n",
       "      <th>7039</th>\n",
       "      <td>0</td>\n",
       "      <td>0</td>\n",
       "      <td>1</td>\n",
       "      <td>0</td>\n",
       "    </tr>\n",
       "    <tr>\n",
       "      <th>7040</th>\n",
       "      <td>0</td>\n",
       "      <td>0</td>\n",
       "      <td>0</td>\n",
       "      <td>0</td>\n",
       "    </tr>\n",
       "    <tr>\n",
       "      <th>7041</th>\n",
       "      <td>0</td>\n",
       "      <td>1</td>\n",
       "      <td>0</td>\n",
       "      <td>0</td>\n",
       "    </tr>\n",
       "    <tr>\n",
       "      <th>7042</th>\n",
       "      <td>0</td>\n",
       "      <td>0</td>\n",
       "      <td>0</td>\n",
       "      <td>0</td>\n",
       "    </tr>\n",
       "  </tbody>\n",
       "</table>\n",
       "<p>7043 rows × 4 columns</p>\n",
       "</div>"
      ],
      "text/plain": [
       "      tech_support_No internet service  tech_support_Yes  \\\n",
       "0                                    0                 1   \n",
       "1                                    0                 0   \n",
       "2                                    0                 0   \n",
       "3                                    0                 0   \n",
       "4                                    0                 1   \n",
       "...                                ...               ...   \n",
       "7038                                 0                 1   \n",
       "7039                                 0                 0   \n",
       "7040                                 0                 0   \n",
       "7041                                 0                 1   \n",
       "7042                                 0                 0   \n",
       "\n",
       "      internet_service_type_Fiber optic  internet_service_type_None  \n",
       "0                                     0                           0  \n",
       "1                                     0                           0  \n",
       "2                                     1                           0  \n",
       "3                                     1                           0  \n",
       "4                                     1                           0  \n",
       "...                                 ...                         ...  \n",
       "7038                                  0                           0  \n",
       "7039                                  1                           0  \n",
       "7040                                  0                           0  \n",
       "7041                                  0                           0  \n",
       "7042                                  0                           0  \n",
       "\n",
       "[7043 rows x 4 columns]"
      ]
     },
     "execution_count": 5,
     "metadata": {},
     "output_type": "execute_result"
    }
   ],
   "source": [
    "# creating dummies in order to help machine learning and modelling\n",
    "\n",
    "dummies = pd.get_dummies(tidy_telco[['tech_support', 'internet_service_type']], drop_first = True)\n",
    "\n",
    "dummies"
   ]
  },
  {
   "cell_type": "code",
   "execution_count": null,
   "id": "d3605118",
   "metadata": {},
   "outputs": [],
   "source": []
  },
  {
   "cell_type": "code",
   "execution_count": 6,
   "id": "84dcda31",
   "metadata": {},
   "outputs": [
    {
     "data": {
      "text/html": [
       "<div>\n",
       "<style scoped>\n",
       "    .dataframe tbody tr th:only-of-type {\n",
       "        vertical-align: middle;\n",
       "    }\n",
       "\n",
       "    .dataframe tbody tr th {\n",
       "        vertical-align: top;\n",
       "    }\n",
       "\n",
       "    .dataframe thead th {\n",
       "        text-align: right;\n",
       "    }\n",
       "</style>\n",
       "<table border=\"1\" class=\"dataframe\">\n",
       "  <thead>\n",
       "    <tr style=\"text-align: right;\">\n",
       "      <th></th>\n",
       "      <th>customer_id</th>\n",
       "      <th>gender</th>\n",
       "      <th>senior_citizen</th>\n",
       "      <th>partner</th>\n",
       "      <th>dependents</th>\n",
       "      <th>tenure</th>\n",
       "      <th>phone_service</th>\n",
       "      <th>multiple_lines</th>\n",
       "      <th>online_security</th>\n",
       "      <th>online_backup</th>\n",
       "      <th>...</th>\n",
       "      <th>dependents_No</th>\n",
       "      <th>dependents_Yes</th>\n",
       "      <th>paperless_billing_No</th>\n",
       "      <th>paperless_billing_Yes</th>\n",
       "      <th>churn_No</th>\n",
       "      <th>churn_Yes</th>\n",
       "      <th>tech_support_No internet service</th>\n",
       "      <th>tech_support_Yes</th>\n",
       "      <th>internet_service_type_Fiber optic</th>\n",
       "      <th>internet_service_type_None</th>\n",
       "    </tr>\n",
       "  </thead>\n",
       "  <tbody>\n",
       "    <tr>\n",
       "      <th>0</th>\n",
       "      <td>0002-ORFBO</td>\n",
       "      <td>Female</td>\n",
       "      <td>0</td>\n",
       "      <td>Yes</td>\n",
       "      <td>Yes</td>\n",
       "      <td>9</td>\n",
       "      <td>Yes</td>\n",
       "      <td>No</td>\n",
       "      <td>No</td>\n",
       "      <td>Yes</td>\n",
       "      <td>...</td>\n",
       "      <td>0</td>\n",
       "      <td>1</td>\n",
       "      <td>0</td>\n",
       "      <td>1</td>\n",
       "      <td>1</td>\n",
       "      <td>0</td>\n",
       "      <td>0</td>\n",
       "      <td>1</td>\n",
       "      <td>0</td>\n",
       "      <td>0</td>\n",
       "    </tr>\n",
       "    <tr>\n",
       "      <th>1</th>\n",
       "      <td>0003-MKNFE</td>\n",
       "      <td>Male</td>\n",
       "      <td>0</td>\n",
       "      <td>No</td>\n",
       "      <td>No</td>\n",
       "      <td>9</td>\n",
       "      <td>Yes</td>\n",
       "      <td>Yes</td>\n",
       "      <td>No</td>\n",
       "      <td>No</td>\n",
       "      <td>...</td>\n",
       "      <td>1</td>\n",
       "      <td>0</td>\n",
       "      <td>1</td>\n",
       "      <td>0</td>\n",
       "      <td>1</td>\n",
       "      <td>0</td>\n",
       "      <td>0</td>\n",
       "      <td>0</td>\n",
       "      <td>0</td>\n",
       "      <td>0</td>\n",
       "    </tr>\n",
       "    <tr>\n",
       "      <th>2</th>\n",
       "      <td>0004-TLHLJ</td>\n",
       "      <td>Male</td>\n",
       "      <td>0</td>\n",
       "      <td>No</td>\n",
       "      <td>No</td>\n",
       "      <td>4</td>\n",
       "      <td>Yes</td>\n",
       "      <td>No</td>\n",
       "      <td>No</td>\n",
       "      <td>No</td>\n",
       "      <td>...</td>\n",
       "      <td>1</td>\n",
       "      <td>0</td>\n",
       "      <td>0</td>\n",
       "      <td>1</td>\n",
       "      <td>0</td>\n",
       "      <td>1</td>\n",
       "      <td>0</td>\n",
       "      <td>0</td>\n",
       "      <td>1</td>\n",
       "      <td>0</td>\n",
       "    </tr>\n",
       "    <tr>\n",
       "      <th>3</th>\n",
       "      <td>0011-IGKFF</td>\n",
       "      <td>Male</td>\n",
       "      <td>1</td>\n",
       "      <td>Yes</td>\n",
       "      <td>No</td>\n",
       "      <td>13</td>\n",
       "      <td>Yes</td>\n",
       "      <td>No</td>\n",
       "      <td>No</td>\n",
       "      <td>Yes</td>\n",
       "      <td>...</td>\n",
       "      <td>1</td>\n",
       "      <td>0</td>\n",
       "      <td>0</td>\n",
       "      <td>1</td>\n",
       "      <td>0</td>\n",
       "      <td>1</td>\n",
       "      <td>0</td>\n",
       "      <td>0</td>\n",
       "      <td>1</td>\n",
       "      <td>0</td>\n",
       "    </tr>\n",
       "    <tr>\n",
       "      <th>4</th>\n",
       "      <td>0013-EXCHZ</td>\n",
       "      <td>Female</td>\n",
       "      <td>1</td>\n",
       "      <td>Yes</td>\n",
       "      <td>No</td>\n",
       "      <td>3</td>\n",
       "      <td>Yes</td>\n",
       "      <td>No</td>\n",
       "      <td>No</td>\n",
       "      <td>No</td>\n",
       "      <td>...</td>\n",
       "      <td>1</td>\n",
       "      <td>0</td>\n",
       "      <td>0</td>\n",
       "      <td>1</td>\n",
       "      <td>0</td>\n",
       "      <td>1</td>\n",
       "      <td>0</td>\n",
       "      <td>1</td>\n",
       "      <td>1</td>\n",
       "      <td>0</td>\n",
       "    </tr>\n",
       "  </tbody>\n",
       "</table>\n",
       "<p>5 rows × 35 columns</p>\n",
       "</div>"
      ],
      "text/plain": [
       "  customer_id  gender  senior_citizen partner dependents  tenure  \\\n",
       "0  0002-ORFBO  Female               0     Yes        Yes       9   \n",
       "1  0003-MKNFE    Male               0      No         No       9   \n",
       "2  0004-TLHLJ    Male               0      No         No       4   \n",
       "3  0011-IGKFF    Male               1     Yes         No      13   \n",
       "4  0013-EXCHZ  Female               1     Yes         No       3   \n",
       "\n",
       "  phone_service multiple_lines online_security online_backup  ...  \\\n",
       "0           Yes             No              No           Yes  ...   \n",
       "1           Yes            Yes              No            No  ...   \n",
       "2           Yes             No              No            No  ...   \n",
       "3           Yes             No              No           Yes  ...   \n",
       "4           Yes             No              No            No  ...   \n",
       "\n",
       "  dependents_No dependents_Yes paperless_billing_No paperless_billing_Yes  \\\n",
       "0             0              1                    0                     1   \n",
       "1             1              0                    1                     0   \n",
       "2             1              0                    0                     1   \n",
       "3             1              0                    0                     1   \n",
       "4             1              0                    0                     1   \n",
       "\n",
       "  churn_No  churn_Yes tech_support_No internet service tech_support_Yes  \\\n",
       "0        1          0                                0                1   \n",
       "1        1          0                                0                0   \n",
       "2        0          1                                0                0   \n",
       "3        0          1                                0                0   \n",
       "4        0          1                                0                1   \n",
       "\n",
       "  internet_service_type_Fiber optic internet_service_type_None  \n",
       "0                                 0                          0  \n",
       "1                                 0                          0  \n",
       "2                                 1                          0  \n",
       "3                                 1                          0  \n",
       "4                                 1                          0  \n",
       "\n",
       "[5 rows x 35 columns]"
      ]
     },
     "execution_count": 6,
     "metadata": {},
     "output_type": "execute_result"
    }
   ],
   "source": [
    "# concatenating dummies to the tidy_telco dataframe\n",
    "\n",
    "tidy_telco = pd.concat([tidy_telco, dummies], axis = 1)\n",
    "tidy_telco.head()"
   ]
  },
  {
   "cell_type": "code",
   "execution_count": 7,
   "id": "47401456",
   "metadata": {},
   "outputs": [],
   "source": [
    "# dropping columns unnecessary for modelling (namely, objects and columns with dummies created for them)\n",
    "\n",
    "drop_columns = ['customer_id', 'gender', 'partner', 'dependents', 'tenure', 'phone_service', 'multiple_lines',\n",
    "               'online_security', 'online_backup', 'device_protection', 'streaming_tv','streaming_movies', \n",
    "                'total_charges', 'gender_Female', 'gender_Male', 'partner_No', 'partner_Yes', 'dependents_No',\n",
    "                'dependents_Yes', 'payment_type', 'contract_type', 'churn', 'paperless_billing', 'tech_support', \n",
    "               'internet_service_type']"
   ]
  },
  {
   "cell_type": "code",
   "execution_count": 8,
   "id": "aa473ae6",
   "metadata": {},
   "outputs": [
    {
     "data": {
      "text/html": [
       "<div>\n",
       "<style scoped>\n",
       "    .dataframe tbody tr th:only-of-type {\n",
       "        vertical-align: middle;\n",
       "    }\n",
       "\n",
       "    .dataframe tbody tr th {\n",
       "        vertical-align: top;\n",
       "    }\n",
       "\n",
       "    .dataframe thead th {\n",
       "        text-align: right;\n",
       "    }\n",
       "</style>\n",
       "<table border=\"1\" class=\"dataframe\">\n",
       "  <thead>\n",
       "    <tr style=\"text-align: right;\">\n",
       "      <th></th>\n",
       "      <th>senior_citizen</th>\n",
       "      <th>monthly_charges</th>\n",
       "      <th>paperless_billing_No</th>\n",
       "      <th>paperless_billing_Yes</th>\n",
       "      <th>churn_No</th>\n",
       "      <th>churn_Yes</th>\n",
       "      <th>tech_support_No internet service</th>\n",
       "      <th>tech_support_Yes</th>\n",
       "      <th>internet_service_type_Fiber optic</th>\n",
       "      <th>internet_service_type_None</th>\n",
       "    </tr>\n",
       "  </thead>\n",
       "  <tbody>\n",
       "    <tr>\n",
       "      <th>0</th>\n",
       "      <td>0</td>\n",
       "      <td>65.6</td>\n",
       "      <td>0</td>\n",
       "      <td>1</td>\n",
       "      <td>1</td>\n",
       "      <td>0</td>\n",
       "      <td>0</td>\n",
       "      <td>1</td>\n",
       "      <td>0</td>\n",
       "      <td>0</td>\n",
       "    </tr>\n",
       "    <tr>\n",
       "      <th>1</th>\n",
       "      <td>0</td>\n",
       "      <td>59.9</td>\n",
       "      <td>1</td>\n",
       "      <td>0</td>\n",
       "      <td>1</td>\n",
       "      <td>0</td>\n",
       "      <td>0</td>\n",
       "      <td>0</td>\n",
       "      <td>0</td>\n",
       "      <td>0</td>\n",
       "    </tr>\n",
       "    <tr>\n",
       "      <th>2</th>\n",
       "      <td>0</td>\n",
       "      <td>73.9</td>\n",
       "      <td>0</td>\n",
       "      <td>1</td>\n",
       "      <td>0</td>\n",
       "      <td>1</td>\n",
       "      <td>0</td>\n",
       "      <td>0</td>\n",
       "      <td>1</td>\n",
       "      <td>0</td>\n",
       "    </tr>\n",
       "    <tr>\n",
       "      <th>3</th>\n",
       "      <td>1</td>\n",
       "      <td>98.0</td>\n",
       "      <td>0</td>\n",
       "      <td>1</td>\n",
       "      <td>0</td>\n",
       "      <td>1</td>\n",
       "      <td>0</td>\n",
       "      <td>0</td>\n",
       "      <td>1</td>\n",
       "      <td>0</td>\n",
       "    </tr>\n",
       "    <tr>\n",
       "      <th>4</th>\n",
       "      <td>1</td>\n",
       "      <td>83.9</td>\n",
       "      <td>0</td>\n",
       "      <td>1</td>\n",
       "      <td>0</td>\n",
       "      <td>1</td>\n",
       "      <td>0</td>\n",
       "      <td>1</td>\n",
       "      <td>1</td>\n",
       "      <td>0</td>\n",
       "    </tr>\n",
       "  </tbody>\n",
       "</table>\n",
       "</div>"
      ],
      "text/plain": [
       "   senior_citizen  monthly_charges  paperless_billing_No  \\\n",
       "0               0             65.6                     0   \n",
       "1               0             59.9                     1   \n",
       "2               0             73.9                     0   \n",
       "3               1             98.0                     0   \n",
       "4               1             83.9                     0   \n",
       "\n",
       "   paperless_billing_Yes  churn_No  churn_Yes  \\\n",
       "0                      1         1          0   \n",
       "1                      0         1          0   \n",
       "2                      1         0          1   \n",
       "3                      1         0          1   \n",
       "4                      1         0          1   \n",
       "\n",
       "   tech_support_No internet service  tech_support_Yes  \\\n",
       "0                                 0                 1   \n",
       "1                                 0                 0   \n",
       "2                                 0                 0   \n",
       "3                                 0                 0   \n",
       "4                                 0                 1   \n",
       "\n",
       "   internet_service_type_Fiber optic  internet_service_type_None  \n",
       "0                                  0                           0  \n",
       "1                                  0                           0  \n",
       "2                                  1                           0  \n",
       "3                                  1                           0  \n",
       "4                                  1                           0  "
      ]
     },
     "execution_count": 8,
     "metadata": {},
     "output_type": "execute_result"
    }
   ],
   "source": [
    "# dropping columns for machine learning purposes\n",
    "\n",
    "tidy_telco.drop(columns = drop_columns, inplace = True)\n",
    "\n",
    "tidy_telco.head()"
   ]
  },
  {
   "cell_type": "code",
   "execution_count": null,
   "id": "662c34a1",
   "metadata": {},
   "outputs": [],
   "source": []
  },
  {
   "cell_type": "code",
   "execution_count": 9,
   "id": "6684de6a",
   "metadata": {},
   "outputs": [
    {
     "name": "stdout",
     "output_type": "stream",
     "text": [
      "<class 'pandas.core.frame.DataFrame'>\n",
      "RangeIndex: 7043 entries, 0 to 7042\n",
      "Data columns (total 10 columns):\n",
      " #   Column                             Non-Null Count  Dtype  \n",
      "---  ------                             --------------  -----  \n",
      " 0   senior_citizen                     7043 non-null   int64  \n",
      " 1   monthly_charges                    7043 non-null   float64\n",
      " 2   paperless_billing_No               7043 non-null   uint8  \n",
      " 3   paperless_billing_Yes              7043 non-null   uint8  \n",
      " 4   churn_No                           7043 non-null   uint8  \n",
      " 5   churn_Yes                          7043 non-null   uint8  \n",
      " 6   tech_support_No internet service   7043 non-null   uint8  \n",
      " 7   tech_support_Yes                   7043 non-null   uint8  \n",
      " 8   internet_service_type_Fiber optic  7043 non-null   uint8  \n",
      " 9   internet_service_type_None         7043 non-null   uint8  \n",
      "dtypes: float64(1), int64(1), uint8(8)\n",
      "memory usage: 165.2 KB\n"
     ]
    }
   ],
   "source": [
    "# checking values in tidy_telco\n",
    "\n",
    "tidy_telco.info()"
   ]
  },
  {
   "cell_type": "code",
   "execution_count": null,
   "id": "2f6419ca",
   "metadata": {},
   "outputs": [],
   "source": []
  },
  {
   "cell_type": "code",
   "execution_count": 10,
   "id": "e1231efc",
   "metadata": {},
   "outputs": [
    {
     "data": {
      "text/plain": [
       "((4225, 10), (1409, 10), (1409, 10))"
      ]
     },
     "execution_count": 10,
     "metadata": {},
     "output_type": "execute_result"
    }
   ],
   "source": [
    "# splitting into train-validate-test\n",
    "\n",
    "\n",
    "train, validate, test = my_train_test_split(tidy_telco, target = 'churn_No')\n",
    "\n",
    "train.shape, validate.shape, test.shape\n"
   ]
  },
  {
   "cell_type": "code",
   "execution_count": null,
   "id": "9774cb9c",
   "metadata": {},
   "outputs": [],
   "source": []
  },
  {
   "cell_type": "code",
   "execution_count": 11,
   "id": "ac02894a",
   "metadata": {},
   "outputs": [
    {
     "data": {
      "text/html": [
       "<div>\n",
       "<style scoped>\n",
       "    .dataframe tbody tr th:only-of-type {\n",
       "        vertical-align: middle;\n",
       "    }\n",
       "\n",
       "    .dataframe tbody tr th {\n",
       "        vertical-align: top;\n",
       "    }\n",
       "\n",
       "    .dataframe thead th {\n",
       "        text-align: right;\n",
       "    }\n",
       "</style>\n",
       "<table border=\"1\" class=\"dataframe\">\n",
       "  <thead>\n",
       "    <tr style=\"text-align: right;\">\n",
       "      <th></th>\n",
       "      <th>senior_citizen</th>\n",
       "      <th>monthly_charges</th>\n",
       "      <th>paperless_billing_No</th>\n",
       "      <th>paperless_billing_Yes</th>\n",
       "      <th>churn_No</th>\n",
       "      <th>churn_Yes</th>\n",
       "      <th>tech_support_No internet service</th>\n",
       "      <th>tech_support_Yes</th>\n",
       "      <th>internet_service_type_Fiber optic</th>\n",
       "      <th>internet_service_type_None</th>\n",
       "    </tr>\n",
       "  </thead>\n",
       "  <tbody>\n",
       "    <tr>\n",
       "      <th>3441</th>\n",
       "      <td>0</td>\n",
       "      <td>92.15</td>\n",
       "      <td>0</td>\n",
       "      <td>1</td>\n",
       "      <td>1</td>\n",
       "      <td>0</td>\n",
       "      <td>0</td>\n",
       "      <td>0</td>\n",
       "      <td>1</td>\n",
       "      <td>0</td>\n",
       "    </tr>\n",
       "    <tr>\n",
       "      <th>1266</th>\n",
       "      <td>0</td>\n",
       "      <td>79.80</td>\n",
       "      <td>0</td>\n",
       "      <td>1</td>\n",
       "      <td>1</td>\n",
       "      <td>0</td>\n",
       "      <td>0</td>\n",
       "      <td>0</td>\n",
       "      <td>1</td>\n",
       "      <td>0</td>\n",
       "    </tr>\n",
       "    <tr>\n",
       "      <th>5086</th>\n",
       "      <td>0</td>\n",
       "      <td>62.25</td>\n",
       "      <td>1</td>\n",
       "      <td>0</td>\n",
       "      <td>1</td>\n",
       "      <td>0</td>\n",
       "      <td>0</td>\n",
       "      <td>1</td>\n",
       "      <td>0</td>\n",
       "      <td>0</td>\n",
       "    </tr>\n",
       "    <tr>\n",
       "      <th>5279</th>\n",
       "      <td>1</td>\n",
       "      <td>60.25</td>\n",
       "      <td>1</td>\n",
       "      <td>0</td>\n",
       "      <td>1</td>\n",
       "      <td>0</td>\n",
       "      <td>0</td>\n",
       "      <td>0</td>\n",
       "      <td>0</td>\n",
       "      <td>0</td>\n",
       "    </tr>\n",
       "    <tr>\n",
       "      <th>134</th>\n",
       "      <td>0</td>\n",
       "      <td>84.30</td>\n",
       "      <td>1</td>\n",
       "      <td>0</td>\n",
       "      <td>1</td>\n",
       "      <td>0</td>\n",
       "      <td>0</td>\n",
       "      <td>0</td>\n",
       "      <td>1</td>\n",
       "      <td>0</td>\n",
       "    </tr>\n",
       "    <tr>\n",
       "      <th>...</th>\n",
       "      <td>...</td>\n",
       "      <td>...</td>\n",
       "      <td>...</td>\n",
       "      <td>...</td>\n",
       "      <td>...</td>\n",
       "      <td>...</td>\n",
       "      <td>...</td>\n",
       "      <td>...</td>\n",
       "      <td>...</td>\n",
       "      <td>...</td>\n",
       "    </tr>\n",
       "    <tr>\n",
       "      <th>2791</th>\n",
       "      <td>0</td>\n",
       "      <td>19.20</td>\n",
       "      <td>0</td>\n",
       "      <td>1</td>\n",
       "      <td>1</td>\n",
       "      <td>0</td>\n",
       "      <td>1</td>\n",
       "      <td>0</td>\n",
       "      <td>0</td>\n",
       "      <td>1</td>\n",
       "    </tr>\n",
       "    <tr>\n",
       "      <th>6776</th>\n",
       "      <td>0</td>\n",
       "      <td>20.55</td>\n",
       "      <td>1</td>\n",
       "      <td>0</td>\n",
       "      <td>1</td>\n",
       "      <td>0</td>\n",
       "      <td>1</td>\n",
       "      <td>0</td>\n",
       "      <td>0</td>\n",
       "      <td>1</td>\n",
       "    </tr>\n",
       "    <tr>\n",
       "      <th>141</th>\n",
       "      <td>0</td>\n",
       "      <td>45.00</td>\n",
       "      <td>1</td>\n",
       "      <td>0</td>\n",
       "      <td>1</td>\n",
       "      <td>0</td>\n",
       "      <td>0</td>\n",
       "      <td>0</td>\n",
       "      <td>0</td>\n",
       "      <td>0</td>\n",
       "    </tr>\n",
       "    <tr>\n",
       "      <th>5053</th>\n",
       "      <td>1</td>\n",
       "      <td>60.70</td>\n",
       "      <td>1</td>\n",
       "      <td>0</td>\n",
       "      <td>1</td>\n",
       "      <td>0</td>\n",
       "      <td>0</td>\n",
       "      <td>0</td>\n",
       "      <td>0</td>\n",
       "      <td>0</td>\n",
       "    </tr>\n",
       "    <tr>\n",
       "      <th>6996</th>\n",
       "      <td>0</td>\n",
       "      <td>49.85</td>\n",
       "      <td>1</td>\n",
       "      <td>0</td>\n",
       "      <td>1</td>\n",
       "      <td>0</td>\n",
       "      <td>0</td>\n",
       "      <td>1</td>\n",
       "      <td>0</td>\n",
       "      <td>0</td>\n",
       "    </tr>\n",
       "  </tbody>\n",
       "</table>\n",
       "<p>3104 rows × 10 columns</p>\n",
       "</div>"
      ],
      "text/plain": [
       "      senior_citizen  monthly_charges  paperless_billing_No  \\\n",
       "3441               0            92.15                     0   \n",
       "1266               0            79.80                     0   \n",
       "5086               0            62.25                     1   \n",
       "5279               1            60.25                     1   \n",
       "134                0            84.30                     1   \n",
       "...              ...              ...                   ...   \n",
       "2791               0            19.20                     0   \n",
       "6776               0            20.55                     1   \n",
       "141                0            45.00                     1   \n",
       "5053               1            60.70                     1   \n",
       "6996               0            49.85                     1   \n",
       "\n",
       "      paperless_billing_Yes  churn_No  churn_Yes  \\\n",
       "3441                      1         1          0   \n",
       "1266                      1         1          0   \n",
       "5086                      0         1          0   \n",
       "5279                      0         1          0   \n",
       "134                       0         1          0   \n",
       "...                     ...       ...        ...   \n",
       "2791                      1         1          0   \n",
       "6776                      0         1          0   \n",
       "141                       0         1          0   \n",
       "5053                      0         1          0   \n",
       "6996                      0         1          0   \n",
       "\n",
       "      tech_support_No internet service  tech_support_Yes  \\\n",
       "3441                                 0                 0   \n",
       "1266                                 0                 0   \n",
       "5086                                 0                 1   \n",
       "5279                                 0                 0   \n",
       "134                                  0                 0   \n",
       "...                                ...               ...   \n",
       "2791                                 1                 0   \n",
       "6776                                 1                 0   \n",
       "141                                  0                 0   \n",
       "5053                                 0                 0   \n",
       "6996                                 0                 1   \n",
       "\n",
       "      internet_service_type_Fiber optic  internet_service_type_None  \n",
       "3441                                  1                           0  \n",
       "1266                                  1                           0  \n",
       "5086                                  0                           0  \n",
       "5279                                  0                           0  \n",
       "134                                   1                           0  \n",
       "...                                 ...                         ...  \n",
       "2791                                  0                           1  \n",
       "6776                                  0                           1  \n",
       "141                                   0                           0  \n",
       "5053                                  0                           0  \n",
       "6996                                  0                           0  \n",
       "\n",
       "[3104 rows x 10 columns]"
      ]
     },
     "execution_count": 11,
     "metadata": {},
     "output_type": "execute_result"
    }
   ],
   "source": [
    "# # baseline for churn is no-churn (ie, ['churn_No'] == '1').\n",
    "\n",
    "train[train.churn_No == 1]\n",
    "\n",
    "# churn_Yes = 0. // 0 = False, thus, if churn_Yes is False, then the customer has not churned\n",
    "# if churn_Yes = 1, then churn_Yes is true, and the customer has churned"
   ]
  },
  {
   "cell_type": "code",
   "execution_count": 12,
   "id": "9362160f",
   "metadata": {},
   "outputs": [
    {
     "data": {
      "text/plain": [
       "0.7346745562130178"
      ]
     },
     "execution_count": 12,
     "metadata": {},
     "output_type": "execute_result"
    }
   ],
   "source": [
    "baseline = (train.churn_No == 1).mean()\n",
    "baseline\n",
    "# how many customers did not churn\n",
    "# my baseline is abotu 73.46pc"
   ]
  },
  {
   "cell_type": "code",
   "execution_count": null,
   "id": "8cac7937",
   "metadata": {},
   "outputs": [],
   "source": []
  },
  {
   "cell_type": "code",
   "execution_count": null,
   "id": "6b4e67f6",
   "metadata": {},
   "outputs": [],
   "source": []
  },
  {
   "cell_type": "code",
   "execution_count": 13,
   "id": "94fb5709",
   "metadata": {},
   "outputs": [
    {
     "data": {
      "text/plain": [
       "1    3104\n",
       "0    1121\n",
       "Name: churn_No, dtype: int64"
      ]
     },
     "execution_count": 13,
     "metadata": {},
     "output_type": "execute_result"
    }
   ],
   "source": [
    "# comparing the 'churn' and 'churn_No' columns\n",
    "\n",
    "train.churn_No.value_counts()\n",
    "\n",
    "# 1 = True (ie, no-churned)."
   ]
  },
  {
   "cell_type": "code",
   "execution_count": null,
   "id": "c797392a",
   "metadata": {},
   "outputs": [],
   "source": []
  },
  {
   "cell_type": "code",
   "execution_count": 14,
   "id": "3eee25c0",
   "metadata": {},
   "outputs": [],
   "source": [
    "## split train, val, test from above into X_train, X_val, X_test and y-train, etc\n",
    "# y_train is only our target\n",
    "# X_ is everything except for 'churn_Yes' and 'churn_No'\n",
    "\n",
    "\n",
    "X_train = train.drop(columns = ['churn_Yes', 'churn_No'])\n",
    "y_train = train['churn_No']\n",
    "\n",
    "X_val = validate.drop(columns = ['churn_Yes', 'churn_No'])\n",
    "y_val = validate['churn_No']\n",
    "\n",
    "X_test = test.drop(columns = ['churn_Yes', 'churn_No'])\n",
    "y_test = test['churn_No']"
   ]
  },
  {
   "cell_type": "code",
   "execution_count": 15,
   "id": "02ddb3c1",
   "metadata": {},
   "outputs": [
    {
     "name": "stdout",
     "output_type": "stream",
     "text": [
      "<class 'pandas.core.frame.DataFrame'>\n",
      "Int64Index: 4225 entries, 3441 to 6996\n",
      "Data columns (total 8 columns):\n",
      " #   Column                             Non-Null Count  Dtype  \n",
      "---  ------                             --------------  -----  \n",
      " 0   senior_citizen                     4225 non-null   int64  \n",
      " 1   monthly_charges                    4225 non-null   float64\n",
      " 2   paperless_billing_No               4225 non-null   uint8  \n",
      " 3   paperless_billing_Yes              4225 non-null   uint8  \n",
      " 4   tech_support_No internet service   4225 non-null   uint8  \n",
      " 5   tech_support_Yes                   4225 non-null   uint8  \n",
      " 6   internet_service_type_Fiber optic  4225 non-null   uint8  \n",
      " 7   internet_service_type_None         4225 non-null   uint8  \n",
      "dtypes: float64(1), int64(1), uint8(6)\n",
      "memory usage: 123.8 KB\n"
     ]
    }
   ],
   "source": [
    "X_train.info()"
   ]
  },
  {
   "cell_type": "code",
   "execution_count": 16,
   "id": "aae6c016",
   "metadata": {},
   "outputs": [
    {
     "name": "stdout",
     "output_type": "stream",
     "text": [
      "<class 'pandas.core.frame.DataFrame'>\n",
      "Int64Index: 1409 entries, 2742 to 3864\n",
      "Data columns (total 8 columns):\n",
      " #   Column                             Non-Null Count  Dtype  \n",
      "---  ------                             --------------  -----  \n",
      " 0   senior_citizen                     1409 non-null   int64  \n",
      " 1   monthly_charges                    1409 non-null   float64\n",
      " 2   paperless_billing_No               1409 non-null   uint8  \n",
      " 3   paperless_billing_Yes              1409 non-null   uint8  \n",
      " 4   tech_support_No internet service   1409 non-null   uint8  \n",
      " 5   tech_support_Yes                   1409 non-null   uint8  \n",
      " 6   internet_service_type_Fiber optic  1409 non-null   uint8  \n",
      " 7   internet_service_type_None         1409 non-null   uint8  \n",
      "dtypes: float64(1), int64(1), uint8(6)\n",
      "memory usage: 41.3 KB\n"
     ]
    }
   ],
   "source": [
    "X_val.info()"
   ]
  },
  {
   "cell_type": "code",
   "execution_count": 17,
   "id": "d2c07dee",
   "metadata": {},
   "outputs": [
    {
     "data": {
      "text/html": [
       "<div>\n",
       "<style scoped>\n",
       "    .dataframe tbody tr th:only-of-type {\n",
       "        vertical-align: middle;\n",
       "    }\n",
       "\n",
       "    .dataframe tbody tr th {\n",
       "        vertical-align: top;\n",
       "    }\n",
       "\n",
       "    .dataframe thead th {\n",
       "        text-align: right;\n",
       "    }\n",
       "</style>\n",
       "<table border=\"1\" class=\"dataframe\">\n",
       "  <thead>\n",
       "    <tr style=\"text-align: right;\">\n",
       "      <th></th>\n",
       "      <th>senior_citizen</th>\n",
       "      <th>monthly_charges</th>\n",
       "      <th>paperless_billing_No</th>\n",
       "      <th>paperless_billing_Yes</th>\n",
       "      <th>tech_support_No internet service</th>\n",
       "      <th>tech_support_Yes</th>\n",
       "      <th>internet_service_type_Fiber optic</th>\n",
       "      <th>internet_service_type_None</th>\n",
       "    </tr>\n",
       "  </thead>\n",
       "  <tbody>\n",
       "    <tr>\n",
       "      <th>3441</th>\n",
       "      <td>0</td>\n",
       "      <td>92.15</td>\n",
       "      <td>0</td>\n",
       "      <td>1</td>\n",
       "      <td>0</td>\n",
       "      <td>0</td>\n",
       "      <td>1</td>\n",
       "      <td>0</td>\n",
       "    </tr>\n",
       "    <tr>\n",
       "      <th>289</th>\n",
       "      <td>0</td>\n",
       "      <td>20.90</td>\n",
       "      <td>1</td>\n",
       "      <td>0</td>\n",
       "      <td>1</td>\n",
       "      <td>0</td>\n",
       "      <td>0</td>\n",
       "      <td>1</td>\n",
       "    </tr>\n",
       "    <tr>\n",
       "      <th>1266</th>\n",
       "      <td>0</td>\n",
       "      <td>79.80</td>\n",
       "      <td>0</td>\n",
       "      <td>1</td>\n",
       "      <td>0</td>\n",
       "      <td>0</td>\n",
       "      <td>1</td>\n",
       "      <td>0</td>\n",
       "    </tr>\n",
       "    <tr>\n",
       "      <th>275</th>\n",
       "      <td>1</td>\n",
       "      <td>101.50</td>\n",
       "      <td>0</td>\n",
       "      <td>1</td>\n",
       "      <td>0</td>\n",
       "      <td>0</td>\n",
       "      <td>1</td>\n",
       "      <td>0</td>\n",
       "    </tr>\n",
       "    <tr>\n",
       "      <th>5086</th>\n",
       "      <td>0</td>\n",
       "      <td>62.25</td>\n",
       "      <td>1</td>\n",
       "      <td>0</td>\n",
       "      <td>0</td>\n",
       "      <td>1</td>\n",
       "      <td>0</td>\n",
       "      <td>0</td>\n",
       "    </tr>\n",
       "  </tbody>\n",
       "</table>\n",
       "</div>"
      ],
      "text/plain": [
       "      senior_citizen  monthly_charges  paperless_billing_No  \\\n",
       "3441               0            92.15                     0   \n",
       "289                0            20.90                     1   \n",
       "1266               0            79.80                     0   \n",
       "275                1           101.50                     0   \n",
       "5086               0            62.25                     1   \n",
       "\n",
       "      paperless_billing_Yes  tech_support_No internet service  \\\n",
       "3441                      1                                 0   \n",
       "289                       0                                 1   \n",
       "1266                      1                                 0   \n",
       "275                       1                                 0   \n",
       "5086                      0                                 0   \n",
       "\n",
       "      tech_support_Yes  internet_service_type_Fiber optic  \\\n",
       "3441                 0                                  1   \n",
       "289                  0                                  0   \n",
       "1266                 0                                  1   \n",
       "275                  0                                  1   \n",
       "5086                 1                                  0   \n",
       "\n",
       "      internet_service_type_None  \n",
       "3441                           0  \n",
       "289                            1  \n",
       "1266                           0  \n",
       "275                            0  \n",
       "5086                           0  "
      ]
     },
     "execution_count": 17,
     "metadata": {},
     "output_type": "execute_result"
    }
   ],
   "source": [
    "X_train.head()"
   ]
  },
  {
   "cell_type": "code",
   "execution_count": null,
   "id": "10989967",
   "metadata": {},
   "outputs": [],
   "source": []
  },
  {
   "cell_type": "markdown",
   "id": "819ff13e",
   "metadata": {},
   "source": [
    "### Modelling on the Decision Tree"
   ]
  },
  {
   "cell_type": "code",
   "execution_count": null,
   "id": "1158b144",
   "metadata": {},
   "outputs": [],
   "source": []
  },
  {
   "cell_type": "code",
   "execution_count": 18,
   "id": "6ab82a43",
   "metadata": {},
   "outputs": [],
   "source": [
    "# initialise the Decision Tree Classifier = clf\n",
    "\n",
    "seed = 23\n",
    "\n",
    "clf = DecisionTreeClassifier(max_depth = 3, random_state = seed)"
   ]
  },
  {
   "cell_type": "code",
   "execution_count": 19,
   "id": "7dc14e8f",
   "metadata": {
    "scrolled": true
   },
   "outputs": [
    {
     "data": {
      "text/html": [
       "<style>#sk-container-id-1 {color: black;background-color: white;}#sk-container-id-1 pre{padding: 0;}#sk-container-id-1 div.sk-toggleable {background-color: white;}#sk-container-id-1 label.sk-toggleable__label {cursor: pointer;display: block;width: 100%;margin-bottom: 0;padding: 0.3em;box-sizing: border-box;text-align: center;}#sk-container-id-1 label.sk-toggleable__label-arrow:before {content: \"▸\";float: left;margin-right: 0.25em;color: #696969;}#sk-container-id-1 label.sk-toggleable__label-arrow:hover:before {color: black;}#sk-container-id-1 div.sk-estimator:hover label.sk-toggleable__label-arrow:before {color: black;}#sk-container-id-1 div.sk-toggleable__content {max-height: 0;max-width: 0;overflow: hidden;text-align: left;background-color: #f0f8ff;}#sk-container-id-1 div.sk-toggleable__content pre {margin: 0.2em;color: black;border-radius: 0.25em;background-color: #f0f8ff;}#sk-container-id-1 input.sk-toggleable__control:checked~div.sk-toggleable__content {max-height: 200px;max-width: 100%;overflow: auto;}#sk-container-id-1 input.sk-toggleable__control:checked~label.sk-toggleable__label-arrow:before {content: \"▾\";}#sk-container-id-1 div.sk-estimator input.sk-toggleable__control:checked~label.sk-toggleable__label {background-color: #d4ebff;}#sk-container-id-1 div.sk-label input.sk-toggleable__control:checked~label.sk-toggleable__label {background-color: #d4ebff;}#sk-container-id-1 input.sk-hidden--visually {border: 0;clip: rect(1px 1px 1px 1px);clip: rect(1px, 1px, 1px, 1px);height: 1px;margin: -1px;overflow: hidden;padding: 0;position: absolute;width: 1px;}#sk-container-id-1 div.sk-estimator {font-family: monospace;background-color: #f0f8ff;border: 1px dotted black;border-radius: 0.25em;box-sizing: border-box;margin-bottom: 0.5em;}#sk-container-id-1 div.sk-estimator:hover {background-color: #d4ebff;}#sk-container-id-1 div.sk-parallel-item::after {content: \"\";width: 100%;border-bottom: 1px solid gray;flex-grow: 1;}#sk-container-id-1 div.sk-label:hover label.sk-toggleable__label {background-color: #d4ebff;}#sk-container-id-1 div.sk-serial::before {content: \"\";position: absolute;border-left: 1px solid gray;box-sizing: border-box;top: 0;bottom: 0;left: 50%;z-index: 0;}#sk-container-id-1 div.sk-serial {display: flex;flex-direction: column;align-items: center;background-color: white;padding-right: 0.2em;padding-left: 0.2em;position: relative;}#sk-container-id-1 div.sk-item {position: relative;z-index: 1;}#sk-container-id-1 div.sk-parallel {display: flex;align-items: stretch;justify-content: center;background-color: white;position: relative;}#sk-container-id-1 div.sk-item::before, #sk-container-id-1 div.sk-parallel-item::before {content: \"\";position: absolute;border-left: 1px solid gray;box-sizing: border-box;top: 0;bottom: 0;left: 50%;z-index: -1;}#sk-container-id-1 div.sk-parallel-item {display: flex;flex-direction: column;z-index: 1;position: relative;background-color: white;}#sk-container-id-1 div.sk-parallel-item:first-child::after {align-self: flex-end;width: 50%;}#sk-container-id-1 div.sk-parallel-item:last-child::after {align-self: flex-start;width: 50%;}#sk-container-id-1 div.sk-parallel-item:only-child::after {width: 0;}#sk-container-id-1 div.sk-dashed-wrapped {border: 1px dashed gray;margin: 0 0.4em 0.5em 0.4em;box-sizing: border-box;padding-bottom: 0.4em;background-color: white;}#sk-container-id-1 div.sk-label label {font-family: monospace;font-weight: bold;display: inline-block;line-height: 1.2em;}#sk-container-id-1 div.sk-label-container {text-align: center;}#sk-container-id-1 div.sk-container {/* jupyter's `normalize.less` sets `[hidden] { display: none; }` but bootstrap.min.css set `[hidden] { display: none !important; }` so we also need the `!important` here to be able to override the default hidden behavior on the sphinx rendered scikit-learn.org. See: https://github.com/scikit-learn/scikit-learn/issues/21755 */display: inline-block !important;position: relative;}#sk-container-id-1 div.sk-text-repr-fallback {display: none;}</style><div id=\"sk-container-id-1\" class=\"sk-top-container\"><div class=\"sk-text-repr-fallback\"><pre>DecisionTreeClassifier(max_depth=3, random_state=23)</pre><b>In a Jupyter environment, please rerun this cell to show the HTML representation or trust the notebook. <br />On GitHub, the HTML representation is unable to render, please try loading this page with nbviewer.org.</b></div><div class=\"sk-container\" hidden><div class=\"sk-item\"><div class=\"sk-estimator sk-toggleable\"><input class=\"sk-toggleable__control sk-hidden--visually\" id=\"sk-estimator-id-1\" type=\"checkbox\" checked><label for=\"sk-estimator-id-1\" class=\"sk-toggleable__label sk-toggleable__label-arrow\">DecisionTreeClassifier</label><div class=\"sk-toggleable__content\"><pre>DecisionTreeClassifier(max_depth=3, random_state=23)</pre></div></div></div></div></div>"
      ],
      "text/plain": [
       "DecisionTreeClassifier(max_depth=3, random_state=23)"
      ]
     },
     "execution_count": 19,
     "metadata": {},
     "output_type": "execute_result"
    }
   ],
   "source": [
    "# fitting the model : \n",
    "    # it must know the features and the labels, in order to associate them with one another.\n",
    "    \n",
    "# with this step, the model has been trained.\n",
    "\n",
    "clf = clf.fit(X_train, y_train)\n",
    "clf"
   ]
  },
  {
   "cell_type": "code",
   "execution_count": 20,
   "id": "f7a60a0c",
   "metadata": {},
   "outputs": [
    {
     "data": {
      "text/plain": [
       "0.7505325443786982"
      ]
     },
     "execution_count": 20,
     "metadata": {},
     "output_type": "execute_result"
    }
   ],
   "source": [
    "# Examining accuracy of Decision Tree Classifier model :\n",
    "# prediction on the X_train set against the y_train reality.\n",
    "\n",
    "\n",
    "clf.score(X_train, y_train)\n",
    "\n",
    "# the X_train data is compared against y_train : 75.03pc accuracy"
   ]
  },
  {
   "cell_type": "code",
   "execution_count": 21,
   "id": "17d3128a",
   "metadata": {},
   "outputs": [
    {
     "data": {
      "image/png": "[encoded data removed]",
      "text/plain": [
       "<Figure size 3500x2500 with 1 Axes>"
      ]
     },
     "metadata": {},
     "output_type": "display_data"
    }
   ],
   "source": [
    "# plotting the Decision Tree \n",
    "\n",
    "plt.figure(figsize = (35, 25))\n",
    "\n",
    "plot_tree(clf, rounded = False)\n",
    "\n",
    "plt.show()\n",
    "\n",
    "\n",
    "# max depth of 3 = three layers of decisions / splits being made in data"
   ]
  },
  {
   "cell_type": "code",
   "execution_count": 22,
   "id": "dbdcd557",
   "metadata": {},
   "outputs": [
    {
     "data": {
      "text/plain": [
       "array([1, 1, 0, 1, 1, 1, 0, 1, 1, 1, 1, 1, 1, 1, 1, 1, 1, 1, 1, 1],\n",
       "      dtype=uint8)"
      ]
     },
     "execution_count": 22,
     "metadata": {},
     "output_type": "execute_result"
    }
   ],
   "source": [
    "# predictions for churn are on the X_train ; true values are on y_train\n",
    "\n",
    "y_train_predictions = clf.predict(X_train)\n",
    "\n",
    "y_train_predictions[0:20]\n",
    "\n"
   ]
  },
  {
   "cell_type": "code",
   "execution_count": null,
   "id": "e8aed0db",
   "metadata": {},
   "outputs": [],
   "source": []
  },
  {
   "cell_type": "code",
   "execution_count": 23,
   "id": "8e737d28",
   "metadata": {},
   "outputs": [
    {
     "data": {
      "text/plain": [
       "array([[0.43103448, 0.56896552],\n",
       "       [0.08513514, 0.91486486],\n",
       "       [0.55098935, 0.44901065],\n",
       "       [0.43103448, 0.56896552],\n",
       "       [0.1011984 , 0.8988016 ],\n",
       "       [0.1011984 , 0.8988016 ],\n",
       "       [0.55098935, 0.44901065],\n",
       "       [0.29264706, 0.70735294],\n",
       "       [0.1011984 , 0.8988016 ],\n",
       "       [0.43103448, 0.56896552],\n",
       "       [0.29264706, 0.70735294],\n",
       "       [0.29264706, 0.70735294],\n",
       "       [0.43103448, 0.56896552],\n",
       "       [0.0273224 , 0.9726776 ],\n",
       "       [0.1011984 , 0.8988016 ],\n",
       "       [0.08513514, 0.91486486],\n",
       "       [0.1011984 , 0.8988016 ],\n",
       "       [0.29264706, 0.70735294],\n",
       "       [0.43103448, 0.56896552],\n",
       "       [0.1011984 , 0.8988016 ]])"
      ]
     },
     "execution_count": 23,
     "metadata": {},
     "output_type": "execute_result"
    }
   ],
   "source": [
    "# estimating the probability of churn for each customer based on X_train\n",
    "\n",
    "y_predict_prob = clf.predict_proba(X_train)\n",
    "y_predict_prob[0:20]\n",
    "\n",
    "# each row adds up to 1 (F prob / T prob)"
   ]
  },
  {
   "cell_type": "code",
   "execution_count": 24,
   "id": "6a8dab53",
   "metadata": {},
   "outputs": [
    {
     "name": "stdout",
     "output_type": "stream",
     "text": [
      "Classification Report For Training Dataset \n",
      "  \n",
      "               precision    recall  f1-score   support\n",
      "\n",
      "           0       0.55      0.32      0.41      1121\n",
      "           1       0.79      0.90      0.84      3104\n",
      "\n",
      "    accuracy                           0.75      4225\n",
      "   macro avg       0.67      0.61      0.62      4225\n",
      "weighted avg       0.72      0.75      0.73      4225\n",
      "\n"
     ]
    }
   ],
   "source": [
    "## print the classification report :\n",
    "\n",
    "print(f'Classification Report For Training Dataset \\n  \\n {classification_report(y_train, y_train_predictions)}')\n",
    "\n",
    "# Accuracy of 75pc"
   ]
  },
  {
   "cell_type": "code",
   "execution_count": 25,
   "id": "c6854b1e",
   "metadata": {},
   "outputs": [
    {
     "data": {
      "text/plain": [
       "0.7505325443786982"
      ]
     },
     "execution_count": 25,
     "metadata": {},
     "output_type": "execute_result"
    }
   ],
   "source": [
    "# Turning the training accuracy score into a useable variable \n",
    "\n",
    "train_accuracy = clf.score(X_train, y_train)\n",
    "train_accuracy"
   ]
  },
  {
   "cell_type": "code",
   "execution_count": null,
   "id": "56f20106",
   "metadata": {},
   "outputs": [],
   "source": []
  },
  {
   "cell_type": "code",
   "execution_count": 26,
   "id": "ea96e900",
   "metadata": {},
   "outputs": [
    {
     "name": "stdout",
     "output_type": "stream",
     "text": [
      "The accuracy of the Decision Tree Classifier on the training dataset is 0.7505.  \n",
      "The baseline accuracy for customer churn is 0.7347, meaning that about\n",
      "     73.47pc of customers will NOT churn.\n"
     ]
    }
   ],
   "source": [
    "# printing statment that makes sense to the general public :\n",
    "\n",
    "print(f'The accuracy of the Decision Tree Classifier on the training dataset is{train_accuracy: .4f}.  \\n'\n",
    "      f'The baseline accuracy for customer churn is{baseline: .4f}, meaning that about\\n' \n",
    "      '     73.47pc of customers will NOT churn.')"
   ]
  },
  {
   "cell_type": "code",
   "execution_count": 27,
   "id": "64f0505f",
   "metadata": {},
   "outputs": [
    {
     "data": {
      "text/plain": [
       "array([[ 362,  759],\n",
       "       [ 295, 2809]])"
      ]
     },
     "execution_count": 27,
     "metadata": {},
     "output_type": "execute_result"
    }
   ],
   "source": [
    "# confusion matrix : A table of prediction vs actual\n",
    "\n",
    "confusion_matrix(y_train, y_train_predictions)"
   ]
  },
  {
   "cell_type": "code",
   "execution_count": 28,
   "id": "55593c70",
   "metadata": {},
   "outputs": [
    {
     "data": {
      "text/plain": [
       "<sklearn.metrics._plot.confusion_matrix.ConfusionMatrixDisplay at 0x125271d00>"
      ]
     },
     "execution_count": 28,
     "metadata": {},
     "output_type": "execute_result"
    },
    {
     "data": {
      "image/png": "[encoded data removed]",
      "text/plain": [
       "<Figure size 640x480 with 2 Axes>"
      ]
     },
     "metadata": {},
     "output_type": "display_data"
    }
   ],
   "source": [
    "## plotting the confusion matrix of clf\n",
    "\n",
    "plot_confusion_matrix(clf, X_train, y_train)"
   ]
  },
  {
   "cell_type": "code",
   "execution_count": 29,
   "id": "20e68b85",
   "metadata": {},
   "outputs": [],
   "source": [
    "# code necessary for the confusion matrix function to function\n",
    "\n",
    "y_preds = pd.DataFrame({\n",
    "    'y_act': y_train,\n",
    "    'baseline': 1,\n",
    "    'model_1': clf.predict(X_train)\n",
    "})\n"
   ]
  },
  {
   "cell_type": "code",
   "execution_count": 30,
   "id": "fec16820",
   "metadata": {},
   "outputs": [
    {
     "name": "stdout",
     "output_type": "stream",
     "text": [
      "TN = 362, FP = 759, FN = 295, TP = 2809\n"
     ]
    }
   ],
   "source": [
    "# assigning confusion matrix values to appropriate variables\n",
    "\n",
    "TN, FP, FN, TP = confusion_matrix(y_preds.y_act, y_preds.model_1).ravel()\n",
    "\n",
    "print(f'TN = {TN}, FP = {FP}, FN = {FN}, TP = {TP}')"
   ]
  },
  {
   "cell_type": "code",
   "execution_count": null,
   "id": "f8630f5d",
   "metadata": {},
   "outputs": [],
   "source": []
  },
  {
   "cell_type": "markdown",
   "id": "d8d96d9c",
   "metadata": {},
   "source": [
    "**The validation step, which folllows, of the Decision Tree Classifier authenticates the accuracy of the evaluation of the training dataset.**"
   ]
  },
  {
   "cell_type": "code",
   "execution_count": 31,
   "id": "d2f2bd4b",
   "metadata": {},
   "outputs": [
    {
     "data": {
      "text/plain": [
       "array([1, 0, 1, 0, 0, 1, 1, 1, 1, 1, 1, 1, 1, 1, 1, 1, 0, 1, 0, 1],\n",
       "      dtype=uint8)"
      ]
     },
     "execution_count": 31,
     "metadata": {},
     "output_type": "execute_result"
    }
   ],
   "source": [
    "#VALIDATION STEP\n",
    "\n",
    "y_val_predictions = clf.predict(X_val)\n",
    "y_val_predictions[0:20]\n",
    "\n",
    "# predicted on X_Val, true values are on y_val"
   ]
  },
  {
   "cell_type": "code",
   "execution_count": 32,
   "id": "f87ad530",
   "metadata": {},
   "outputs": [
    {
     "data": {
      "text/plain": [
       "array([[0.08513514, 0.91486486],\n",
       "       [0.55098935, 0.44901065],\n",
       "       [0.43103448, 0.56896552],\n",
       "       [0.55098935, 0.44901065],\n",
       "       [0.55098935, 0.44901065],\n",
       "       [0.29264706, 0.70735294],\n",
       "       [0.43103448, 0.56896552],\n",
       "       [0.0273224 , 0.9726776 ],\n",
       "       [0.29264706, 0.70735294],\n",
       "       [0.0273224 , 0.9726776 ],\n",
       "       [0.18632075, 0.81367925],\n",
       "       [0.43103448, 0.56896552],\n",
       "       [0.43103448, 0.56896552],\n",
       "       [0.29264706, 0.70735294],\n",
       "       [0.08513514, 0.91486486],\n",
       "       [0.43103448, 0.56896552],\n",
       "       [0.55098935, 0.44901065],\n",
       "       [0.43103448, 0.56896552],\n",
       "       [0.55098935, 0.44901065],\n",
       "       [0.18632075, 0.81367925]])"
      ]
     },
     "execution_count": 32,
     "metadata": {},
     "output_type": "execute_result"
    }
   ],
   "source": [
    "# estimating the probability of churn for each customer based on X_validate dataset\n",
    "\n",
    "y_val_pred_prob = clf.predict_proba(X_val)\n",
    "y_val_pred_prob[0:20]\n",
    "\n",
    "# each row adds up to 1 (F prob / T prob)"
   ]
  },
  {
   "cell_type": "code",
   "execution_count": 33,
   "id": "57bd98f3",
   "metadata": {},
   "outputs": [
    {
     "name": "stdout",
     "output_type": "stream",
     "text": [
      "Classification Report For Training Dataset \n",
      "  \n",
      "               precision    recall  f1-score   support\n",
      "\n",
      "           0       0.56      0.31      0.40       374\n",
      "           1       0.78      0.91      0.84      1035\n",
      "\n",
      "    accuracy                           0.75      1409\n",
      "   macro avg       0.67      0.61      0.62      1409\n",
      "weighted avg       0.73      0.75      0.73      1409\n",
      "\n"
     ]
    }
   ],
   "source": [
    "## print the classification report :\n",
    "\n",
    "print(f'Classification Report For Training Dataset \\n  \\n {classification_report(y_val, y_val_predictions)}')\n",
    "\n",
    "# Accuracy of 75pc"
   ]
  },
  {
   "cell_type": "code",
   "execution_count": 34,
   "id": "9b007653",
   "metadata": {},
   "outputs": [
    {
     "data": {
      "text/plain": [
       "0.752306600425834"
      ]
     },
     "execution_count": 34,
     "metadata": {},
     "output_type": "execute_result"
    }
   ],
   "source": [
    "# Turning the training accuracy score into a useable variable \n",
    "\n",
    "val_accuracy = clf.score(X_val, y_val)\n",
    "val_accuracy"
   ]
  },
  {
   "cell_type": "code",
   "execution_count": 35,
   "id": "096ea004",
   "metadata": {},
   "outputs": [
    {
     "name": "stdout",
     "output_type": "stream",
     "text": [
      "The accuracy of the Decision Tree Classifier on the validation dataset is 0.7523.  \n",
      "The baseline accuracy for customer churn is 0.7347.\n"
     ]
    }
   ],
   "source": [
    "# printing statment that makes sense to the general public :\n",
    "\n",
    "print(f'The accuracy of the Decision Tree Classifier on the validation dataset is{val_accuracy: .4f}.  \\n'\n",
    "      f'The baseline accuracy for customer churn is{baseline: .4f}.')"
   ]
  },
  {
   "cell_type": "code",
   "execution_count": null,
   "id": "9887e817",
   "metadata": {},
   "outputs": [],
   "source": []
  },
  {
   "cell_type": "markdown",
   "id": "0172d961",
   "metadata": {},
   "source": [
    "**Takeaways :**   \n",
    "The accuracy of the training dataset and the validation dataset was 75.05pc and 75.23pc, respectively.  \n",
    "Both of these results are higher than the baseline accuracy for customer churn, with 73.47pc who would not churn."
   ]
  },
  {
   "cell_type": "code",
   "execution_count": null,
   "id": "0adadbd7",
   "metadata": {},
   "outputs": [],
   "source": []
  },
  {
   "cell_type": "code",
   "execution_count": null,
   "id": "784d9890",
   "metadata": {},
   "outputs": [],
   "source": []
  },
  {
   "cell_type": "markdown",
   "id": "5aa7cc13",
   "metadata": {},
   "source": [
    "### Modelling based on K-Nearest Neighbor"
   ]
  },
  {
   "cell_type": "code",
   "execution_count": 36,
   "id": "98a1e626",
   "metadata": {},
   "outputs": [],
   "source": [
    "# creating the KNN variable for modelling\n",
    "# looking to 15 neighbours\n",
    "\n",
    "knn = KNeighborsClassifier(n_neighbors = 15)"
   ]
  },
  {
   "cell_type": "code",
   "execution_count": 37,
   "id": "f4f90be3",
   "metadata": {},
   "outputs": [
    {
     "data": {
      "text/html": [
       "<style>#sk-container-id-2 {color: black;background-color: white;}#sk-container-id-2 pre{padding: 0;}#sk-container-id-2 div.sk-toggleable {background-color: white;}#sk-container-id-2 label.sk-toggleable__label {cursor: pointer;display: block;width: 100%;margin-bottom: 0;padding: 0.3em;box-sizing: border-box;text-align: center;}#sk-container-id-2 label.sk-toggleable__label-arrow:before {content: \"▸\";float: left;margin-right: 0.25em;color: #696969;}#sk-container-id-2 label.sk-toggleable__label-arrow:hover:before {color: black;}#sk-container-id-2 div.sk-estimator:hover label.sk-toggleable__label-arrow:before {color: black;}#sk-container-id-2 div.sk-toggleable__content {max-height: 0;max-width: 0;overflow: hidden;text-align: left;background-color: #f0f8ff;}#sk-container-id-2 div.sk-toggleable__content pre {margin: 0.2em;color: black;border-radius: 0.25em;background-color: #f0f8ff;}#sk-container-id-2 input.sk-toggleable__control:checked~div.sk-toggleable__content {max-height: 200px;max-width: 100%;overflow: auto;}#sk-container-id-2 input.sk-toggleable__control:checked~label.sk-toggleable__label-arrow:before {content: \"▾\";}#sk-container-id-2 div.sk-estimator input.sk-toggleable__control:checked~label.sk-toggleable__label {background-color: #d4ebff;}#sk-container-id-2 div.sk-label input.sk-toggleable__control:checked~label.sk-toggleable__label {background-color: #d4ebff;}#sk-container-id-2 input.sk-hidden--visually {border: 0;clip: rect(1px 1px 1px 1px);clip: rect(1px, 1px, 1px, 1px);height: 1px;margin: -1px;overflow: hidden;padding: 0;position: absolute;width: 1px;}#sk-container-id-2 div.sk-estimator {font-family: monospace;background-color: #f0f8ff;border: 1px dotted black;border-radius: 0.25em;box-sizing: border-box;margin-bottom: 0.5em;}#sk-container-id-2 div.sk-estimator:hover {background-color: #d4ebff;}#sk-container-id-2 div.sk-parallel-item::after {content: \"\";width: 100%;border-bottom: 1px solid gray;flex-grow: 1;}#sk-container-id-2 div.sk-label:hover label.sk-toggleable__label {background-color: #d4ebff;}#sk-container-id-2 div.sk-serial::before {content: \"\";position: absolute;border-left: 1px solid gray;box-sizing: border-box;top: 0;bottom: 0;left: 50%;z-index: 0;}#sk-container-id-2 div.sk-serial {display: flex;flex-direction: column;align-items: center;background-color: white;padding-right: 0.2em;padding-left: 0.2em;position: relative;}#sk-container-id-2 div.sk-item {position: relative;z-index: 1;}#sk-container-id-2 div.sk-parallel {display: flex;align-items: stretch;justify-content: center;background-color: white;position: relative;}#sk-container-id-2 div.sk-item::before, #sk-container-id-2 div.sk-parallel-item::before {content: \"\";position: absolute;border-left: 1px solid gray;box-sizing: border-box;top: 0;bottom: 0;left: 50%;z-index: -1;}#sk-container-id-2 div.sk-parallel-item {display: flex;flex-direction: column;z-index: 1;position: relative;background-color: white;}#sk-container-id-2 div.sk-parallel-item:first-child::after {align-self: flex-end;width: 50%;}#sk-container-id-2 div.sk-parallel-item:last-child::after {align-self: flex-start;width: 50%;}#sk-container-id-2 div.sk-parallel-item:only-child::after {width: 0;}#sk-container-id-2 div.sk-dashed-wrapped {border: 1px dashed gray;margin: 0 0.4em 0.5em 0.4em;box-sizing: border-box;padding-bottom: 0.4em;background-color: white;}#sk-container-id-2 div.sk-label label {font-family: monospace;font-weight: bold;display: inline-block;line-height: 1.2em;}#sk-container-id-2 div.sk-label-container {text-align: center;}#sk-container-id-2 div.sk-container {/* jupyter's `normalize.less` sets `[hidden] { display: none; }` but bootstrap.min.css set `[hidden] { display: none !important; }` so we also need the `!important` here to be able to override the default hidden behavior on the sphinx rendered scikit-learn.org. See: https://github.com/scikit-learn/scikit-learn/issues/21755 */display: inline-block !important;position: relative;}#sk-container-id-2 div.sk-text-repr-fallback {display: none;}</style><div id=\"sk-container-id-2\" class=\"sk-top-container\"><div class=\"sk-text-repr-fallback\"><pre>KNeighborsClassifier()</pre><b>In a Jupyter environment, please rerun this cell to show the HTML representation or trust the notebook. <br />On GitHub, the HTML representation is unable to render, please try loading this page with nbviewer.org.</b></div><div class=\"sk-container\" hidden><div class=\"sk-item\"><div class=\"sk-estimator sk-toggleable\"><input class=\"sk-toggleable__control sk-hidden--visually\" id=\"sk-estimator-id-2\" type=\"checkbox\" checked><label for=\"sk-estimator-id-2\" class=\"sk-toggleable__label sk-toggleable__label-arrow\">KNeighborsClassifier</label><div class=\"sk-toggleable__content\"><pre>KNeighborsClassifier()</pre></div></div></div></div></div>"
      ],
      "text/plain": [
       "KNeighborsClassifier()"
      ]
     },
     "execution_count": 37,
     "metadata": {},
     "output_type": "execute_result"
    }
   ],
   "source": [
    "# training the KNN model\n",
    "\n",
    "knn.fit(X_train, y_train)\n",
    "\n"
   ]
  },
  {
   "cell_type": "code",
   "execution_count": 42,
   "id": "a050543f",
   "metadata": {},
   "outputs": [
    {
     "name": "stdout",
     "output_type": "stream",
     "text": [
      "The accuracy of the training dataset using the KNN model is 0.8104.\n"
     ]
    }
   ],
   "source": [
    "# scoring the model to determine how accurate the KNN model is. \n",
    "\n",
    "train_knn_score = knn.score(X_train, y_train)\n",
    "\n",
    "# we're predicting on the features (X_train, the first variable), and\n",
    "# comparing to the actual labels (the 2nd variable, y_train)\n",
    "\n",
    "print(f'The accuracy of the training dataset using the KNN model is{train_knn_score: .4f}.')"
   ]
  },
  {
   "cell_type": "code",
   "execution_count": 44,
   "id": "11ca9dea",
   "metadata": {},
   "outputs": [
    {
     "name": "stdout",
     "output_type": "stream",
     "text": [
      "The accuracy of the validation dataset using the KNN model is 0.7296.\n"
     ]
    }
   ],
   "source": [
    "# examining the accuracy of the validation dataset \n",
    "\n",
    "val_knn_score = knn.score(X_val, y_val)\n",
    "\n",
    "print(f'The accuracy of the validation dataset using the KNN model is{val_knn_score: .4f}.')"
   ]
  },
  {
   "cell_type": "code",
   "execution_count": null,
   "id": "28f90a0b",
   "metadata": {},
   "outputs": [],
   "source": []
  },
  {
   "cell_type": "code",
   "execution_count": null,
   "id": "ebef0072",
   "metadata": {},
   "outputs": [],
   "source": []
  }
 ],
 "metadata": {
  "kernelspec": {
   "display_name": "Python 3 (ipykernel)",
   "language": "python",
   "name": "python3"
  },
  "language_info": {
   "codemirror_mode": {
    "name": "ipython",
    "version": 3
   },
   "file_extension": ".py",
   "mimetype": "text/x-python",
   "name": "python",
   "nbconvert_exporter": "python",
   "pygments_lexer": "ipython3",
   "version": "3.9.13"
  }
 },
 "nbformat": 4,
 "nbformat_minor": 5
}
